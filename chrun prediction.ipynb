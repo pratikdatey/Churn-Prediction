{
 "cells": [
  {
   "cell_type": "code",
   "execution_count": 1,
   "id": "1c05ac3d",
   "metadata": {},
   "outputs": [],
   "source": [
    "import numpy as np\n",
    "import pandas as pd\n",
    "import matplotlib.pyplot as plt\n",
    "from sklearn.linear_model import LogisticRegression,SGDClassifier\n",
    "from sklearn.model_selection import train_test_split,GridSearchCV,cross_val_score\n",
    "import seaborn as sns\n",
    "from sklearn.metrics import accuracy_score,mean_squared_error,f1_score,classification_report\n",
    "from sklearn.feature_selection import SelectKBest,chi2,RFE\n",
    "from sklearn.neighbors import KNeighborsClassifier  \n",
    "from sklearn.ensemble import ExtraTreesClassifier,RandomForestClassifier,IsolationForest\n",
    "from sklearn.tree import DecisionTreeClassifier\n",
    "from sklearn.svm import SVC \n",
    "from sklearn.naive_bayes import GaussianNB,MultinomialNB,ComplementNB,BernoulliNB\n",
    "from sklearn.preprocessing import LabelEncoder,StandardScaler,MinMaxScaler"
   ]
  },
  {
   "cell_type": "code",
   "execution_count": 2,
   "id": "04633690",
   "metadata": {},
   "outputs": [
    {
     "data": {
      "text/html": [
       "<div>\n",
       "<style scoped>\n",
       "    .dataframe tbody tr th:only-of-type {\n",
       "        vertical-align: middle;\n",
       "    }\n",
       "\n",
       "    .dataframe tbody tr th {\n",
       "        vertical-align: top;\n",
       "    }\n",
       "\n",
       "    .dataframe thead th {\n",
       "        text-align: right;\n",
       "    }\n",
       "</style>\n",
       "<table border=\"1\" class=\"dataframe\">\n",
       "  <thead>\n",
       "    <tr style=\"text-align: right;\">\n",
       "      <th></th>\n",
       "      <th>ID</th>\n",
       "      <th>Age</th>\n",
       "      <th>Gender</th>\n",
       "      <th>Income</th>\n",
       "      <th>Balance</th>\n",
       "      <th>Vintage</th>\n",
       "      <th>Transaction_Status</th>\n",
       "      <th>Product_Holdings</th>\n",
       "      <th>Credit_Card</th>\n",
       "      <th>Credit_Category</th>\n",
       "      <th>Is_Churn</th>\n",
       "    </tr>\n",
       "  </thead>\n",
       "  <tbody>\n",
       "    <tr>\n",
       "      <th>0</th>\n",
       "      <td>84e2fcc9</td>\n",
       "      <td>36</td>\n",
       "      <td>Female</td>\n",
       "      <td>5L - 10L</td>\n",
       "      <td>563266.44</td>\n",
       "      <td>4</td>\n",
       "      <td>0</td>\n",
       "      <td>1</td>\n",
       "      <td>0</td>\n",
       "      <td>Average</td>\n",
       "      <td>1</td>\n",
       "    </tr>\n",
       "    <tr>\n",
       "      <th>1</th>\n",
       "      <td>57fea15e</td>\n",
       "      <td>53</td>\n",
       "      <td>Female</td>\n",
       "      <td>Less than 5L</td>\n",
       "      <td>875572.11</td>\n",
       "      <td>2</td>\n",
       "      <td>1</td>\n",
       "      <td>1</td>\n",
       "      <td>1</td>\n",
       "      <td>Poor</td>\n",
       "      <td>0</td>\n",
       "    </tr>\n",
       "    <tr>\n",
       "      <th>2</th>\n",
       "      <td>8df34ef3</td>\n",
       "      <td>35</td>\n",
       "      <td>Female</td>\n",
       "      <td>More than 15L</td>\n",
       "      <td>701607.06</td>\n",
       "      <td>2</td>\n",
       "      <td>1</td>\n",
       "      <td>2</td>\n",
       "      <td>0</td>\n",
       "      <td>Poor</td>\n",
       "      <td>0</td>\n",
       "    </tr>\n",
       "    <tr>\n",
       "      <th>3</th>\n",
       "      <td>c5c0788b</td>\n",
       "      <td>43</td>\n",
       "      <td>Female</td>\n",
       "      <td>More than 15L</td>\n",
       "      <td>1393922.16</td>\n",
       "      <td>0</td>\n",
       "      <td>1</td>\n",
       "      <td>2</td>\n",
       "      <td>1</td>\n",
       "      <td>Poor</td>\n",
       "      <td>1</td>\n",
       "    </tr>\n",
       "    <tr>\n",
       "      <th>4</th>\n",
       "      <td>951d69c4</td>\n",
       "      <td>39</td>\n",
       "      <td>Female</td>\n",
       "      <td>More than 15L</td>\n",
       "      <td>893146.23</td>\n",
       "      <td>1</td>\n",
       "      <td>1</td>\n",
       "      <td>1</td>\n",
       "      <td>1</td>\n",
       "      <td>Good</td>\n",
       "      <td>1</td>\n",
       "    </tr>\n",
       "    <tr>\n",
       "      <th>...</th>\n",
       "      <td>...</td>\n",
       "      <td>...</td>\n",
       "      <td>...</td>\n",
       "      <td>...</td>\n",
       "      <td>...</td>\n",
       "      <td>...</td>\n",
       "      <td>...</td>\n",
       "      <td>...</td>\n",
       "      <td>...</td>\n",
       "      <td>...</td>\n",
       "      <td>...</td>\n",
       "    </tr>\n",
       "    <tr>\n",
       "      <th>6645</th>\n",
       "      <td>a8216afd</td>\n",
       "      <td>61</td>\n",
       "      <td>Male</td>\n",
       "      <td>5L - 10L</td>\n",
       "      <td>1354526.19</td>\n",
       "      <td>4</td>\n",
       "      <td>1</td>\n",
       "      <td>2</td>\n",
       "      <td>1</td>\n",
       "      <td>Poor</td>\n",
       "      <td>1</td>\n",
       "    </tr>\n",
       "    <tr>\n",
       "      <th>6646</th>\n",
       "      <td>153a306b</td>\n",
       "      <td>42</td>\n",
       "      <td>Female</td>\n",
       "      <td>5L - 10L</td>\n",
       "      <td>596286.54</td>\n",
       "      <td>3</td>\n",
       "      <td>1</td>\n",
       "      <td>2</td>\n",
       "      <td>1</td>\n",
       "      <td>Average</td>\n",
       "      <td>0</td>\n",
       "    </tr>\n",
       "    <tr>\n",
       "      <th>6647</th>\n",
       "      <td>d4075a95</td>\n",
       "      <td>29</td>\n",
       "      <td>Male</td>\n",
       "      <td>Less than 5L</td>\n",
       "      <td>979298.19</td>\n",
       "      <td>2</td>\n",
       "      <td>0</td>\n",
       "      <td>2</td>\n",
       "      <td>0</td>\n",
       "      <td>Poor</td>\n",
       "      <td>0</td>\n",
       "    </tr>\n",
       "    <tr>\n",
       "      <th>6648</th>\n",
       "      <td>5855b142</td>\n",
       "      <td>66</td>\n",
       "      <td>Female</td>\n",
       "      <td>10L - 15L</td>\n",
       "      <td>395233.65</td>\n",
       "      <td>3</td>\n",
       "      <td>0</td>\n",
       "      <td>2</td>\n",
       "      <td>1</td>\n",
       "      <td>Poor</td>\n",
       "      <td>1</td>\n",
       "    </tr>\n",
       "    <tr>\n",
       "      <th>6649</th>\n",
       "      <td>57b39511</td>\n",
       "      <td>37</td>\n",
       "      <td>Male</td>\n",
       "      <td>More than 15L</td>\n",
       "      <td>826947.27</td>\n",
       "      <td>1</td>\n",
       "      <td>1</td>\n",
       "      <td>2</td>\n",
       "      <td>0</td>\n",
       "      <td>Good</td>\n",
       "      <td>0</td>\n",
       "    </tr>\n",
       "  </tbody>\n",
       "</table>\n",
       "<p>6650 rows × 11 columns</p>\n",
       "</div>"
      ],
      "text/plain": [
       "            ID  Age  Gender         Income     Balance  Vintage  \\\n",
       "0     84e2fcc9   36  Female       5L - 10L   563266.44        4   \n",
       "1     57fea15e   53  Female   Less than 5L   875572.11        2   \n",
       "2     8df34ef3   35  Female  More than 15L   701607.06        2   \n",
       "3     c5c0788b   43  Female  More than 15L  1393922.16        0   \n",
       "4     951d69c4   39  Female  More than 15L   893146.23        1   \n",
       "...        ...  ...     ...            ...         ...      ...   \n",
       "6645  a8216afd   61    Male       5L - 10L  1354526.19        4   \n",
       "6646  153a306b   42  Female       5L - 10L   596286.54        3   \n",
       "6647  d4075a95   29    Male   Less than 5L   979298.19        2   \n",
       "6648  5855b142   66  Female      10L - 15L   395233.65        3   \n",
       "6649  57b39511   37    Male  More than 15L   826947.27        1   \n",
       "\n",
       "      Transaction_Status Product_Holdings  Credit_Card Credit_Category  \\\n",
       "0                      0                1            0         Average   \n",
       "1                      1                1            1            Poor   \n",
       "2                      1                2            0            Poor   \n",
       "3                      1                2            1            Poor   \n",
       "4                      1                1            1            Good   \n",
       "...                  ...              ...          ...             ...   \n",
       "6645                   1                2            1            Poor   \n",
       "6646                   1                2            1         Average   \n",
       "6647                   0                2            0            Poor   \n",
       "6648                   0                2            1            Poor   \n",
       "6649                   1                2            0            Good   \n",
       "\n",
       "      Is_Churn  \n",
       "0            1  \n",
       "1            0  \n",
       "2            0  \n",
       "3            1  \n",
       "4            1  \n",
       "...        ...  \n",
       "6645         1  \n",
       "6646         0  \n",
       "6647         0  \n",
       "6648         1  \n",
       "6649         0  \n",
       "\n",
       "[6650 rows x 11 columns]"
      ]
     },
     "execution_count": 2,
     "metadata": {},
     "output_type": "execute_result"
    }
   ],
   "source": [
    "train=pd.read_csv('train_(churn).csv')\n",
    "train"
   ]
  },
  {
   "cell_type": "code",
   "execution_count": 3,
   "id": "800ded39",
   "metadata": {},
   "outputs": [
    {
     "data": {
      "text/html": [
       "<div>\n",
       "<style scoped>\n",
       "    .dataframe tbody tr th:only-of-type {\n",
       "        vertical-align: middle;\n",
       "    }\n",
       "\n",
       "    .dataframe tbody tr th {\n",
       "        vertical-align: top;\n",
       "    }\n",
       "\n",
       "    .dataframe thead th {\n",
       "        text-align: right;\n",
       "    }\n",
       "</style>\n",
       "<table border=\"1\" class=\"dataframe\">\n",
       "  <thead>\n",
       "    <tr style=\"text-align: right;\">\n",
       "      <th></th>\n",
       "      <th>ID</th>\n",
       "      <th>Age</th>\n",
       "      <th>Gender</th>\n",
       "      <th>Income</th>\n",
       "      <th>Balance</th>\n",
       "      <th>Vintage</th>\n",
       "      <th>Transaction_Status</th>\n",
       "      <th>Product_Holdings</th>\n",
       "      <th>Credit_Card</th>\n",
       "      <th>Credit_Category</th>\n",
       "    </tr>\n",
       "  </thead>\n",
       "  <tbody>\n",
       "    <tr>\n",
       "      <th>0</th>\n",
       "      <td>55480787</td>\n",
       "      <td>50</td>\n",
       "      <td>Female</td>\n",
       "      <td>More than 15L</td>\n",
       "      <td>1008636.39</td>\n",
       "      <td>2</td>\n",
       "      <td>1</td>\n",
       "      <td>2</td>\n",
       "      <td>1</td>\n",
       "      <td>Average</td>\n",
       "    </tr>\n",
       "    <tr>\n",
       "      <th>1</th>\n",
       "      <td>9aededf2</td>\n",
       "      <td>36</td>\n",
       "      <td>Male</td>\n",
       "      <td>5L - 10L</td>\n",
       "      <td>341460.72</td>\n",
       "      <td>2</td>\n",
       "      <td>0</td>\n",
       "      <td>2</td>\n",
       "      <td>1</td>\n",
       "      <td>Average</td>\n",
       "    </tr>\n",
       "    <tr>\n",
       "      <th>2</th>\n",
       "      <td>a5034a09</td>\n",
       "      <td>25</td>\n",
       "      <td>Female</td>\n",
       "      <td>10L - 15L</td>\n",
       "      <td>439460.10</td>\n",
       "      <td>0</td>\n",
       "      <td>0</td>\n",
       "      <td>2</td>\n",
       "      <td>1</td>\n",
       "      <td>Good</td>\n",
       "    </tr>\n",
       "    <tr>\n",
       "      <th>3</th>\n",
       "      <td>b3256702</td>\n",
       "      <td>41</td>\n",
       "      <td>Male</td>\n",
       "      <td>Less than 5L</td>\n",
       "      <td>28581.93</td>\n",
       "      <td>0</td>\n",
       "      <td>1</td>\n",
       "      <td>2</td>\n",
       "      <td>1</td>\n",
       "      <td>Poor</td>\n",
       "    </tr>\n",
       "    <tr>\n",
       "      <th>4</th>\n",
       "      <td>dc28adb5</td>\n",
       "      <td>48</td>\n",
       "      <td>Male</td>\n",
       "      <td>More than 15L</td>\n",
       "      <td>1104540.03</td>\n",
       "      <td>2</td>\n",
       "      <td>1</td>\n",
       "      <td>3+</td>\n",
       "      <td>0</td>\n",
       "      <td>Good</td>\n",
       "    </tr>\n",
       "    <tr>\n",
       "      <th>...</th>\n",
       "      <td>...</td>\n",
       "      <td>...</td>\n",
       "      <td>...</td>\n",
       "      <td>...</td>\n",
       "      <td>...</td>\n",
       "      <td>...</td>\n",
       "      <td>...</td>\n",
       "      <td>...</td>\n",
       "      <td>...</td>\n",
       "      <td>...</td>\n",
       "    </tr>\n",
       "    <tr>\n",
       "      <th>2846</th>\n",
       "      <td>19e40adf</td>\n",
       "      <td>40</td>\n",
       "      <td>Female</td>\n",
       "      <td>10L - 15L</td>\n",
       "      <td>1338458.22</td>\n",
       "      <td>0</td>\n",
       "      <td>0</td>\n",
       "      <td>1</td>\n",
       "      <td>1</td>\n",
       "      <td>Poor</td>\n",
       "    </tr>\n",
       "    <tr>\n",
       "      <th>2847</th>\n",
       "      <td>52d5bc8d</td>\n",
       "      <td>48</td>\n",
       "      <td>Female</td>\n",
       "      <td>More than 15L</td>\n",
       "      <td>1448280.27</td>\n",
       "      <td>0</td>\n",
       "      <td>1</td>\n",
       "      <td>2</td>\n",
       "      <td>1</td>\n",
       "      <td>Average</td>\n",
       "    </tr>\n",
       "    <tr>\n",
       "      <th>2848</th>\n",
       "      <td>f708121b</td>\n",
       "      <td>59</td>\n",
       "      <td>Male</td>\n",
       "      <td>More than 15L</td>\n",
       "      <td>1100555.64</td>\n",
       "      <td>3</td>\n",
       "      <td>0</td>\n",
       "      <td>1</td>\n",
       "      <td>1</td>\n",
       "      <td>Poor</td>\n",
       "    </tr>\n",
       "    <tr>\n",
       "      <th>2849</th>\n",
       "      <td>f008715d</td>\n",
       "      <td>34</td>\n",
       "      <td>Female</td>\n",
       "      <td>5L - 10L</td>\n",
       "      <td>1502818.92</td>\n",
       "      <td>2</td>\n",
       "      <td>0</td>\n",
       "      <td>1</td>\n",
       "      <td>1</td>\n",
       "      <td>Poor</td>\n",
       "    </tr>\n",
       "    <tr>\n",
       "      <th>2850</th>\n",
       "      <td>36b81f59</td>\n",
       "      <td>61</td>\n",
       "      <td>Female</td>\n",
       "      <td>10L - 15L</td>\n",
       "      <td>913787.73</td>\n",
       "      <td>0</td>\n",
       "      <td>1</td>\n",
       "      <td>2</td>\n",
       "      <td>1</td>\n",
       "      <td>Good</td>\n",
       "    </tr>\n",
       "  </tbody>\n",
       "</table>\n",
       "<p>2851 rows × 10 columns</p>\n",
       "</div>"
      ],
      "text/plain": [
       "            ID  Age  Gender         Income     Balance  Vintage  \\\n",
       "0     55480787   50  Female  More than 15L  1008636.39        2   \n",
       "1     9aededf2   36    Male       5L - 10L   341460.72        2   \n",
       "2     a5034a09   25  Female      10L - 15L   439460.10        0   \n",
       "3     b3256702   41    Male   Less than 5L    28581.93        0   \n",
       "4     dc28adb5   48    Male  More than 15L  1104540.03        2   \n",
       "...        ...  ...     ...            ...         ...      ...   \n",
       "2846  19e40adf   40  Female      10L - 15L  1338458.22        0   \n",
       "2847  52d5bc8d   48  Female  More than 15L  1448280.27        0   \n",
       "2848  f708121b   59    Male  More than 15L  1100555.64        3   \n",
       "2849  f008715d   34  Female       5L - 10L  1502818.92        2   \n",
       "2850  36b81f59   61  Female      10L - 15L   913787.73        0   \n",
       "\n",
       "      Transaction_Status Product_Holdings  Credit_Card Credit_Category  \n",
       "0                      1                2            1         Average  \n",
       "1                      0                2            1         Average  \n",
       "2                      0                2            1            Good  \n",
       "3                      1                2            1            Poor  \n",
       "4                      1               3+            0            Good  \n",
       "...                  ...              ...          ...             ...  \n",
       "2846                   0                1            1            Poor  \n",
       "2847                   1                2            1         Average  \n",
       "2848                   0                1            1            Poor  \n",
       "2849                   0                1            1            Poor  \n",
       "2850                   1                2            1            Good  \n",
       "\n",
       "[2851 rows x 10 columns]"
      ]
     },
     "execution_count": 3,
     "metadata": {},
     "output_type": "execute_result"
    }
   ],
   "source": [
    "test=pd.read_csv('test_(churn).csv')\n",
    "test"
   ]
  },
  {
   "cell_type": "code",
   "execution_count": 4,
   "id": "13776dc1",
   "metadata": {},
   "outputs": [],
   "source": [
    "combine=[train,test]"
   ]
  },
  {
   "cell_type": "code",
   "execution_count": 5,
   "id": "b7baa85d",
   "metadata": {},
   "outputs": [
    {
     "data": {
      "text/html": [
       "<div>\n",
       "<style scoped>\n",
       "    .dataframe tbody tr th:only-of-type {\n",
       "        vertical-align: middle;\n",
       "    }\n",
       "\n",
       "    .dataframe tbody tr th {\n",
       "        vertical-align: top;\n",
       "    }\n",
       "\n",
       "    .dataframe thead th {\n",
       "        text-align: right;\n",
       "    }\n",
       "</style>\n",
       "<table border=\"1\" class=\"dataframe\">\n",
       "  <thead>\n",
       "    <tr style=\"text-align: right;\">\n",
       "      <th></th>\n",
       "      <th>ID</th>\n",
       "      <th>Age</th>\n",
       "      <th>Gender</th>\n",
       "      <th>Income</th>\n",
       "      <th>Balance</th>\n",
       "      <th>Vintage</th>\n",
       "      <th>Transaction_Status</th>\n",
       "      <th>Product_Holdings</th>\n",
       "      <th>Credit_Card</th>\n",
       "      <th>Credit_Category</th>\n",
       "      <th>Is_Churn</th>\n",
       "    </tr>\n",
       "  </thead>\n",
       "  <tbody>\n",
       "    <tr>\n",
       "      <th>0</th>\n",
       "      <td>84e2fcc9</td>\n",
       "      <td>2</td>\n",
       "      <td>Female</td>\n",
       "      <td>5L - 10L</td>\n",
       "      <td>563266.44</td>\n",
       "      <td>4</td>\n",
       "      <td>0</td>\n",
       "      <td>1</td>\n",
       "      <td>0</td>\n",
       "      <td>Average</td>\n",
       "      <td>1</td>\n",
       "    </tr>\n",
       "    <tr>\n",
       "      <th>1</th>\n",
       "      <td>57fea15e</td>\n",
       "      <td>4</td>\n",
       "      <td>Female</td>\n",
       "      <td>Less than 5L</td>\n",
       "      <td>875572.11</td>\n",
       "      <td>2</td>\n",
       "      <td>1</td>\n",
       "      <td>1</td>\n",
       "      <td>1</td>\n",
       "      <td>Poor</td>\n",
       "      <td>0</td>\n",
       "    </tr>\n",
       "    <tr>\n",
       "      <th>2</th>\n",
       "      <td>8df34ef3</td>\n",
       "      <td>2</td>\n",
       "      <td>Female</td>\n",
       "      <td>More than 15L</td>\n",
       "      <td>701607.06</td>\n",
       "      <td>2</td>\n",
       "      <td>1</td>\n",
       "      <td>2</td>\n",
       "      <td>0</td>\n",
       "      <td>Poor</td>\n",
       "      <td>0</td>\n",
       "    </tr>\n",
       "    <tr>\n",
       "      <th>3</th>\n",
       "      <td>c5c0788b</td>\n",
       "      <td>3</td>\n",
       "      <td>Female</td>\n",
       "      <td>More than 15L</td>\n",
       "      <td>1393922.16</td>\n",
       "      <td>0</td>\n",
       "      <td>1</td>\n",
       "      <td>2</td>\n",
       "      <td>1</td>\n",
       "      <td>Poor</td>\n",
       "      <td>1</td>\n",
       "    </tr>\n",
       "    <tr>\n",
       "      <th>4</th>\n",
       "      <td>951d69c4</td>\n",
       "      <td>2</td>\n",
       "      <td>Female</td>\n",
       "      <td>More than 15L</td>\n",
       "      <td>893146.23</td>\n",
       "      <td>1</td>\n",
       "      <td>1</td>\n",
       "      <td>1</td>\n",
       "      <td>1</td>\n",
       "      <td>Good</td>\n",
       "      <td>1</td>\n",
       "    </tr>\n",
       "    <tr>\n",
       "      <th>5</th>\n",
       "      <td>e7a8332a</td>\n",
       "      <td>1</td>\n",
       "      <td>Female</td>\n",
       "      <td>Less than 5L</td>\n",
       "      <td>111026.79</td>\n",
       "      <td>4</td>\n",
       "      <td>1</td>\n",
       "      <td>1</td>\n",
       "      <td>0</td>\n",
       "      <td>Good</td>\n",
       "      <td>0</td>\n",
       "    </tr>\n",
       "    <tr>\n",
       "      <th>6</th>\n",
       "      <td>f2de1836</td>\n",
       "      <td>4</td>\n",
       "      <td>Male</td>\n",
       "      <td>Less than 5L</td>\n",
       "      <td>1072102.23</td>\n",
       "      <td>2</td>\n",
       "      <td>1</td>\n",
       "      <td>2</td>\n",
       "      <td>1</td>\n",
       "      <td>Average</td>\n",
       "      <td>0</td>\n",
       "    </tr>\n",
       "    <tr>\n",
       "      <th>7</th>\n",
       "      <td>f422388a</td>\n",
       "      <td>3</td>\n",
       "      <td>Female</td>\n",
       "      <td>10L - 15L</td>\n",
       "      <td>1587489.75</td>\n",
       "      <td>4</td>\n",
       "      <td>0</td>\n",
       "      <td>1</td>\n",
       "      <td>1</td>\n",
       "      <td>Poor</td>\n",
       "      <td>1</td>\n",
       "    </tr>\n",
       "    <tr>\n",
       "      <th>8</th>\n",
       "      <td>773aa149</td>\n",
       "      <td>4</td>\n",
       "      <td>Female</td>\n",
       "      <td>10L - 15L</td>\n",
       "      <td>1465812.54</td>\n",
       "      <td>0</td>\n",
       "      <td>0</td>\n",
       "      <td>1</td>\n",
       "      <td>1</td>\n",
       "      <td>Poor</td>\n",
       "      <td>1</td>\n",
       "    </tr>\n",
       "    <tr>\n",
       "      <th>9</th>\n",
       "      <td>443be80f</td>\n",
       "      <td>2</td>\n",
       "      <td>Female</td>\n",
       "      <td>5L - 10L</td>\n",
       "      <td>770796.81</td>\n",
       "      <td>3</td>\n",
       "      <td>0</td>\n",
       "      <td>1</td>\n",
       "      <td>1</td>\n",
       "      <td>Poor</td>\n",
       "      <td>0</td>\n",
       "    </tr>\n",
       "  </tbody>\n",
       "</table>\n",
       "</div>"
      ],
      "text/plain": [
       "         ID  Age  Gender         Income     Balance  Vintage  \\\n",
       "0  84e2fcc9    2  Female       5L - 10L   563266.44        4   \n",
       "1  57fea15e    4  Female   Less than 5L   875572.11        2   \n",
       "2  8df34ef3    2  Female  More than 15L   701607.06        2   \n",
       "3  c5c0788b    3  Female  More than 15L  1393922.16        0   \n",
       "4  951d69c4    2  Female  More than 15L   893146.23        1   \n",
       "5  e7a8332a    1  Female   Less than 5L   111026.79        4   \n",
       "6  f2de1836    4    Male   Less than 5L  1072102.23        2   \n",
       "7  f422388a    3  Female      10L - 15L  1587489.75        4   \n",
       "8  773aa149    4  Female      10L - 15L  1465812.54        0   \n",
       "9  443be80f    2  Female       5L - 10L   770796.81        3   \n",
       "\n",
       "   Transaction_Status Product_Holdings  Credit_Card Credit_Category  Is_Churn  \n",
       "0                   0                1            0         Average         1  \n",
       "1                   1                1            1            Poor         0  \n",
       "2                   1                2            0            Poor         0  \n",
       "3                   1                2            1            Poor         1  \n",
       "4                   1                1            1            Good         1  \n",
       "5                   1                1            0            Good         0  \n",
       "6                   1                2            1         Average         0  \n",
       "7                   0                1            1            Poor         1  \n",
       "8                   0                1            1            Poor         1  \n",
       "9                   0                1            1            Poor         0  "
      ]
     },
     "execution_count": 5,
     "metadata": {},
     "output_type": "execute_result"
    }
   ],
   "source": [
    "for dataset in combine:    \n",
    "    dataset.loc[ dataset['Age'] <= 20, 'Age'] = 0\n",
    "    dataset.loc[(dataset['Age'] > 20) & (dataset['Age'] <= 31), 'Age'] = 1\n",
    "    dataset.loc[(dataset['Age'] > 31) & (dataset['Age'] <= 40), 'Age'] = 2\n",
    "    dataset.loc[(dataset['Age'] > 40) & (dataset['Age'] <= 51), 'Age'] = 3\n",
    "    dataset.loc[(dataset['Age'] > 51) & (dataset['Age'] <= 61), 'Age'] = 4\n",
    "    dataset.loc[(dataset['Age'] > 61) & (dataset['Age'] <= 71), 'Age'] = 5\n",
    "    dataset.loc[ dataset['Age'] >71, 'Age'] = 6\n",
    "train.head(10)"
   ]
  },
  {
   "cell_type": "code",
   "execution_count": 6,
   "id": "2e953fc6",
   "metadata": {},
   "outputs": [
    {
     "data": {
      "text/plain": [
       "array([2, 4, 3, 1, 5, 6], dtype=int64)"
      ]
     },
     "execution_count": 6,
     "metadata": {},
     "output_type": "execute_result"
    }
   ],
   "source": [
    "train['Age'].unique()"
   ]
  },
  {
   "cell_type": "code",
   "execution_count": 7,
   "id": "8103ab69",
   "metadata": {},
   "outputs": [
    {
     "data": {
      "text/plain": [
       "2851"
      ]
     },
     "execution_count": 7,
     "metadata": {},
     "output_type": "execute_result"
    }
   ],
   "source": [
    "test_index=test.ID\n",
    "len(test_index)"
   ]
  },
  {
   "cell_type": "code",
   "execution_count": 8,
   "id": "5bd68d1e",
   "metadata": {},
   "outputs": [
    {
     "data": {
      "text/plain": [
       "array(['Female', 'Male'], dtype=object)"
      ]
     },
     "execution_count": 8,
     "metadata": {},
     "output_type": "execute_result"
    }
   ],
   "source": [
    "train['Gender'].unique()"
   ]
  },
  {
   "cell_type": "code",
   "execution_count": 9,
   "id": "3163981a",
   "metadata": {},
   "outputs": [
    {
     "data": {
      "text/plain": [
       "array(['5L - 10L', 'Less than 5L', 'More than 15L', '10L - 15L'],\n",
       "      dtype=object)"
      ]
     },
     "execution_count": 9,
     "metadata": {},
     "output_type": "execute_result"
    }
   ],
   "source": [
    "train['Income'].unique()"
   ]
  },
  {
   "cell_type": "code",
   "execution_count": 10,
   "id": "1d27685f",
   "metadata": {},
   "outputs": [
    {
     "data": {
      "text/plain": [
       "array(['Average', 'Poor', 'Good'], dtype=object)"
      ]
     },
     "execution_count": 10,
     "metadata": {},
     "output_type": "execute_result"
    }
   ],
   "source": [
    "train['Credit_Category'].unique()"
   ]
  },
  {
   "cell_type": "code",
   "execution_count": 11,
   "id": "74981387",
   "metadata": {},
   "outputs": [
    {
     "data": {
      "text/plain": [
       "array(['1', '2', '3+'], dtype=object)"
      ]
     },
     "execution_count": 11,
     "metadata": {},
     "output_type": "execute_result"
    }
   ],
   "source": [
    "train['Product_Holdings'].unique()"
   ]
  },
  {
   "cell_type": "code",
   "execution_count": 12,
   "id": "ad5d0f2c",
   "metadata": {},
   "outputs": [
    {
     "data": {
      "text/plain": [
       "0    5113\n",
       "1    1537\n",
       "Name: Is_Churn, dtype: int64"
      ]
     },
     "execution_count": 12,
     "metadata": {},
     "output_type": "execute_result"
    }
   ],
   "source": [
    "train['Is_Churn'].value_counts()"
   ]
  },
  {
   "cell_type": "code",
   "execution_count": 13,
   "id": "a5152efa",
   "metadata": {},
   "outputs": [
    {
     "data": {
      "text/plain": [
       "<AxesSubplot:>"
      ]
     },
     "execution_count": 13,
     "metadata": {},
     "output_type": "execute_result"
    },
    {
     "data": {
      "image/png": "[encoded data removed]",
      "text/plain": [
       "<Figure size 432x288 with 1 Axes>"
      ]
     },
     "metadata": {
      "needs_background": "light"
     },
     "output_type": "display_data"
    }
   ],
   "source": [
    "train['Is_Churn'].value_counts().plot(kind='bar')"
   ]
  },
  {
   "cell_type": "code",
   "execution_count": 14,
   "id": "f3d777b6",
   "metadata": {},
   "outputs": [
    {
     "data": {
      "text/plain": [
       "0    76.887218\n",
       "1    23.112782\n",
       "Name: Is_Churn, dtype: float64"
      ]
     },
     "execution_count": 14,
     "metadata": {},
     "output_type": "execute_result"
    }
   ],
   "source": [
    "(train['Is_Churn'].value_counts()/train['Is_Churn'].shape)*100"
   ]
  },
  {
   "cell_type": "code",
   "execution_count": 15,
   "id": "bd334cd7",
   "metadata": {},
   "outputs": [
    {
     "data": {
      "text/plain": [
       "ID                     object\n",
       "Age                     int64\n",
       "Gender                 object\n",
       "Income                 object\n",
       "Balance               float64\n",
       "Vintage                 int64\n",
       "Transaction_Status      int64\n",
       "Product_Holdings       object\n",
       "Credit_Card             int64\n",
       "Credit_Category        object\n",
       "Is_Churn                int64\n",
       "dtype: object"
      ]
     },
     "execution_count": 15,
     "metadata": {},
     "output_type": "execute_result"
    }
   ],
   "source": [
    "train.dtypes"
   ]
  },
  {
   "cell_type": "code",
   "execution_count": 16,
   "id": "470f0bdf",
   "metadata": {},
   "outputs": [
    {
     "data": {
      "text/plain": [
       "ID                    0\n",
       "Age                   0\n",
       "Gender                0\n",
       "Income                0\n",
       "Balance               0\n",
       "Vintage               0\n",
       "Transaction_Status    0\n",
       "Product_Holdings      0\n",
       "Credit_Card           0\n",
       "Credit_Category       0\n",
       "Is_Churn              0\n",
       "dtype: int64"
      ]
     },
     "execution_count": 16,
     "metadata": {},
     "output_type": "execute_result"
    }
   ],
   "source": [
    "train.isna().sum()"
   ]
  },
  {
   "cell_type": "code",
   "execution_count": 17,
   "id": "cadc00a8",
   "metadata": {},
   "outputs": [
    {
     "data": {
      "text/plain": [
       "Index(['ID', 'Gender', 'Income', 'Product_Holdings', 'Credit_Category'], dtype='object')"
      ]
     },
     "execution_count": 17,
     "metadata": {},
     "output_type": "execute_result"
    }
   ],
   "source": [
    "categorical=train.select_dtypes(include='object').columns\n",
    "categorical"
   ]
  },
  {
   "cell_type": "code",
   "execution_count": 18,
   "id": "730b3b3c",
   "metadata": {},
   "outputs": [],
   "source": [
    "le=LabelEncoder()"
   ]
  },
  {
   "cell_type": "code",
   "execution_count": 19,
   "id": "be79651a",
   "metadata": {},
   "outputs": [],
   "source": [
    "for i in categorical:\n",
    "    train[i]=pd.get_dummies(train[i])\n",
    "    test[i]=pd.get_dummies(test[i])\n",
    " "
   ]
  },
  {
   "cell_type": "code",
   "execution_count": 20,
   "id": "2fa15252",
   "metadata": {},
   "outputs": [
    {
     "data": {
      "text/html": [
       "<div>\n",
       "<style scoped>\n",
       "    .dataframe tbody tr th:only-of-type {\n",
       "        vertical-align: middle;\n",
       "    }\n",
       "\n",
       "    .dataframe tbody tr th {\n",
       "        vertical-align: top;\n",
       "    }\n",
       "\n",
       "    .dataframe thead th {\n",
       "        text-align: right;\n",
       "    }\n",
       "</style>\n",
       "<table border=\"1\" class=\"dataframe\">\n",
       "  <thead>\n",
       "    <tr style=\"text-align: right;\">\n",
       "      <th></th>\n",
       "      <th>ID</th>\n",
       "      <th>Age</th>\n",
       "      <th>Gender</th>\n",
       "      <th>Income</th>\n",
       "      <th>Balance</th>\n",
       "      <th>Vintage</th>\n",
       "      <th>Transaction_Status</th>\n",
       "      <th>Product_Holdings</th>\n",
       "      <th>Credit_Card</th>\n",
       "      <th>Credit_Category</th>\n",
       "      <th>Is_Churn</th>\n",
       "    </tr>\n",
       "  </thead>\n",
       "  <tbody>\n",
       "    <tr>\n",
       "      <th>0</th>\n",
       "      <td>0</td>\n",
       "      <td>2</td>\n",
       "      <td>1</td>\n",
       "      <td>0</td>\n",
       "      <td>563266.44</td>\n",
       "      <td>4</td>\n",
       "      <td>0</td>\n",
       "      <td>1</td>\n",
       "      <td>0</td>\n",
       "      <td>1</td>\n",
       "      <td>1</td>\n",
       "    </tr>\n",
       "    <tr>\n",
       "      <th>1</th>\n",
       "      <td>0</td>\n",
       "      <td>4</td>\n",
       "      <td>1</td>\n",
       "      <td>0</td>\n",
       "      <td>875572.11</td>\n",
       "      <td>2</td>\n",
       "      <td>1</td>\n",
       "      <td>1</td>\n",
       "      <td>1</td>\n",
       "      <td>0</td>\n",
       "      <td>0</td>\n",
       "    </tr>\n",
       "    <tr>\n",
       "      <th>2</th>\n",
       "      <td>0</td>\n",
       "      <td>2</td>\n",
       "      <td>1</td>\n",
       "      <td>0</td>\n",
       "      <td>701607.06</td>\n",
       "      <td>2</td>\n",
       "      <td>1</td>\n",
       "      <td>0</td>\n",
       "      <td>0</td>\n",
       "      <td>0</td>\n",
       "      <td>0</td>\n",
       "    </tr>\n",
       "    <tr>\n",
       "      <th>3</th>\n",
       "      <td>0</td>\n",
       "      <td>3</td>\n",
       "      <td>1</td>\n",
       "      <td>0</td>\n",
       "      <td>1393922.16</td>\n",
       "      <td>0</td>\n",
       "      <td>1</td>\n",
       "      <td>0</td>\n",
       "      <td>1</td>\n",
       "      <td>0</td>\n",
       "      <td>1</td>\n",
       "    </tr>\n",
       "    <tr>\n",
       "      <th>4</th>\n",
       "      <td>0</td>\n",
       "      <td>2</td>\n",
       "      <td>1</td>\n",
       "      <td>0</td>\n",
       "      <td>893146.23</td>\n",
       "      <td>1</td>\n",
       "      <td>1</td>\n",
       "      <td>1</td>\n",
       "      <td>1</td>\n",
       "      <td>0</td>\n",
       "      <td>1</td>\n",
       "    </tr>\n",
       "  </tbody>\n",
       "</table>\n",
       "</div>"
      ],
      "text/plain": [
       "   ID  Age  Gender  Income     Balance  Vintage  Transaction_Status  \\\n",
       "0   0    2       1       0   563266.44        4                   0   \n",
       "1   0    4       1       0   875572.11        2                   1   \n",
       "2   0    2       1       0   701607.06        2                   1   \n",
       "3   0    3       1       0  1393922.16        0                   1   \n",
       "4   0    2       1       0   893146.23        1                   1   \n",
       "\n",
       "   Product_Holdings  Credit_Card  Credit_Category  Is_Churn  \n",
       "0                 1            0                1         1  \n",
       "1                 1            1                0         0  \n",
       "2                 0            0                0         0  \n",
       "3                 0            1                0         1  \n",
       "4                 1            1                0         1  "
      ]
     },
     "execution_count": 20,
     "metadata": {},
     "output_type": "execute_result"
    }
   ],
   "source": [
    "train.head()"
   ]
  },
  {
   "cell_type": "code",
   "execution_count": 21,
   "id": "10d36c34",
   "metadata": {},
   "outputs": [],
   "source": [
    "x=train.drop(['ID','Is_Churn'],axis=1)\n",
    "y=train.Is_Churn"
   ]
  },
  {
   "cell_type": "code",
   "execution_count": 22,
   "id": "1348bd81",
   "metadata": {},
   "outputs": [
    {
     "name": "stdout",
     "output_type": "stream",
     "text": [
      "                Specs         Score\n",
      "3             Balance  6.987321e+06\n",
      "0                 Age  1.071825e+02\n",
      "5  Transaction_Status  2.432590e+01\n",
      "1              Gender  1.037290e+01\n",
      "6    Product_Holdings  3.784519e+00\n",
      "4             Vintage  2.553496e+00\n",
      "2              Income  2.068487e-01\n",
      "8     Credit_Category  3.927646e-03\n",
      "7         Credit_Card  1.605464e-03\n"
     ]
    }
   ],
   "source": [
    "#apply SelectKBest class to extract top 10 best features\n",
    "bestfeatures = SelectKBest(score_func=chi2, k=9)\n",
    "fit = bestfeatures.fit(x,y)\n",
    "dfscores = pd.DataFrame(fit.scores_)\n",
    "dfcolumns = pd.DataFrame(x.columns)\n",
    "#concat two dataframes for better visualization \n",
    "featureScores = pd.concat([dfcolumns,dfscores],axis=1)\n",
    "featureScores.columns = ['Specs','Score']  #naming the dataframe columns\n",
    "print(featureScores.nlargest(10,'Score'))  #print 10 best features"
   ]
  },
  {
   "cell_type": "code",
   "execution_count": 23,
   "id": "b82ae6e9",
   "metadata": {},
   "outputs": [],
   "source": [
    "model=RandomForestClassifier(random_state=100)"
   ]
  },
  {
   "cell_type": "code",
   "execution_count": 24,
   "id": "51e07f45",
   "metadata": {},
   "outputs": [
    {
     "name": "stderr",
     "output_type": "stream",
     "text": [
      "D:\\New folder\\lib\\site-packages\\sklearn\\utils\\validation.py:70: FutureWarning: Pass n_features_to_select=4 as keyword args. From version 1.0 (renaming of 0.25) passing these as positional arguments will result in an error\n",
      "  warnings.warn(f\"Pass {args_msg} as keyword args. From version \"\n"
     ]
    }
   ],
   "source": [
    "rfe=RFE(model,4)\n",
    "fit_rfe=rfe.fit(x,y)"
   ]
  },
  {
   "cell_type": "code",
   "execution_count": 25,
   "id": "cfcebb68",
   "metadata": {},
   "outputs": [
    {
     "name": "stdout",
     "output_type": "stream",
     "text": [
      "num features: 4\n",
      "num selected feature: [ True False False  True  True False False False  True]\n",
      "feature ranking: [1 5 2 1 1 6 4 3 1]\n"
     ]
    }
   ],
   "source": [
    "print(('num features: %d')%fit_rfe.n_features_)\n",
    "print(('num selected feature: %s')%fit_rfe.support_)\n",
    "print(('feature ranking: %s')%fit_rfe.ranking_)"
   ]
  },
  {
   "cell_type": "code",
   "execution_count": 26,
   "id": "52ee2243",
   "metadata": {},
   "outputs": [],
   "source": [
    "names=x.columns"
   ]
  },
  {
   "cell_type": "code",
   "execution_count": 27,
   "id": "46e227a0",
   "metadata": {},
   "outputs": [
    {
     "data": {
      "text/plain": [
       "{'Age': 1,\n",
       " 'Gender': 5,\n",
       " 'Income': 2,\n",
       " 'Balance': 1,\n",
       " 'Vintage': 1,\n",
       " 'Transaction_Status': 6,\n",
       " 'Product_Holdings': 4,\n",
       " 'Credit_Card': 3,\n",
       " 'Credit_Category': 1}"
      ]
     },
     "execution_count": 27,
     "metadata": {},
     "output_type": "execute_result"
    }
   ],
   "source": [
    "feature_names=dict(zip(names,fit_rfe.ranking_))\n",
    "feature_names"
   ]
  },
  {
   "cell_type": "code",
   "execution_count": 28,
   "id": "54fbc1c7",
   "metadata": {},
   "outputs": [
    {
     "data": {
      "text/plain": [
       "ID                    0\n",
       "Age                   0\n",
       "Gender                0\n",
       "Income                0\n",
       "Balance               0\n",
       "Vintage               0\n",
       "Transaction_Status    0\n",
       "Product_Holdings      0\n",
       "Credit_Card           0\n",
       "Credit_Category       0\n",
       "Is_Churn              0\n",
       "dtype: int64"
      ]
     },
     "execution_count": 28,
     "metadata": {},
     "output_type": "execute_result"
    }
   ],
   "source": [
    "train.isna().sum()"
   ]
  },
  {
   "cell_type": "code",
   "execution_count": 29,
   "id": "bca6725f",
   "metadata": {},
   "outputs": [],
   "source": [
    "new_X=train.drop(['ID','Credit_Card','Credit_Category','Vintage','Is_Churn','Income',],axis=1)\n",
    "new_y=train.Is_Churn"
   ]
  },
  {
   "cell_type": "code",
   "execution_count": 30,
   "id": "158a9f9c",
   "metadata": {},
   "outputs": [],
   "source": [
    "test=test.drop(['ID','Credit_Category','Credit_Card','Vintage','Income',],axis=1)"
   ]
  },
  {
   "cell_type": "code",
   "execution_count": 31,
   "id": "6906712b",
   "metadata": {},
   "outputs": [],
   "source": [
    "trainx,testx,trainy,testy=train_test_split(new_X,new_y,test_size=0.2,random_state=50)"
   ]
  },
  {
   "cell_type": "markdown",
   "id": "63e66bad",
   "metadata": {},
   "source": [
    "## SMOTE"
   ]
  },
  {
   "cell_type": "code",
   "execution_count": 32,
   "id": "93efd211",
   "metadata": {},
   "outputs": [
    {
     "name": "stdout",
     "output_type": "stream",
     "text": [
      "Before OverSampling, counts of label '1': 1217\n",
      "Before OverSampling, counts of label '0': 4103 \n",
      "\n",
      "After OverSampling, the shape of train_X: (8206, 5)\n",
      "After OverSampling, the shape of train_y: (8206,) \n",
      "\n",
      "After OverSampling, counts of label '1': 4103\n",
      "After OverSampling, counts of label '0': 4103\n"
     ]
    }
   ],
   "source": [
    "print(\"Before OverSampling, counts of label '1': {}\".format(sum(trainy == 1)))\n",
    "print(\"Before OverSampling, counts of label '0': {} \\n\".format(sum(trainy == 0)))\n",
    "  \n",
    "from imblearn.over_sampling import SMOTE\n",
    "sm = SMOTE(random_state =63)\n",
    "trainx_res,trainy_res = sm.fit_resample(trainx,trainy.ravel())  \n",
    "print('After OverSampling, the shape of train_X: {}'.format(trainx_res.shape))\n",
    "print('After OverSampling, the shape of train_y: {} \\n'.format(trainy_res.shape))\n",
    "  \n",
    "\n",
    "print(\"After OverSampling, counts of label '1': {}\".format(sum(trainy_res == 1)))\n",
    "print(\"After OverSampling, counts of label '0': {}\".format(sum(trainy_res == 0)))"
   ]
  },
  {
   "cell_type": "code",
   "execution_count": 33,
   "id": "e5514e53",
   "metadata": {},
   "outputs": [
    {
     "name": "stdout",
     "output_type": "stream",
     "text": [
      "Logistic Regression Test Accuracy: 0.5\n",
      "Decision Tree Test Accuracy: 0.7181509759068359\n",
      "KNN Test Accuracy: 0.6286877989364547\n",
      "Naive Bayes Test Accuracy: 0.5214463325510235\n",
      "Random Forest Test Accuracy: 0.7121772971688305\n",
      "ExtraTrees Test Accuracy: 0.7113249754909242\n"
     ]
    }
   ],
   "source": [
    "#creating the objects\n",
    "logreg_cv = LogisticRegression(solver='liblinear',random_state=42)\n",
    "dt_cv=DecisionTreeClassifier(random_state=123)\n",
    "knn_cv=KNeighborsClassifier()\n",
    "\n",
    "nb_cv=GaussianNB()\n",
    "rf_cv=RandomForestClassifier(random_state=123)\n",
    "et_cv=ExtraTreesClassifier(random_state=123)\n",
    "cv_dict = {0: 'Logistic Regression', 1: 'Decision Tree',2:'KNN',3:'Naive Bayes',4:'Random Forest',5:'ExtraTrees'}\n",
    "cv_models=[logreg_cv,dt_cv,knn_cv,nb_cv,rf_cv,et_cv]\n",
    "\n",
    "\n",
    "for i,model in enumerate(cv_models):\n",
    "    print(\"{} Test Accuracy: {}\".format(cv_dict[i],cross_val_score(model,trainx_res,trainy_res, cv=10, scoring ='accuracy').mean()))"
   ]
  },
  {
   "cell_type": "code",
   "execution_count": 39,
   "id": "2551b93f",
   "metadata": {},
   "outputs": [],
   "source": [
    "logreg=LogisticRegression(random_state=42)"
   ]
  },
  {
   "cell_type": "code",
   "execution_count": 40,
   "id": "d2660804",
   "metadata": {},
   "outputs": [
    {
     "data": {
      "text/plain": [
       "LogisticRegression(random_state=42)"
      ]
     },
     "execution_count": 40,
     "metadata": {},
     "output_type": "execute_result"
    }
   ],
   "source": [
    "logreg.fit(trainx_res,trainy_res)"
   ]
  },
  {
   "cell_type": "code",
   "execution_count": 41,
   "id": "acfa6ec6",
   "metadata": {},
   "outputs": [],
   "source": [
    "logreg_pred=logreg.predict(testx)"
   ]
  },
  {
   "cell_type": "code",
   "execution_count": 42,
   "id": "7191e5f3",
   "metadata": {},
   "outputs": [
    {
     "name": "stdout",
     "output_type": "stream",
     "text": [
      "f1_score - 0.19393939393939394\n",
      "Accuracy_score - 0.24060150375939848\n",
      "Mean_squared_error - 0.7593984962406015\n"
     ]
    }
   ],
   "source": [
    "print('f1_score -',f1_score(testy,logreg_pred,average='macro'))\n",
    "print('Accuracy_score -',accuracy_score(testy,logreg_pred))\n",
    "print('Mean_squared_error -',mean_squared_error(testy,logreg_pred))"
   ]
  },
  {
   "cell_type": "markdown",
   "id": "bc25ee14",
   "metadata": {},
   "source": [
    "## RandomForestClassifier"
   ]
  },
  {
   "cell_type": "code",
   "execution_count": 43,
   "id": "f499bd4e",
   "metadata": {},
   "outputs": [],
   "source": [
    "rf=RandomForestClassifier(random_state=49)"
   ]
  },
  {
   "cell_type": "code",
   "execution_count": 44,
   "id": "05129d44",
   "metadata": {},
   "outputs": [],
   "source": [
    "rf.fit(trainx_res,trainy_res)\n",
    "rf_pred=rf.predict(testx)\n"
   ]
  },
  {
   "cell_type": "code",
   "execution_count": 45,
   "id": "363f51b8",
   "metadata": {},
   "outputs": [
    {
     "name": "stdout",
     "output_type": "stream",
     "text": [
      "f1_score - 0.5187442624684243\n",
      "Accuracy_score - 0.6037593984962406\n",
      "Mean_squared_error - 0.3962406015037594\n"
     ]
    }
   ],
   "source": [
    "print('f1_score -',f1_score(testy,rf_pred,average='macro'))\n",
    "print('Accuracy_score -',accuracy_score(testy,rf_pred))\n",
    "print('Mean_squared_error -',mean_squared_error(testy,rf_pred))"
   ]
  },
  {
   "cell_type": "code",
   "execution_count": 46,
   "id": "42b75b91",
   "metadata": {},
   "outputs": [],
   "source": [
    "param_grid={'n_estimators':[470,480,500],'max_depth':[2,3,4],\n",
    "'min_samples_split':[2,3,4],'min_samples_leaf':[1,2],'max_leaf_nodes':[3,4],'max_samples':[3,4,5],\n",
    "            'min_weight_fraction_leaf':[0.0,0.1],\n",
    "    'min_impurity_decrease':[0.0,0.1],\n",
    "    'min_impurity_split':[0.1,0.2]}"
   ]
  },
  {
   "cell_type": "code",
   "execution_count": 51,
   "id": "234102cc",
   "metadata": {},
   "outputs": [],
   "source": [
    "grid=GridSearchCV(estimator=rf,param_grid=param_grid,n_jobs=-1,cv=2,verbose=2)"
   ]
  },
  {
   "cell_type": "code",
   "execution_count": 52,
   "id": "504d51cc",
   "metadata": {},
   "outputs": [
    {
     "name": "stdout",
     "output_type": "stream",
     "text": [
      "Fitting 2 folds for each of 2592 candidates, totalling 5184 fits\n"
     ]
    },
    {
     "name": "stderr",
     "output_type": "stream",
     "text": [
      "D:\\New folder\\lib\\site-packages\\sklearn\\tree\\_classes.py:315: FutureWarning: The min_impurity_split parameter is deprecated. Its default value has changed from 1e-7 to 0 in version 0.23, and it will be removed in 1.0 (renaming of 0.25). Use the min_impurity_decrease parameter instead.\n",
      "  warnings.warn(\n",
      "D:\\New folder\\lib\\site-packages\\sklearn\\tree\\_classes.py:315: FutureWarning: The min_impurity_split parameter is deprecated. Its default value has changed from 1e-7 to 0 in version 0.23, and it will be removed in 1.0 (renaming of 0.25). Use the min_impurity_decrease parameter instead.\n",
      "  warnings.warn(\n",
      "D:\\New folder\\lib\\site-packages\\sklearn\\tree\\_classes.py:315: FutureWarning: The min_impurity_split parameter is deprecated. Its default value has changed from 1e-7 to 0 in version 0.23, and it will be removed in 1.0 (renaming of 0.25). Use the min_impurity_decrease parameter instead.\n",
      "  warnings.warn(\n",
      "D:\\New folder\\lib\\site-packages\\sklearn\\tree\\_classes.py:315: FutureWarning: The min_impurity_split parameter is deprecated. Its default value has changed from 1e-7 to 0 in version 0.23, and it will be removed in 1.0 (renaming of 0.25). Use the min_impurity_decrease parameter instead.\n",
      "  warnings.warn(\n",
      "D:\\New folder\\lib\\site-packages\\sklearn\\tree\\_classes.py:315: FutureWarning: The min_impurity_split parameter is deprecated. Its default value has changed from 1e-7 to 0 in version 0.23, and it will be removed in 1.0 (renaming of 0.25). Use the min_impurity_decrease parameter instead.\n",
      "  warnings.warn(\n",
      "D:\\New folder\\lib\\site-packages\\sklearn\\tree\\_classes.py:315: FutureWarning: The min_impurity_split parameter is deprecated. Its default value has changed from 1e-7 to 0 in version 0.23, and it will be removed in 1.0 (renaming of 0.25). Use the min_impurity_decrease parameter instead.\n",
      "  warnings.warn(\n",
      "D:\\New folder\\lib\\site-packages\\sklearn\\tree\\_classes.py:315: FutureWarning: The min_impurity_split parameter is deprecated. Its default value has changed from 1e-7 to 0 in version 0.23, and it will be removed in 1.0 (renaming of 0.25). Use the min_impurity_decrease parameter instead.\n",
      "  warnings.warn(\n",
      "D:\\New folder\\lib\\site-packages\\sklearn\\tree\\_classes.py:315: FutureWarning: The min_impurity_split parameter is deprecated. Its default value has changed from 1e-7 to 0 in version 0.23, and it will be removed in 1.0 (renaming of 0.25). Use the min_impurity_decrease parameter instead.\n",
      "  warnings.warn(\n",
      "D:\\New folder\\lib\\site-packages\\sklearn\\tree\\_classes.py:315: FutureWarning: The min_impurity_split parameter is deprecated. Its default value has changed from 1e-7 to 0 in version 0.23, and it will be removed in 1.0 (renaming of 0.25). Use the min_impurity_decrease parameter instead.\n",
      "  warnings.warn(\n",
      "D:\\New folder\\lib\\site-packages\\sklearn\\tree\\_classes.py:315: FutureWarning: The min_impurity_split parameter is deprecated. Its default value has changed from 1e-7 to 0 in version 0.23, and it will be removed in 1.0 (renaming of 0.25). Use the min_impurity_decrease parameter instead.\n",
      "  warnings.warn(\n",
      "D:\\New folder\\lib\\site-packages\\sklearn\\tree\\_classes.py:315: FutureWarning: The min_impurity_split parameter is deprecated. Its default value has changed from 1e-7 to 0 in version 0.23, and it will be removed in 1.0 (renaming of 0.25). Use the min_impurity_decrease parameter instead.\n",
      "  warnings.warn(\n",
      "D:\\New folder\\lib\\site-packages\\sklearn\\tree\\_classes.py:315: FutureWarning: The min_impurity_split parameter is deprecated. Its default value has changed from 1e-7 to 0 in version 0.23, and it will be removed in 1.0 (renaming of 0.25). Use the min_impurity_decrease parameter instead.\n",
      "  warnings.warn(\n",
      "D:\\New folder\\lib\\site-packages\\sklearn\\tree\\_classes.py:315: FutureWarning: The min_impurity_split parameter is deprecated. Its default value has changed from 1e-7 to 0 in version 0.23, and it will be removed in 1.0 (renaming of 0.25). Use the min_impurity_decrease parameter instead.\n",
      "  warnings.warn(\n",
      "D:\\New folder\\lib\\site-packages\\sklearn\\tree\\_classes.py:315: FutureWarning: The min_impurity_split parameter is deprecated. Its default value has changed from 1e-7 to 0 in version 0.23, and it will be removed in 1.0 (renaming of 0.25). Use the min_impurity_decrease parameter instead.\n",
      "  warnings.warn(\n",
      "D:\\New folder\\lib\\site-packages\\sklearn\\tree\\_classes.py:315: FutureWarning: The min_impurity_split parameter is deprecated. Its default value has changed from 1e-7 to 0 in version 0.23, and it will be removed in 1.0 (renaming of 0.25). Use the min_impurity_decrease parameter instead.\n",
      "  warnings.warn(\n",
      "D:\\New folder\\lib\\site-packages\\sklearn\\tree\\_classes.py:315: FutureWarning: The min_impurity_split parameter is deprecated. Its default value has changed from 1e-7 to 0 in version 0.23, and it will be removed in 1.0 (renaming of 0.25). Use the min_impurity_decrease parameter instead.\n",
      "  warnings.warn(\n",
      "D:\\New folder\\lib\\site-packages\\sklearn\\tree\\_classes.py:315: FutureWarning: The min_impurity_split parameter is deprecated. Its default value has changed from 1e-7 to 0 in version 0.23, and it will be removed in 1.0 (renaming of 0.25). Use the min_impurity_decrease parameter instead.\n",
      "  warnings.warn(\n",
      "D:\\New folder\\lib\\site-packages\\sklearn\\tree\\_classes.py:315: FutureWarning: The min_impurity_split parameter is deprecated. Its default value has changed from 1e-7 to 0 in version 0.23, and it will be removed in 1.0 (renaming of 0.25). Use the min_impurity_decrease parameter instead.\n",
      "  warnings.warn(\n",
      "D:\\New folder\\lib\\site-packages\\sklearn\\tree\\_classes.py:315: FutureWarning: The min_impurity_split parameter is deprecated. Its default value has changed from 1e-7 to 0 in version 0.23, and it will be removed in 1.0 (renaming of 0.25). Use the min_impurity_decrease parameter instead.\n",
      "  warnings.warn(\n",
      "D:\\New folder\\lib\\site-packages\\sklearn\\tree\\_classes.py:315: FutureWarning: The min_impurity_split parameter is deprecated. Its default value has changed from 1e-7 to 0 in version 0.23, and it will be removed in 1.0 (renaming of 0.25). Use the min_impurity_decrease parameter instead.\n",
      "  warnings.warn(\n",
      "D:\\New folder\\lib\\site-packages\\sklearn\\tree\\_classes.py:315: FutureWarning: The min_impurity_split parameter is deprecated. Its default value has changed from 1e-7 to 0 in version 0.23, and it will be removed in 1.0 (renaming of 0.25). Use the min_impurity_decrease parameter instead.\n",
      "  warnings.warn(\n",
      "D:\\New folder\\lib\\site-packages\\sklearn\\tree\\_classes.py:315: FutureWarning: The min_impurity_split parameter is deprecated. Its default value has changed from 1e-7 to 0 in version 0.23, and it will be removed in 1.0 (renaming of 0.25). Use the min_impurity_decrease parameter instead.\n",
      "  warnings.warn(\n",
      "D:\\New folder\\lib\\site-packages\\sklearn\\tree\\_classes.py:315: FutureWarning: The min_impurity_split parameter is deprecated. Its default value has changed from 1e-7 to 0 in version 0.23, and it will be removed in 1.0 (renaming of 0.25). Use the min_impurity_decrease parameter instead.\n",
      "  warnings.warn(\n",
      "D:\\New folder\\lib\\site-packages\\sklearn\\tree\\_classes.py:315: FutureWarning: The min_impurity_split parameter is deprecated. Its default value has changed from 1e-7 to 0 in version 0.23, and it will be removed in 1.0 (renaming of 0.25). Use the min_impurity_decrease parameter instead.\n",
      "  warnings.warn(\n",
      "D:\\New folder\\lib\\site-packages\\sklearn\\tree\\_classes.py:315: FutureWarning: The min_impurity_split parameter is deprecated. Its default value has changed from 1e-7 to 0 in version 0.23, and it will be removed in 1.0 (renaming of 0.25). Use the min_impurity_decrease parameter instead.\n",
      "  warnings.warn(\n",
      "D:\\New folder\\lib\\site-packages\\sklearn\\tree\\_classes.py:315: FutureWarning: The min_impurity_split parameter is deprecated. Its default value has changed from 1e-7 to 0 in version 0.23, and it will be removed in 1.0 (renaming of 0.25). Use the min_impurity_decrease parameter instead.\n",
      "  warnings.warn(\n",
      "D:\\New folder\\lib\\site-packages\\sklearn\\tree\\_classes.py:315: FutureWarning: The min_impurity_split parameter is deprecated. Its default value has changed from 1e-7 to 0 in version 0.23, and it will be removed in 1.0 (renaming of 0.25). Use the min_impurity_decrease parameter instead.\n",
      "  warnings.warn(\n",
      "D:\\New folder\\lib\\site-packages\\sklearn\\tree\\_classes.py:315: FutureWarning: The min_impurity_split parameter is deprecated. Its default value has changed from 1e-7 to 0 in version 0.23, and it will be removed in 1.0 (renaming of 0.25). Use the min_impurity_decrease parameter instead.\n",
      "  warnings.warn(\n",
      "D:\\New folder\\lib\\site-packages\\sklearn\\tree\\_classes.py:315: FutureWarning: The min_impurity_split parameter is deprecated. Its default value has changed from 1e-7 to 0 in version 0.23, and it will be removed in 1.0 (renaming of 0.25). Use the min_impurity_decrease parameter instead.\n",
      "  warnings.warn(\n",
      "D:\\New folder\\lib\\site-packages\\sklearn\\tree\\_classes.py:315: FutureWarning: The min_impurity_split parameter is deprecated. Its default value has changed from 1e-7 to 0 in version 0.23, and it will be removed in 1.0 (renaming of 0.25). Use the min_impurity_decrease parameter instead.\n",
      "  warnings.warn(\n",
      "D:\\New folder\\lib\\site-packages\\sklearn\\tree\\_classes.py:315: FutureWarning: The min_impurity_split parameter is deprecated. Its default value has changed from 1e-7 to 0 in version 0.23, and it will be removed in 1.0 (renaming of 0.25). Use the min_impurity_decrease parameter instead.\n",
      "  warnings.warn(\n",
      "D:\\New folder\\lib\\site-packages\\sklearn\\tree\\_classes.py:315: FutureWarning: The min_impurity_split parameter is deprecated. Its default value has changed from 1e-7 to 0 in version 0.23, and it will be removed in 1.0 (renaming of 0.25). Use the min_impurity_decrease parameter instead.\n",
      "  warnings.warn(\n",
      "D:\\New folder\\lib\\site-packages\\sklearn\\tree\\_classes.py:315: FutureWarning: The min_impurity_split parameter is deprecated. Its default value has changed from 1e-7 to 0 in version 0.23, and it will be removed in 1.0 (renaming of 0.25). Use the min_impurity_decrease parameter instead.\n",
      "  warnings.warn(\n",
      "D:\\New folder\\lib\\site-packages\\sklearn\\tree\\_classes.py:315: FutureWarning: The min_impurity_split parameter is deprecated. Its default value has changed from 1e-7 to 0 in version 0.23, and it will be removed in 1.0 (renaming of 0.25). Use the min_impurity_decrease parameter instead.\n",
      "  warnings.warn(\n",
      "D:\\New folder\\lib\\site-packages\\sklearn\\tree\\_classes.py:315: FutureWarning: The min_impurity_split parameter is deprecated. Its default value has changed from 1e-7 to 0 in version 0.23, and it will be removed in 1.0 (renaming of 0.25). Use the min_impurity_decrease parameter instead.\n",
      "  warnings.warn(\n",
      "D:\\New folder\\lib\\site-packages\\sklearn\\tree\\_classes.py:315: FutureWarning: The min_impurity_split parameter is deprecated. Its default value has changed from 1e-7 to 0 in version 0.23, and it will be removed in 1.0 (renaming of 0.25). Use the min_impurity_decrease parameter instead.\n",
      "  warnings.warn(\n",
      "D:\\New folder\\lib\\site-packages\\sklearn\\tree\\_classes.py:315: FutureWarning: The min_impurity_split parameter is deprecated. Its default value has changed from 1e-7 to 0 in version 0.23, and it will be removed in 1.0 (renaming of 0.25). Use the min_impurity_decrease parameter instead.\n",
      "  warnings.warn(\n",
      "D:\\New folder\\lib\\site-packages\\sklearn\\tree\\_classes.py:315: FutureWarning: The min_impurity_split parameter is deprecated. Its default value has changed from 1e-7 to 0 in version 0.23, and it will be removed in 1.0 (renaming of 0.25). Use the min_impurity_decrease parameter instead.\n",
      "  warnings.warn(\n",
      "D:\\New folder\\lib\\site-packages\\sklearn\\tree\\_classes.py:315: FutureWarning: The min_impurity_split parameter is deprecated. Its default value has changed from 1e-7 to 0 in version 0.23, and it will be removed in 1.0 (renaming of 0.25). Use the min_impurity_decrease parameter instead.\n",
      "  warnings.warn(\n",
      "D:\\New folder\\lib\\site-packages\\sklearn\\tree\\_classes.py:315: FutureWarning: The min_impurity_split parameter is deprecated. Its default value has changed from 1e-7 to 0 in version 0.23, and it will be removed in 1.0 (renaming of 0.25). Use the min_impurity_decrease parameter instead.\n",
      "  warnings.warn(\n",
      "D:\\New folder\\lib\\site-packages\\sklearn\\tree\\_classes.py:315: FutureWarning: The min_impurity_split parameter is deprecated. Its default value has changed from 1e-7 to 0 in version 0.23, and it will be removed in 1.0 (renaming of 0.25). Use the min_impurity_decrease parameter instead.\n",
      "  warnings.warn(\n",
      "D:\\New folder\\lib\\site-packages\\sklearn\\tree\\_classes.py:315: FutureWarning: The min_impurity_split parameter is deprecated. Its default value has changed from 1e-7 to 0 in version 0.23, and it will be removed in 1.0 (renaming of 0.25). Use the min_impurity_decrease parameter instead.\n",
      "  warnings.warn(\n",
      "D:\\New folder\\lib\\site-packages\\sklearn\\tree\\_classes.py:315: FutureWarning: The min_impurity_split parameter is deprecated. Its default value has changed from 1e-7 to 0 in version 0.23, and it will be removed in 1.0 (renaming of 0.25). Use the min_impurity_decrease parameter instead.\n",
      "  warnings.warn(\n",
      "D:\\New folder\\lib\\site-packages\\sklearn\\tree\\_classes.py:315: FutureWarning: The min_impurity_split parameter is deprecated. Its default value has changed from 1e-7 to 0 in version 0.23, and it will be removed in 1.0 (renaming of 0.25). Use the min_impurity_decrease parameter instead.\n",
      "  warnings.warn(\n",
      "D:\\New folder\\lib\\site-packages\\sklearn\\tree\\_classes.py:315: FutureWarning: The min_impurity_split parameter is deprecated. Its default value has changed from 1e-7 to 0 in version 0.23, and it will be removed in 1.0 (renaming of 0.25). Use the min_impurity_decrease parameter instead.\n",
      "  warnings.warn(\n",
      "D:\\New folder\\lib\\site-packages\\sklearn\\tree\\_classes.py:315: FutureWarning: The min_impurity_split parameter is deprecated. Its default value has changed from 1e-7 to 0 in version 0.23, and it will be removed in 1.0 (renaming of 0.25). Use the min_impurity_decrease parameter instead.\n",
      "  warnings.warn(\n",
      "D:\\New folder\\lib\\site-packages\\sklearn\\tree\\_classes.py:315: FutureWarning: The min_impurity_split parameter is deprecated. Its default value has changed from 1e-7 to 0 in version 0.23, and it will be removed in 1.0 (renaming of 0.25). Use the min_impurity_decrease parameter instead.\n",
      "  warnings.warn(\n",
      "D:\\New folder\\lib\\site-packages\\sklearn\\tree\\_classes.py:315: FutureWarning: The min_impurity_split parameter is deprecated. Its default value has changed from 1e-7 to 0 in version 0.23, and it will be removed in 1.0 (renaming of 0.25). Use the min_impurity_decrease parameter instead.\n",
      "  warnings.warn(\n",
      "D:\\New folder\\lib\\site-packages\\sklearn\\tree\\_classes.py:315: FutureWarning: The min_impurity_split parameter is deprecated. Its default value has changed from 1e-7 to 0 in version 0.23, and it will be removed in 1.0 (renaming of 0.25). Use the min_impurity_decrease parameter instead.\n",
      "  warnings.warn(\n",
      "D:\\New folder\\lib\\site-packages\\sklearn\\tree\\_classes.py:315: FutureWarning: The min_impurity_split parameter is deprecated. Its default value has changed from 1e-7 to 0 in version 0.23, and it will be removed in 1.0 (renaming of 0.25). Use the min_impurity_decrease parameter instead.\n",
      "  warnings.warn(\n",
      "D:\\New folder\\lib\\site-packages\\sklearn\\tree\\_classes.py:315: FutureWarning: The min_impurity_split parameter is deprecated. Its default value has changed from 1e-7 to 0 in version 0.23, and it will be removed in 1.0 (renaming of 0.25). Use the min_impurity_decrease parameter instead.\n",
      "  warnings.warn(\n",
      "D:\\New folder\\lib\\site-packages\\sklearn\\tree\\_classes.py:315: FutureWarning: The min_impurity_split parameter is deprecated. Its default value has changed from 1e-7 to 0 in version 0.23, and it will be removed in 1.0 (renaming of 0.25). Use the min_impurity_decrease parameter instead.\n",
      "  warnings.warn(\n",
      "D:\\New folder\\lib\\site-packages\\sklearn\\tree\\_classes.py:315: FutureWarning: The min_impurity_split parameter is deprecated. Its default value has changed from 1e-7 to 0 in version 0.23, and it will be removed in 1.0 (renaming of 0.25). Use the min_impurity_decrease parameter instead.\n",
      "  warnings.warn(\n",
      "D:\\New folder\\lib\\site-packages\\sklearn\\tree\\_classes.py:315: FutureWarning: The min_impurity_split parameter is deprecated. Its default value has changed from 1e-7 to 0 in version 0.23, and it will be removed in 1.0 (renaming of 0.25). Use the min_impurity_decrease parameter instead.\n",
      "  warnings.warn(\n",
      "D:\\New folder\\lib\\site-packages\\sklearn\\tree\\_classes.py:315: FutureWarning: The min_impurity_split parameter is deprecated. Its default value has changed from 1e-7 to 0 in version 0.23, and it will be removed in 1.0 (renaming of 0.25). Use the min_impurity_decrease parameter instead.\n",
      "  warnings.warn(\n",
      "D:\\New folder\\lib\\site-packages\\sklearn\\tree\\_classes.py:315: FutureWarning: The min_impurity_split parameter is deprecated. Its default value has changed from 1e-7 to 0 in version 0.23, and it will be removed in 1.0 (renaming of 0.25). Use the min_impurity_decrease parameter instead.\n",
      "  warnings.warn(\n",
      "D:\\New folder\\lib\\site-packages\\sklearn\\tree\\_classes.py:315: FutureWarning: The min_impurity_split parameter is deprecated. Its default value has changed from 1e-7 to 0 in version 0.23, and it will be removed in 1.0 (renaming of 0.25). Use the min_impurity_decrease parameter instead.\n",
      "  warnings.warn(\n",
      "D:\\New folder\\lib\\site-packages\\sklearn\\tree\\_classes.py:315: FutureWarning: The min_impurity_split parameter is deprecated. Its default value has changed from 1e-7 to 0 in version 0.23, and it will be removed in 1.0 (renaming of 0.25). Use the min_impurity_decrease parameter instead.\n",
      "  warnings.warn(\n",
      "D:\\New folder\\lib\\site-packages\\sklearn\\tree\\_classes.py:315: FutureWarning: The min_impurity_split parameter is deprecated. Its default value has changed from 1e-7 to 0 in version 0.23, and it will be removed in 1.0 (renaming of 0.25). Use the min_impurity_decrease parameter instead.\n",
      "  warnings.warn(\n",
      "D:\\New folder\\lib\\site-packages\\sklearn\\tree\\_classes.py:315: FutureWarning: The min_impurity_split parameter is deprecated. Its default value has changed from 1e-7 to 0 in version 0.23, and it will be removed in 1.0 (renaming of 0.25). Use the min_impurity_decrease parameter instead.\n",
      "  warnings.warn(\n",
      "D:\\New folder\\lib\\site-packages\\sklearn\\tree\\_classes.py:315: FutureWarning: The min_impurity_split parameter is deprecated. Its default value has changed from 1e-7 to 0 in version 0.23, and it will be removed in 1.0 (renaming of 0.25). Use the min_impurity_decrease parameter instead.\n",
      "  warnings.warn(\n",
      "D:\\New folder\\lib\\site-packages\\sklearn\\tree\\_classes.py:315: FutureWarning: The min_impurity_split parameter is deprecated. Its default value has changed from 1e-7 to 0 in version 0.23, and it will be removed in 1.0 (renaming of 0.25). Use the min_impurity_decrease parameter instead.\n",
      "  warnings.warn(\n",
      "D:\\New folder\\lib\\site-packages\\sklearn\\tree\\_classes.py:315: FutureWarning: The min_impurity_split parameter is deprecated. Its default value has changed from 1e-7 to 0 in version 0.23, and it will be removed in 1.0 (renaming of 0.25). Use the min_impurity_decrease parameter instead.\n",
      "  warnings.warn(\n",
      "D:\\New folder\\lib\\site-packages\\sklearn\\tree\\_classes.py:315: FutureWarning: The min_impurity_split parameter is deprecated. Its default value has changed from 1e-7 to 0 in version 0.23, and it will be removed in 1.0 (renaming of 0.25). Use the min_impurity_decrease parameter instead.\n",
      "  warnings.warn(\n",
      "D:\\New folder\\lib\\site-packages\\sklearn\\tree\\_classes.py:315: FutureWarning: The min_impurity_split parameter is deprecated. Its default value has changed from 1e-7 to 0 in version 0.23, and it will be removed in 1.0 (renaming of 0.25). Use the min_impurity_decrease parameter instead.\n",
      "  warnings.warn(\n",
      "D:\\New folder\\lib\\site-packages\\sklearn\\tree\\_classes.py:315: FutureWarning: The min_impurity_split parameter is deprecated. Its default value has changed from 1e-7 to 0 in version 0.23, and it will be removed in 1.0 (renaming of 0.25). Use the min_impurity_decrease parameter instead.\n",
      "  warnings.warn(\n",
      "D:\\New folder\\lib\\site-packages\\sklearn\\tree\\_classes.py:315: FutureWarning: The min_impurity_split parameter is deprecated. Its default value has changed from 1e-7 to 0 in version 0.23, and it will be removed in 1.0 (renaming of 0.25). Use the min_impurity_decrease parameter instead.\n",
      "  warnings.warn(\n",
      "D:\\New folder\\lib\\site-packages\\sklearn\\tree\\_classes.py:315: FutureWarning: The min_impurity_split parameter is deprecated. Its default value has changed from 1e-7 to 0 in version 0.23, and it will be removed in 1.0 (renaming of 0.25). Use the min_impurity_decrease parameter instead.\n",
      "  warnings.warn(\n",
      "D:\\New folder\\lib\\site-packages\\sklearn\\tree\\_classes.py:315: FutureWarning: The min_impurity_split parameter is deprecated. Its default value has changed from 1e-7 to 0 in version 0.23, and it will be removed in 1.0 (renaming of 0.25). Use the min_impurity_decrease parameter instead.\n",
      "  warnings.warn(\n",
      "D:\\New folder\\lib\\site-packages\\sklearn\\tree\\_classes.py:315: FutureWarning: The min_impurity_split parameter is deprecated. Its default value has changed from 1e-7 to 0 in version 0.23, and it will be removed in 1.0 (renaming of 0.25). Use the min_impurity_decrease parameter instead.\n",
      "  warnings.warn(\n",
      "D:\\New folder\\lib\\site-packages\\sklearn\\tree\\_classes.py:315: FutureWarning: The min_impurity_split parameter is deprecated. Its default value has changed from 1e-7 to 0 in version 0.23, and it will be removed in 1.0 (renaming of 0.25). Use the min_impurity_decrease parameter instead.\n",
      "  warnings.warn(\n",
      "D:\\New folder\\lib\\site-packages\\sklearn\\tree\\_classes.py:315: FutureWarning: The min_impurity_split parameter is deprecated. Its default value has changed from 1e-7 to 0 in version 0.23, and it will be removed in 1.0 (renaming of 0.25). Use the min_impurity_decrease parameter instead.\n",
      "  warnings.warn(\n",
      "D:\\New folder\\lib\\site-packages\\sklearn\\tree\\_classes.py:315: FutureWarning: The min_impurity_split parameter is deprecated. Its default value has changed from 1e-7 to 0 in version 0.23, and it will be removed in 1.0 (renaming of 0.25). Use the min_impurity_decrease parameter instead.\n",
      "  warnings.warn(\n",
      "D:\\New folder\\lib\\site-packages\\sklearn\\tree\\_classes.py:315: FutureWarning: The min_impurity_split parameter is deprecated. Its default value has changed from 1e-7 to 0 in version 0.23, and it will be removed in 1.0 (renaming of 0.25). Use the min_impurity_decrease parameter instead.\n",
      "  warnings.warn(\n",
      "D:\\New folder\\lib\\site-packages\\sklearn\\tree\\_classes.py:315: FutureWarning: The min_impurity_split parameter is deprecated. Its default value has changed from 1e-7 to 0 in version 0.23, and it will be removed in 1.0 (renaming of 0.25). Use the min_impurity_decrease parameter instead.\n",
      "  warnings.warn(\n",
      "D:\\New folder\\lib\\site-packages\\sklearn\\tree\\_classes.py:315: FutureWarning: The min_impurity_split parameter is deprecated. Its default value has changed from 1e-7 to 0 in version 0.23, and it will be removed in 1.0 (renaming of 0.25). Use the min_impurity_decrease parameter instead.\n",
      "  warnings.warn(\n",
      "D:\\New folder\\lib\\site-packages\\sklearn\\tree\\_classes.py:315: FutureWarning: The min_impurity_split parameter is deprecated. Its default value has changed from 1e-7 to 0 in version 0.23, and it will be removed in 1.0 (renaming of 0.25). Use the min_impurity_decrease parameter instead.\n",
      "  warnings.warn(\n",
      "D:\\New folder\\lib\\site-packages\\sklearn\\tree\\_classes.py:315: FutureWarning: The min_impurity_split parameter is deprecated. Its default value has changed from 1e-7 to 0 in version 0.23, and it will be removed in 1.0 (renaming of 0.25). Use the min_impurity_decrease parameter instead.\n",
      "  warnings.warn(\n",
      "D:\\New folder\\lib\\site-packages\\sklearn\\tree\\_classes.py:315: FutureWarning: The min_impurity_split parameter is deprecated. Its default value has changed from 1e-7 to 0 in version 0.23, and it will be removed in 1.0 (renaming of 0.25). Use the min_impurity_decrease parameter instead.\n",
      "  warnings.warn(\n",
      "D:\\New folder\\lib\\site-packages\\sklearn\\tree\\_classes.py:315: FutureWarning: The min_impurity_split parameter is deprecated. Its default value has changed from 1e-7 to 0 in version 0.23, and it will be removed in 1.0 (renaming of 0.25). Use the min_impurity_decrease parameter instead.\n",
      "  warnings.warn(\n",
      "D:\\New folder\\lib\\site-packages\\sklearn\\tree\\_classes.py:315: FutureWarning: The min_impurity_split parameter is deprecated. Its default value has changed from 1e-7 to 0 in version 0.23, and it will be removed in 1.0 (renaming of 0.25). Use the min_impurity_decrease parameter instead.\n",
      "  warnings.warn(\n",
      "D:\\New folder\\lib\\site-packages\\sklearn\\tree\\_classes.py:315: FutureWarning: The min_impurity_split parameter is deprecated. Its default value has changed from 1e-7 to 0 in version 0.23, and it will be removed in 1.0 (renaming of 0.25). Use the min_impurity_decrease parameter instead.\n",
      "  warnings.warn(\n",
      "D:\\New folder\\lib\\site-packages\\sklearn\\tree\\_classes.py:315: FutureWarning: The min_impurity_split parameter is deprecated. Its default value has changed from 1e-7 to 0 in version 0.23, and it will be removed in 1.0 (renaming of 0.25). Use the min_impurity_decrease parameter instead.\n",
      "  warnings.warn(\n",
      "D:\\New folder\\lib\\site-packages\\sklearn\\tree\\_classes.py:315: FutureWarning: The min_impurity_split parameter is deprecated. Its default value has changed from 1e-7 to 0 in version 0.23, and it will be removed in 1.0 (renaming of 0.25). Use the min_impurity_decrease parameter instead.\n",
      "  warnings.warn(\n",
      "D:\\New folder\\lib\\site-packages\\sklearn\\tree\\_classes.py:315: FutureWarning: The min_impurity_split parameter is deprecated. Its default value has changed from 1e-7 to 0 in version 0.23, and it will be removed in 1.0 (renaming of 0.25). Use the min_impurity_decrease parameter instead.\n",
      "  warnings.warn(\n",
      "D:\\New folder\\lib\\site-packages\\sklearn\\tree\\_classes.py:315: FutureWarning: The min_impurity_split parameter is deprecated. Its default value has changed from 1e-7 to 0 in version 0.23, and it will be removed in 1.0 (renaming of 0.25). Use the min_impurity_decrease parameter instead.\n",
      "  warnings.warn(\n",
      "D:\\New folder\\lib\\site-packages\\sklearn\\tree\\_classes.py:315: FutureWarning: The min_impurity_split parameter is deprecated. Its default value has changed from 1e-7 to 0 in version 0.23, and it will be removed in 1.0 (renaming of 0.25). Use the min_impurity_decrease parameter instead.\n",
      "  warnings.warn(\n",
      "D:\\New folder\\lib\\site-packages\\sklearn\\tree\\_classes.py:315: FutureWarning: The min_impurity_split parameter is deprecated. Its default value has changed from 1e-7 to 0 in version 0.23, and it will be removed in 1.0 (renaming of 0.25). Use the min_impurity_decrease parameter instead.\n",
      "  warnings.warn(\n",
      "D:\\New folder\\lib\\site-packages\\sklearn\\tree\\_classes.py:315: FutureWarning: The min_impurity_split parameter is deprecated. Its default value has changed from 1e-7 to 0 in version 0.23, and it will be removed in 1.0 (renaming of 0.25). Use the min_impurity_decrease parameter instead.\n",
      "  warnings.warn(\n",
      "D:\\New folder\\lib\\site-packages\\sklearn\\tree\\_classes.py:315: FutureWarning: The min_impurity_split parameter is deprecated. Its default value has changed from 1e-7 to 0 in version 0.23, and it will be removed in 1.0 (renaming of 0.25). Use the min_impurity_decrease parameter instead.\n",
      "  warnings.warn(\n",
      "D:\\New folder\\lib\\site-packages\\sklearn\\tree\\_classes.py:315: FutureWarning: The min_impurity_split parameter is deprecated. Its default value has changed from 1e-7 to 0 in version 0.23, and it will be removed in 1.0 (renaming of 0.25). Use the min_impurity_decrease parameter instead.\n",
      "  warnings.warn(\n",
      "D:\\New folder\\lib\\site-packages\\sklearn\\tree\\_classes.py:315: FutureWarning: The min_impurity_split parameter is deprecated. Its default value has changed from 1e-7 to 0 in version 0.23, and it will be removed in 1.0 (renaming of 0.25). Use the min_impurity_decrease parameter instead.\n",
      "  warnings.warn(\n",
      "D:\\New folder\\lib\\site-packages\\sklearn\\tree\\_classes.py:315: FutureWarning: The min_impurity_split parameter is deprecated. Its default value has changed from 1e-7 to 0 in version 0.23, and it will be removed in 1.0 (renaming of 0.25). Use the min_impurity_decrease parameter instead.\n",
      "  warnings.warn(\n",
      "D:\\New folder\\lib\\site-packages\\sklearn\\tree\\_classes.py:315: FutureWarning: The min_impurity_split parameter is deprecated. Its default value has changed from 1e-7 to 0 in version 0.23, and it will be removed in 1.0 (renaming of 0.25). Use the min_impurity_decrease parameter instead.\n",
      "  warnings.warn(\n",
      "D:\\New folder\\lib\\site-packages\\sklearn\\tree\\_classes.py:315: FutureWarning: The min_impurity_split parameter is deprecated. Its default value has changed from 1e-7 to 0 in version 0.23, and it will be removed in 1.0 (renaming of 0.25). Use the min_impurity_decrease parameter instead.\n",
      "  warnings.warn(\n",
      "D:\\New folder\\lib\\site-packages\\sklearn\\tree\\_classes.py:315: FutureWarning: The min_impurity_split parameter is deprecated. Its default value has changed from 1e-7 to 0 in version 0.23, and it will be removed in 1.0 (renaming of 0.25). Use the min_impurity_decrease parameter instead.\n",
      "  warnings.warn(\n",
      "D:\\New folder\\lib\\site-packages\\sklearn\\tree\\_classes.py:315: FutureWarning: The min_impurity_split parameter is deprecated. Its default value has changed from 1e-7 to 0 in version 0.23, and it will be removed in 1.0 (renaming of 0.25). Use the min_impurity_decrease parameter instead.\n",
      "  warnings.warn(\n",
      "D:\\New folder\\lib\\site-packages\\sklearn\\tree\\_classes.py:315: FutureWarning: The min_impurity_split parameter is deprecated. Its default value has changed from 1e-7 to 0 in version 0.23, and it will be removed in 1.0 (renaming of 0.25). Use the min_impurity_decrease parameter instead.\n",
      "  warnings.warn(\n",
      "D:\\New folder\\lib\\site-packages\\sklearn\\tree\\_classes.py:315: FutureWarning: The min_impurity_split parameter is deprecated. Its default value has changed from 1e-7 to 0 in version 0.23, and it will be removed in 1.0 (renaming of 0.25). Use the min_impurity_decrease parameter instead.\n",
      "  warnings.warn(\n",
      "D:\\New folder\\lib\\site-packages\\sklearn\\tree\\_classes.py:315: FutureWarning: The min_impurity_split parameter is deprecated. Its default value has changed from 1e-7 to 0 in version 0.23, and it will be removed in 1.0 (renaming of 0.25). Use the min_impurity_decrease parameter instead.\n",
      "  warnings.warn(\n",
      "D:\\New folder\\lib\\site-packages\\sklearn\\tree\\_classes.py:315: FutureWarning: The min_impurity_split parameter is deprecated. Its default value has changed from 1e-7 to 0 in version 0.23, and it will be removed in 1.0 (renaming of 0.25). Use the min_impurity_decrease parameter instead.\n",
      "  warnings.warn(\n",
      "D:\\New folder\\lib\\site-packages\\sklearn\\tree\\_classes.py:315: FutureWarning: The min_impurity_split parameter is deprecated. Its default value has changed from 1e-7 to 0 in version 0.23, and it will be removed in 1.0 (renaming of 0.25). Use the min_impurity_decrease parameter instead.\n",
      "  warnings.warn(\n",
      "D:\\New folder\\lib\\site-packages\\sklearn\\tree\\_classes.py:315: FutureWarning: The min_impurity_split parameter is deprecated. Its default value has changed from 1e-7 to 0 in version 0.23, and it will be removed in 1.0 (renaming of 0.25). Use the min_impurity_decrease parameter instead.\n",
      "  warnings.warn(\n",
      "D:\\New folder\\lib\\site-packages\\sklearn\\tree\\_classes.py:315: FutureWarning: The min_impurity_split parameter is deprecated. Its default value has changed from 1e-7 to 0 in version 0.23, and it will be removed in 1.0 (renaming of 0.25). Use the min_impurity_decrease parameter instead.\n",
      "  warnings.warn(\n",
      "D:\\New folder\\lib\\site-packages\\sklearn\\tree\\_classes.py:315: FutureWarning: The min_impurity_split parameter is deprecated. Its default value has changed from 1e-7 to 0 in version 0.23, and it will be removed in 1.0 (renaming of 0.25). Use the min_impurity_decrease parameter instead.\n",
      "  warnings.warn(\n",
      "D:\\New folder\\lib\\site-packages\\sklearn\\tree\\_classes.py:315: FutureWarning: The min_impurity_split parameter is deprecated. Its default value has changed from 1e-7 to 0 in version 0.23, and it will be removed in 1.0 (renaming of 0.25). Use the min_impurity_decrease parameter instead.\n",
      "  warnings.warn(\n",
      "D:\\New folder\\lib\\site-packages\\sklearn\\tree\\_classes.py:315: FutureWarning: The min_impurity_split parameter is deprecated. Its default value has changed from 1e-7 to 0 in version 0.23, and it will be removed in 1.0 (renaming of 0.25). Use the min_impurity_decrease parameter instead.\n",
      "  warnings.warn(\n",
      "D:\\New folder\\lib\\site-packages\\sklearn\\tree\\_classes.py:315: FutureWarning: The min_impurity_split parameter is deprecated. Its default value has changed from 1e-7 to 0 in version 0.23, and it will be removed in 1.0 (renaming of 0.25). Use the min_impurity_decrease parameter instead.\n",
      "  warnings.warn(\n",
      "D:\\New folder\\lib\\site-packages\\sklearn\\tree\\_classes.py:315: FutureWarning: The min_impurity_split parameter is deprecated. Its default value has changed from 1e-7 to 0 in version 0.23, and it will be removed in 1.0 (renaming of 0.25). Use the min_impurity_decrease parameter instead.\n",
      "  warnings.warn(\n",
      "D:\\New folder\\lib\\site-packages\\sklearn\\tree\\_classes.py:315: FutureWarning: The min_impurity_split parameter is deprecated. Its default value has changed from 1e-7 to 0 in version 0.23, and it will be removed in 1.0 (renaming of 0.25). Use the min_impurity_decrease parameter instead.\n",
      "  warnings.warn(\n",
      "D:\\New folder\\lib\\site-packages\\sklearn\\tree\\_classes.py:315: FutureWarning: The min_impurity_split parameter is deprecated. Its default value has changed from 1e-7 to 0 in version 0.23, and it will be removed in 1.0 (renaming of 0.25). Use the min_impurity_decrease parameter instead.\n",
      "  warnings.warn(\n",
      "D:\\New folder\\lib\\site-packages\\sklearn\\tree\\_classes.py:315: FutureWarning: The min_impurity_split parameter is deprecated. Its default value has changed from 1e-7 to 0 in version 0.23, and it will be removed in 1.0 (renaming of 0.25). Use the min_impurity_decrease parameter instead.\n",
      "  warnings.warn(\n",
      "D:\\New folder\\lib\\site-packages\\sklearn\\tree\\_classes.py:315: FutureWarning: The min_impurity_split parameter is deprecated. Its default value has changed from 1e-7 to 0 in version 0.23, and it will be removed in 1.0 (renaming of 0.25). Use the min_impurity_decrease parameter instead.\n",
      "  warnings.warn(\n",
      "D:\\New folder\\lib\\site-packages\\sklearn\\tree\\_classes.py:315: FutureWarning: The min_impurity_split parameter is deprecated. Its default value has changed from 1e-7 to 0 in version 0.23, and it will be removed in 1.0 (renaming of 0.25). Use the min_impurity_decrease parameter instead.\n",
      "  warnings.warn(\n",
      "D:\\New folder\\lib\\site-packages\\sklearn\\tree\\_classes.py:315: FutureWarning: The min_impurity_split parameter is deprecated. Its default value has changed from 1e-7 to 0 in version 0.23, and it will be removed in 1.0 (renaming of 0.25). Use the min_impurity_decrease parameter instead.\n",
      "  warnings.warn(\n",
      "D:\\New folder\\lib\\site-packages\\sklearn\\tree\\_classes.py:315: FutureWarning: The min_impurity_split parameter is deprecated. Its default value has changed from 1e-7 to 0 in version 0.23, and it will be removed in 1.0 (renaming of 0.25). Use the min_impurity_decrease parameter instead.\n",
      "  warnings.warn(\n",
      "D:\\New folder\\lib\\site-packages\\sklearn\\tree\\_classes.py:315: FutureWarning: The min_impurity_split parameter is deprecated. Its default value has changed from 1e-7 to 0 in version 0.23, and it will be removed in 1.0 (renaming of 0.25). Use the min_impurity_decrease parameter instead.\n",
      "  warnings.warn(\n",
      "D:\\New folder\\lib\\site-packages\\sklearn\\tree\\_classes.py:315: FutureWarning: The min_impurity_split parameter is deprecated. Its default value has changed from 1e-7 to 0 in version 0.23, and it will be removed in 1.0 (renaming of 0.25). Use the min_impurity_decrease parameter instead.\n",
      "  warnings.warn(\n",
      "D:\\New folder\\lib\\site-packages\\sklearn\\tree\\_classes.py:315: FutureWarning: The min_impurity_split parameter is deprecated. Its default value has changed from 1e-7 to 0 in version 0.23, and it will be removed in 1.0 (renaming of 0.25). Use the min_impurity_decrease parameter instead.\n",
      "  warnings.warn(\n",
      "D:\\New folder\\lib\\site-packages\\sklearn\\tree\\_classes.py:315: FutureWarning: The min_impurity_split parameter is deprecated. Its default value has changed from 1e-7 to 0 in version 0.23, and it will be removed in 1.0 (renaming of 0.25). Use the min_impurity_decrease parameter instead.\n",
      "  warnings.warn(\n",
      "D:\\New folder\\lib\\site-packages\\sklearn\\tree\\_classes.py:315: FutureWarning: The min_impurity_split parameter is deprecated. Its default value has changed from 1e-7 to 0 in version 0.23, and it will be removed in 1.0 (renaming of 0.25). Use the min_impurity_decrease parameter instead.\n",
      "  warnings.warn(\n",
      "D:\\New folder\\lib\\site-packages\\sklearn\\tree\\_classes.py:315: FutureWarning: The min_impurity_split parameter is deprecated. Its default value has changed from 1e-7 to 0 in version 0.23, and it will be removed in 1.0 (renaming of 0.25). Use the min_impurity_decrease parameter instead.\n",
      "  warnings.warn(\n",
      "D:\\New folder\\lib\\site-packages\\sklearn\\tree\\_classes.py:315: FutureWarning: The min_impurity_split parameter is deprecated. Its default value has changed from 1e-7 to 0 in version 0.23, and it will be removed in 1.0 (renaming of 0.25). Use the min_impurity_decrease parameter instead.\n",
      "  warnings.warn(\n",
      "D:\\New folder\\lib\\site-packages\\sklearn\\tree\\_classes.py:315: FutureWarning: The min_impurity_split parameter is deprecated. Its default value has changed from 1e-7 to 0 in version 0.23, and it will be removed in 1.0 (renaming of 0.25). Use the min_impurity_decrease parameter instead.\n",
      "  warnings.warn(\n",
      "D:\\New folder\\lib\\site-packages\\sklearn\\tree\\_classes.py:315: FutureWarning: The min_impurity_split parameter is deprecated. Its default value has changed from 1e-7 to 0 in version 0.23, and it will be removed in 1.0 (renaming of 0.25). Use the min_impurity_decrease parameter instead.\n",
      "  warnings.warn(\n",
      "D:\\New folder\\lib\\site-packages\\sklearn\\tree\\_classes.py:315: FutureWarning: The min_impurity_split parameter is deprecated. Its default value has changed from 1e-7 to 0 in version 0.23, and it will be removed in 1.0 (renaming of 0.25). Use the min_impurity_decrease parameter instead.\n",
      "  warnings.warn(\n",
      "D:\\New folder\\lib\\site-packages\\sklearn\\tree\\_classes.py:315: FutureWarning: The min_impurity_split parameter is deprecated. Its default value has changed from 1e-7 to 0 in version 0.23, and it will be removed in 1.0 (renaming of 0.25). Use the min_impurity_decrease parameter instead.\n",
      "  warnings.warn(\n",
      "D:\\New folder\\lib\\site-packages\\sklearn\\tree\\_classes.py:315: FutureWarning: The min_impurity_split parameter is deprecated. Its default value has changed from 1e-7 to 0 in version 0.23, and it will be removed in 1.0 (renaming of 0.25). Use the min_impurity_decrease parameter instead.\n",
      "  warnings.warn(\n",
      "D:\\New folder\\lib\\site-packages\\sklearn\\tree\\_classes.py:315: FutureWarning: The min_impurity_split parameter is deprecated. Its default value has changed from 1e-7 to 0 in version 0.23, and it will be removed in 1.0 (renaming of 0.25). Use the min_impurity_decrease parameter instead.\n",
      "  warnings.warn(\n",
      "D:\\New folder\\lib\\site-packages\\sklearn\\tree\\_classes.py:315: FutureWarning: The min_impurity_split parameter is deprecated. Its default value has changed from 1e-7 to 0 in version 0.23, and it will be removed in 1.0 (renaming of 0.25). Use the min_impurity_decrease parameter instead.\n",
      "  warnings.warn(\n",
      "D:\\New folder\\lib\\site-packages\\sklearn\\tree\\_classes.py:315: FutureWarning: The min_impurity_split parameter is deprecated. Its default value has changed from 1e-7 to 0 in version 0.23, and it will be removed in 1.0 (renaming of 0.25). Use the min_impurity_decrease parameter instead.\n",
      "  warnings.warn(\n",
      "D:\\New folder\\lib\\site-packages\\sklearn\\tree\\_classes.py:315: FutureWarning: The min_impurity_split parameter is deprecated. Its default value has changed from 1e-7 to 0 in version 0.23, and it will be removed in 1.0 (renaming of 0.25). Use the min_impurity_decrease parameter instead.\n",
      "  warnings.warn(\n",
      "D:\\New folder\\lib\\site-packages\\sklearn\\tree\\_classes.py:315: FutureWarning: The min_impurity_split parameter is deprecated. Its default value has changed from 1e-7 to 0 in version 0.23, and it will be removed in 1.0 (renaming of 0.25). Use the min_impurity_decrease parameter instead.\n",
      "  warnings.warn(\n",
      "D:\\New folder\\lib\\site-packages\\sklearn\\tree\\_classes.py:315: FutureWarning: The min_impurity_split parameter is deprecated. Its default value has changed from 1e-7 to 0 in version 0.23, and it will be removed in 1.0 (renaming of 0.25). Use the min_impurity_decrease parameter instead.\n",
      "  warnings.warn(\n",
      "D:\\New folder\\lib\\site-packages\\sklearn\\tree\\_classes.py:315: FutureWarning: The min_impurity_split parameter is deprecated. Its default value has changed from 1e-7 to 0 in version 0.23, and it will be removed in 1.0 (renaming of 0.25). Use the min_impurity_decrease parameter instead.\n",
      "  warnings.warn(\n",
      "D:\\New folder\\lib\\site-packages\\sklearn\\tree\\_classes.py:315: FutureWarning: The min_impurity_split parameter is deprecated. Its default value has changed from 1e-7 to 0 in version 0.23, and it will be removed in 1.0 (renaming of 0.25). Use the min_impurity_decrease parameter instead.\n",
      "  warnings.warn(\n",
      "D:\\New folder\\lib\\site-packages\\sklearn\\tree\\_classes.py:315: FutureWarning: The min_impurity_split parameter is deprecated. Its default value has changed from 1e-7 to 0 in version 0.23, and it will be removed in 1.0 (renaming of 0.25). Use the min_impurity_decrease parameter instead.\n",
      "  warnings.warn(\n",
      "D:\\New folder\\lib\\site-packages\\sklearn\\tree\\_classes.py:315: FutureWarning: The min_impurity_split parameter is deprecated. Its default value has changed from 1e-7 to 0 in version 0.23, and it will be removed in 1.0 (renaming of 0.25). Use the min_impurity_decrease parameter instead.\n",
      "  warnings.warn(\n",
      "D:\\New folder\\lib\\site-packages\\sklearn\\tree\\_classes.py:315: FutureWarning: The min_impurity_split parameter is deprecated. Its default value has changed from 1e-7 to 0 in version 0.23, and it will be removed in 1.0 (renaming of 0.25). Use the min_impurity_decrease parameter instead.\n",
      "  warnings.warn(\n",
      "D:\\New folder\\lib\\site-packages\\sklearn\\tree\\_classes.py:315: FutureWarning: The min_impurity_split parameter is deprecated. Its default value has changed from 1e-7 to 0 in version 0.23, and it will be removed in 1.0 (renaming of 0.25). Use the min_impurity_decrease parameter instead.\n",
      "  warnings.warn(\n",
      "D:\\New folder\\lib\\site-packages\\sklearn\\tree\\_classes.py:315: FutureWarning: The min_impurity_split parameter is deprecated. Its default value has changed from 1e-7 to 0 in version 0.23, and it will be removed in 1.0 (renaming of 0.25). Use the min_impurity_decrease parameter instead.\n",
      "  warnings.warn(\n",
      "D:\\New folder\\lib\\site-packages\\sklearn\\tree\\_classes.py:315: FutureWarning: The min_impurity_split parameter is deprecated. Its default value has changed from 1e-7 to 0 in version 0.23, and it will be removed in 1.0 (renaming of 0.25). Use the min_impurity_decrease parameter instead.\n",
      "  warnings.warn(\n",
      "D:\\New folder\\lib\\site-packages\\sklearn\\tree\\_classes.py:315: FutureWarning: The min_impurity_split parameter is deprecated. Its default value has changed from 1e-7 to 0 in version 0.23, and it will be removed in 1.0 (renaming of 0.25). Use the min_impurity_decrease parameter instead.\n",
      "  warnings.warn(\n",
      "D:\\New folder\\lib\\site-packages\\sklearn\\tree\\_classes.py:315: FutureWarning: The min_impurity_split parameter is deprecated. Its default value has changed from 1e-7 to 0 in version 0.23, and it will be removed in 1.0 (renaming of 0.25). Use the min_impurity_decrease parameter instead.\n",
      "  warnings.warn(\n",
      "D:\\New folder\\lib\\site-packages\\sklearn\\tree\\_classes.py:315: FutureWarning: The min_impurity_split parameter is deprecated. Its default value has changed from 1e-7 to 0 in version 0.23, and it will be removed in 1.0 (renaming of 0.25). Use the min_impurity_decrease parameter instead.\n",
      "  warnings.warn(\n"
     ]
    },
    {
     "name": "stderr",
     "output_type": "stream",
     "text": [
      "D:\\New folder\\lib\\site-packages\\sklearn\\tree\\_classes.py:315: FutureWarning: The min_impurity_split parameter is deprecated. Its default value has changed from 1e-7 to 0 in version 0.23, and it will be removed in 1.0 (renaming of 0.25). Use the min_impurity_decrease parameter instead.\n",
      "  warnings.warn(\n",
      "D:\\New folder\\lib\\site-packages\\sklearn\\tree\\_classes.py:315: FutureWarning: The min_impurity_split parameter is deprecated. Its default value has changed from 1e-7 to 0 in version 0.23, and it will be removed in 1.0 (renaming of 0.25). Use the min_impurity_decrease parameter instead.\n",
      "  warnings.warn(\n",
      "D:\\New folder\\lib\\site-packages\\sklearn\\tree\\_classes.py:315: FutureWarning: The min_impurity_split parameter is deprecated. Its default value has changed from 1e-7 to 0 in version 0.23, and it will be removed in 1.0 (renaming of 0.25). Use the min_impurity_decrease parameter instead.\n",
      "  warnings.warn(\n",
      "D:\\New folder\\lib\\site-packages\\sklearn\\tree\\_classes.py:315: FutureWarning: The min_impurity_split parameter is deprecated. Its default value has changed from 1e-7 to 0 in version 0.23, and it will be removed in 1.0 (renaming of 0.25). Use the min_impurity_decrease parameter instead.\n",
      "  warnings.warn(\n",
      "D:\\New folder\\lib\\site-packages\\sklearn\\tree\\_classes.py:315: FutureWarning: The min_impurity_split parameter is deprecated. Its default value has changed from 1e-7 to 0 in version 0.23, and it will be removed in 1.0 (renaming of 0.25). Use the min_impurity_decrease parameter instead.\n",
      "  warnings.warn(\n",
      "D:\\New folder\\lib\\site-packages\\sklearn\\tree\\_classes.py:315: FutureWarning: The min_impurity_split parameter is deprecated. Its default value has changed from 1e-7 to 0 in version 0.23, and it will be removed in 1.0 (renaming of 0.25). Use the min_impurity_decrease parameter instead.\n",
      "  warnings.warn(\n",
      "D:\\New folder\\lib\\site-packages\\sklearn\\tree\\_classes.py:315: FutureWarning: The min_impurity_split parameter is deprecated. Its default value has changed from 1e-7 to 0 in version 0.23, and it will be removed in 1.0 (renaming of 0.25). Use the min_impurity_decrease parameter instead.\n",
      "  warnings.warn(\n",
      "D:\\New folder\\lib\\site-packages\\sklearn\\tree\\_classes.py:315: FutureWarning: The min_impurity_split parameter is deprecated. Its default value has changed from 1e-7 to 0 in version 0.23, and it will be removed in 1.0 (renaming of 0.25). Use the min_impurity_decrease parameter instead.\n",
      "  warnings.warn(\n",
      "D:\\New folder\\lib\\site-packages\\sklearn\\tree\\_classes.py:315: FutureWarning: The min_impurity_split parameter is deprecated. Its default value has changed from 1e-7 to 0 in version 0.23, and it will be removed in 1.0 (renaming of 0.25). Use the min_impurity_decrease parameter instead.\n",
      "  warnings.warn(\n",
      "D:\\New folder\\lib\\site-packages\\sklearn\\tree\\_classes.py:315: FutureWarning: The min_impurity_split parameter is deprecated. Its default value has changed from 1e-7 to 0 in version 0.23, and it will be removed in 1.0 (renaming of 0.25). Use the min_impurity_decrease parameter instead.\n",
      "  warnings.warn(\n",
      "D:\\New folder\\lib\\site-packages\\sklearn\\tree\\_classes.py:315: FutureWarning: The min_impurity_split parameter is deprecated. Its default value has changed from 1e-7 to 0 in version 0.23, and it will be removed in 1.0 (renaming of 0.25). Use the min_impurity_decrease parameter instead.\n",
      "  warnings.warn(\n",
      "D:\\New folder\\lib\\site-packages\\sklearn\\tree\\_classes.py:315: FutureWarning: The min_impurity_split parameter is deprecated. Its default value has changed from 1e-7 to 0 in version 0.23, and it will be removed in 1.0 (renaming of 0.25). Use the min_impurity_decrease parameter instead.\n",
      "  warnings.warn(\n",
      "D:\\New folder\\lib\\site-packages\\sklearn\\tree\\_classes.py:315: FutureWarning: The min_impurity_split parameter is deprecated. Its default value has changed from 1e-7 to 0 in version 0.23, and it will be removed in 1.0 (renaming of 0.25). Use the min_impurity_decrease parameter instead.\n",
      "  warnings.warn(\n",
      "D:\\New folder\\lib\\site-packages\\sklearn\\tree\\_classes.py:315: FutureWarning: The min_impurity_split parameter is deprecated. Its default value has changed from 1e-7 to 0 in version 0.23, and it will be removed in 1.0 (renaming of 0.25). Use the min_impurity_decrease parameter instead.\n",
      "  warnings.warn(\n",
      "D:\\New folder\\lib\\site-packages\\sklearn\\tree\\_classes.py:315: FutureWarning: The min_impurity_split parameter is deprecated. Its default value has changed from 1e-7 to 0 in version 0.23, and it will be removed in 1.0 (renaming of 0.25). Use the min_impurity_decrease parameter instead.\n",
      "  warnings.warn(\n",
      "D:\\New folder\\lib\\site-packages\\sklearn\\tree\\_classes.py:315: FutureWarning: The min_impurity_split parameter is deprecated. Its default value has changed from 1e-7 to 0 in version 0.23, and it will be removed in 1.0 (renaming of 0.25). Use the min_impurity_decrease parameter instead.\n",
      "  warnings.warn(\n",
      "D:\\New folder\\lib\\site-packages\\sklearn\\tree\\_classes.py:315: FutureWarning: The min_impurity_split parameter is deprecated. Its default value has changed from 1e-7 to 0 in version 0.23, and it will be removed in 1.0 (renaming of 0.25). Use the min_impurity_decrease parameter instead.\n",
      "  warnings.warn(\n",
      "D:\\New folder\\lib\\site-packages\\sklearn\\tree\\_classes.py:315: FutureWarning: The min_impurity_split parameter is deprecated. Its default value has changed from 1e-7 to 0 in version 0.23, and it will be removed in 1.0 (renaming of 0.25). Use the min_impurity_decrease parameter instead.\n",
      "  warnings.warn(\n",
      "D:\\New folder\\lib\\site-packages\\sklearn\\tree\\_classes.py:315: FutureWarning: The min_impurity_split parameter is deprecated. Its default value has changed from 1e-7 to 0 in version 0.23, and it will be removed in 1.0 (renaming of 0.25). Use the min_impurity_decrease parameter instead.\n",
      "  warnings.warn(\n",
      "D:\\New folder\\lib\\site-packages\\sklearn\\tree\\_classes.py:315: FutureWarning: The min_impurity_split parameter is deprecated. Its default value has changed from 1e-7 to 0 in version 0.23, and it will be removed in 1.0 (renaming of 0.25). Use the min_impurity_decrease parameter instead.\n",
      "  warnings.warn(\n",
      "D:\\New folder\\lib\\site-packages\\sklearn\\tree\\_classes.py:315: FutureWarning: The min_impurity_split parameter is deprecated. Its default value has changed from 1e-7 to 0 in version 0.23, and it will be removed in 1.0 (renaming of 0.25). Use the min_impurity_decrease parameter instead.\n",
      "  warnings.warn(\n",
      "D:\\New folder\\lib\\site-packages\\sklearn\\tree\\_classes.py:315: FutureWarning: The min_impurity_split parameter is deprecated. Its default value has changed from 1e-7 to 0 in version 0.23, and it will be removed in 1.0 (renaming of 0.25). Use the min_impurity_decrease parameter instead.\n",
      "  warnings.warn(\n",
      "D:\\New folder\\lib\\site-packages\\sklearn\\tree\\_classes.py:315: FutureWarning: The min_impurity_split parameter is deprecated. Its default value has changed from 1e-7 to 0 in version 0.23, and it will be removed in 1.0 (renaming of 0.25). Use the min_impurity_decrease parameter instead.\n",
      "  warnings.warn(\n",
      "D:\\New folder\\lib\\site-packages\\sklearn\\tree\\_classes.py:315: FutureWarning: The min_impurity_split parameter is deprecated. Its default value has changed from 1e-7 to 0 in version 0.23, and it will be removed in 1.0 (renaming of 0.25). Use the min_impurity_decrease parameter instead.\n",
      "  warnings.warn(\n",
      "D:\\New folder\\lib\\site-packages\\sklearn\\tree\\_classes.py:315: FutureWarning: The min_impurity_split parameter is deprecated. Its default value has changed from 1e-7 to 0 in version 0.23, and it will be removed in 1.0 (renaming of 0.25). Use the min_impurity_decrease parameter instead.\n",
      "  warnings.warn(\n",
      "D:\\New folder\\lib\\site-packages\\sklearn\\tree\\_classes.py:315: FutureWarning: The min_impurity_split parameter is deprecated. Its default value has changed from 1e-7 to 0 in version 0.23, and it will be removed in 1.0 (renaming of 0.25). Use the min_impurity_decrease parameter instead.\n",
      "  warnings.warn(\n",
      "D:\\New folder\\lib\\site-packages\\sklearn\\tree\\_classes.py:315: FutureWarning: The min_impurity_split parameter is deprecated. Its default value has changed from 1e-7 to 0 in version 0.23, and it will be removed in 1.0 (renaming of 0.25). Use the min_impurity_decrease parameter instead.\n",
      "  warnings.warn(\n",
      "D:\\New folder\\lib\\site-packages\\sklearn\\tree\\_classes.py:315: FutureWarning: The min_impurity_split parameter is deprecated. Its default value has changed from 1e-7 to 0 in version 0.23, and it will be removed in 1.0 (renaming of 0.25). Use the min_impurity_decrease parameter instead.\n",
      "  warnings.warn(\n",
      "D:\\New folder\\lib\\site-packages\\sklearn\\tree\\_classes.py:315: FutureWarning: The min_impurity_split parameter is deprecated. Its default value has changed from 1e-7 to 0 in version 0.23, and it will be removed in 1.0 (renaming of 0.25). Use the min_impurity_decrease parameter instead.\n",
      "  warnings.warn(\n",
      "D:\\New folder\\lib\\site-packages\\sklearn\\tree\\_classes.py:315: FutureWarning: The min_impurity_split parameter is deprecated. Its default value has changed from 1e-7 to 0 in version 0.23, and it will be removed in 1.0 (renaming of 0.25). Use the min_impurity_decrease parameter instead.\n",
      "  warnings.warn(\n",
      "D:\\New folder\\lib\\site-packages\\sklearn\\tree\\_classes.py:315: FutureWarning: The min_impurity_split parameter is deprecated. Its default value has changed from 1e-7 to 0 in version 0.23, and it will be removed in 1.0 (renaming of 0.25). Use the min_impurity_decrease parameter instead.\n",
      "  warnings.warn(\n",
      "D:\\New folder\\lib\\site-packages\\sklearn\\tree\\_classes.py:315: FutureWarning: The min_impurity_split parameter is deprecated. Its default value has changed from 1e-7 to 0 in version 0.23, and it will be removed in 1.0 (renaming of 0.25). Use the min_impurity_decrease parameter instead.\n",
      "  warnings.warn(\n",
      "D:\\New folder\\lib\\site-packages\\sklearn\\tree\\_classes.py:315: FutureWarning: The min_impurity_split parameter is deprecated. Its default value has changed from 1e-7 to 0 in version 0.23, and it will be removed in 1.0 (renaming of 0.25). Use the min_impurity_decrease parameter instead.\n",
      "  warnings.warn(\n",
      "D:\\New folder\\lib\\site-packages\\sklearn\\tree\\_classes.py:315: FutureWarning: The min_impurity_split parameter is deprecated. Its default value has changed from 1e-7 to 0 in version 0.23, and it will be removed in 1.0 (renaming of 0.25). Use the min_impurity_decrease parameter instead.\n",
      "  warnings.warn(\n",
      "D:\\New folder\\lib\\site-packages\\sklearn\\tree\\_classes.py:315: FutureWarning: The min_impurity_split parameter is deprecated. Its default value has changed from 1e-7 to 0 in version 0.23, and it will be removed in 1.0 (renaming of 0.25). Use the min_impurity_decrease parameter instead.\n",
      "  warnings.warn(\n",
      "D:\\New folder\\lib\\site-packages\\sklearn\\tree\\_classes.py:315: FutureWarning: The min_impurity_split parameter is deprecated. Its default value has changed from 1e-7 to 0 in version 0.23, and it will be removed in 1.0 (renaming of 0.25). Use the min_impurity_decrease parameter instead.\n",
      "  warnings.warn(\n",
      "D:\\New folder\\lib\\site-packages\\sklearn\\tree\\_classes.py:315: FutureWarning: The min_impurity_split parameter is deprecated. Its default value has changed from 1e-7 to 0 in version 0.23, and it will be removed in 1.0 (renaming of 0.25). Use the min_impurity_decrease parameter instead.\n",
      "  warnings.warn(\n",
      "D:\\New folder\\lib\\site-packages\\sklearn\\tree\\_classes.py:315: FutureWarning: The min_impurity_split parameter is deprecated. Its default value has changed from 1e-7 to 0 in version 0.23, and it will be removed in 1.0 (renaming of 0.25). Use the min_impurity_decrease parameter instead.\n",
      "  warnings.warn(\n",
      "D:\\New folder\\lib\\site-packages\\sklearn\\tree\\_classes.py:315: FutureWarning: The min_impurity_split parameter is deprecated. Its default value has changed from 1e-7 to 0 in version 0.23, and it will be removed in 1.0 (renaming of 0.25). Use the min_impurity_decrease parameter instead.\n",
      "  warnings.warn(\n",
      "D:\\New folder\\lib\\site-packages\\sklearn\\tree\\_classes.py:315: FutureWarning: The min_impurity_split parameter is deprecated. Its default value has changed from 1e-7 to 0 in version 0.23, and it will be removed in 1.0 (renaming of 0.25). Use the min_impurity_decrease parameter instead.\n",
      "  warnings.warn(\n",
      "D:\\New folder\\lib\\site-packages\\sklearn\\tree\\_classes.py:315: FutureWarning: The min_impurity_split parameter is deprecated. Its default value has changed from 1e-7 to 0 in version 0.23, and it will be removed in 1.0 (renaming of 0.25). Use the min_impurity_decrease parameter instead.\n",
      "  warnings.warn(\n",
      "D:\\New folder\\lib\\site-packages\\sklearn\\tree\\_classes.py:315: FutureWarning: The min_impurity_split parameter is deprecated. Its default value has changed from 1e-7 to 0 in version 0.23, and it will be removed in 1.0 (renaming of 0.25). Use the min_impurity_decrease parameter instead.\n",
      "  warnings.warn(\n",
      "D:\\New folder\\lib\\site-packages\\sklearn\\tree\\_classes.py:315: FutureWarning: The min_impurity_split parameter is deprecated. Its default value has changed from 1e-7 to 0 in version 0.23, and it will be removed in 1.0 (renaming of 0.25). Use the min_impurity_decrease parameter instead.\n",
      "  warnings.warn(\n",
      "D:\\New folder\\lib\\site-packages\\sklearn\\tree\\_classes.py:315: FutureWarning: The min_impurity_split parameter is deprecated. Its default value has changed from 1e-7 to 0 in version 0.23, and it will be removed in 1.0 (renaming of 0.25). Use the min_impurity_decrease parameter instead.\n",
      "  warnings.warn(\n",
      "D:\\New folder\\lib\\site-packages\\sklearn\\tree\\_classes.py:315: FutureWarning: The min_impurity_split parameter is deprecated. Its default value has changed from 1e-7 to 0 in version 0.23, and it will be removed in 1.0 (renaming of 0.25). Use the min_impurity_decrease parameter instead.\n",
      "  warnings.warn(\n",
      "D:\\New folder\\lib\\site-packages\\sklearn\\tree\\_classes.py:315: FutureWarning: The min_impurity_split parameter is deprecated. Its default value has changed from 1e-7 to 0 in version 0.23, and it will be removed in 1.0 (renaming of 0.25). Use the min_impurity_decrease parameter instead.\n",
      "  warnings.warn(\n",
      "D:\\New folder\\lib\\site-packages\\sklearn\\tree\\_classes.py:315: FutureWarning: The min_impurity_split parameter is deprecated. Its default value has changed from 1e-7 to 0 in version 0.23, and it will be removed in 1.0 (renaming of 0.25). Use the min_impurity_decrease parameter instead.\n",
      "  warnings.warn(\n",
      "D:\\New folder\\lib\\site-packages\\sklearn\\tree\\_classes.py:315: FutureWarning: The min_impurity_split parameter is deprecated. Its default value has changed from 1e-7 to 0 in version 0.23, and it will be removed in 1.0 (renaming of 0.25). Use the min_impurity_decrease parameter instead.\n",
      "  warnings.warn(\n",
      "D:\\New folder\\lib\\site-packages\\sklearn\\tree\\_classes.py:315: FutureWarning: The min_impurity_split parameter is deprecated. Its default value has changed from 1e-7 to 0 in version 0.23, and it will be removed in 1.0 (renaming of 0.25). Use the min_impurity_decrease parameter instead.\n",
      "  warnings.warn(\n",
      "D:\\New folder\\lib\\site-packages\\sklearn\\tree\\_classes.py:315: FutureWarning: The min_impurity_split parameter is deprecated. Its default value has changed from 1e-7 to 0 in version 0.23, and it will be removed in 1.0 (renaming of 0.25). Use the min_impurity_decrease parameter instead.\n",
      "  warnings.warn(\n",
      "D:\\New folder\\lib\\site-packages\\sklearn\\tree\\_classes.py:315: FutureWarning: The min_impurity_split parameter is deprecated. Its default value has changed from 1e-7 to 0 in version 0.23, and it will be removed in 1.0 (renaming of 0.25). Use the min_impurity_decrease parameter instead.\n",
      "  warnings.warn(\n",
      "D:\\New folder\\lib\\site-packages\\sklearn\\tree\\_classes.py:315: FutureWarning: The min_impurity_split parameter is deprecated. Its default value has changed from 1e-7 to 0 in version 0.23, and it will be removed in 1.0 (renaming of 0.25). Use the min_impurity_decrease parameter instead.\n",
      "  warnings.warn(\n",
      "D:\\New folder\\lib\\site-packages\\sklearn\\tree\\_classes.py:315: FutureWarning: The min_impurity_split parameter is deprecated. Its default value has changed from 1e-7 to 0 in version 0.23, and it will be removed in 1.0 (renaming of 0.25). Use the min_impurity_decrease parameter instead.\n",
      "  warnings.warn(\n",
      "D:\\New folder\\lib\\site-packages\\sklearn\\tree\\_classes.py:315: FutureWarning: The min_impurity_split parameter is deprecated. Its default value has changed from 1e-7 to 0 in version 0.23, and it will be removed in 1.0 (renaming of 0.25). Use the min_impurity_decrease parameter instead.\n",
      "  warnings.warn(\n",
      "D:\\New folder\\lib\\site-packages\\sklearn\\tree\\_classes.py:315: FutureWarning: The min_impurity_split parameter is deprecated. Its default value has changed from 1e-7 to 0 in version 0.23, and it will be removed in 1.0 (renaming of 0.25). Use the min_impurity_decrease parameter instead.\n",
      "  warnings.warn(\n",
      "D:\\New folder\\lib\\site-packages\\sklearn\\tree\\_classes.py:315: FutureWarning: The min_impurity_split parameter is deprecated. Its default value has changed from 1e-7 to 0 in version 0.23, and it will be removed in 1.0 (renaming of 0.25). Use the min_impurity_decrease parameter instead.\n",
      "  warnings.warn(\n",
      "D:\\New folder\\lib\\site-packages\\sklearn\\tree\\_classes.py:315: FutureWarning: The min_impurity_split parameter is deprecated. Its default value has changed from 1e-7 to 0 in version 0.23, and it will be removed in 1.0 (renaming of 0.25). Use the min_impurity_decrease parameter instead.\n",
      "  warnings.warn(\n",
      "D:\\New folder\\lib\\site-packages\\sklearn\\tree\\_classes.py:315: FutureWarning: The min_impurity_split parameter is deprecated. Its default value has changed from 1e-7 to 0 in version 0.23, and it will be removed in 1.0 (renaming of 0.25). Use the min_impurity_decrease parameter instead.\n",
      "  warnings.warn(\n",
      "D:\\New folder\\lib\\site-packages\\sklearn\\tree\\_classes.py:315: FutureWarning: The min_impurity_split parameter is deprecated. Its default value has changed from 1e-7 to 0 in version 0.23, and it will be removed in 1.0 (renaming of 0.25). Use the min_impurity_decrease parameter instead.\n",
      "  warnings.warn(\n",
      "D:\\New folder\\lib\\site-packages\\sklearn\\tree\\_classes.py:315: FutureWarning: The min_impurity_split parameter is deprecated. Its default value has changed from 1e-7 to 0 in version 0.23, and it will be removed in 1.0 (renaming of 0.25). Use the min_impurity_decrease parameter instead.\n",
      "  warnings.warn(\n",
      "D:\\New folder\\lib\\site-packages\\sklearn\\tree\\_classes.py:315: FutureWarning: The min_impurity_split parameter is deprecated. Its default value has changed from 1e-7 to 0 in version 0.23, and it will be removed in 1.0 (renaming of 0.25). Use the min_impurity_decrease parameter instead.\n",
      "  warnings.warn(\n",
      "D:\\New folder\\lib\\site-packages\\sklearn\\tree\\_classes.py:315: FutureWarning: The min_impurity_split parameter is deprecated. Its default value has changed from 1e-7 to 0 in version 0.23, and it will be removed in 1.0 (renaming of 0.25). Use the min_impurity_decrease parameter instead.\n",
      "  warnings.warn(\n",
      "D:\\New folder\\lib\\site-packages\\sklearn\\tree\\_classes.py:315: FutureWarning: The min_impurity_split parameter is deprecated. Its default value has changed from 1e-7 to 0 in version 0.23, and it will be removed in 1.0 (renaming of 0.25). Use the min_impurity_decrease parameter instead.\n",
      "  warnings.warn(\n",
      "D:\\New folder\\lib\\site-packages\\sklearn\\tree\\_classes.py:315: FutureWarning: The min_impurity_split parameter is deprecated. Its default value has changed from 1e-7 to 0 in version 0.23, and it will be removed in 1.0 (renaming of 0.25). Use the min_impurity_decrease parameter instead.\n",
      "  warnings.warn(\n",
      "D:\\New folder\\lib\\site-packages\\sklearn\\tree\\_classes.py:315: FutureWarning: The min_impurity_split parameter is deprecated. Its default value has changed from 1e-7 to 0 in version 0.23, and it will be removed in 1.0 (renaming of 0.25). Use the min_impurity_decrease parameter instead.\n",
      "  warnings.warn(\n",
      "D:\\New folder\\lib\\site-packages\\sklearn\\tree\\_classes.py:315: FutureWarning: The min_impurity_split parameter is deprecated. Its default value has changed from 1e-7 to 0 in version 0.23, and it will be removed in 1.0 (renaming of 0.25). Use the min_impurity_decrease parameter instead.\n",
      "  warnings.warn(\n",
      "D:\\New folder\\lib\\site-packages\\sklearn\\tree\\_classes.py:315: FutureWarning: The min_impurity_split parameter is deprecated. Its default value has changed from 1e-7 to 0 in version 0.23, and it will be removed in 1.0 (renaming of 0.25). Use the min_impurity_decrease parameter instead.\n",
      "  warnings.warn(\n",
      "D:\\New folder\\lib\\site-packages\\sklearn\\tree\\_classes.py:315: FutureWarning: The min_impurity_split parameter is deprecated. Its default value has changed from 1e-7 to 0 in version 0.23, and it will be removed in 1.0 (renaming of 0.25). Use the min_impurity_decrease parameter instead.\n",
      "  warnings.warn(\n",
      "D:\\New folder\\lib\\site-packages\\sklearn\\tree\\_classes.py:315: FutureWarning: The min_impurity_split parameter is deprecated. Its default value has changed from 1e-7 to 0 in version 0.23, and it will be removed in 1.0 (renaming of 0.25). Use the min_impurity_decrease parameter instead.\n",
      "  warnings.warn(\n",
      "D:\\New folder\\lib\\site-packages\\sklearn\\tree\\_classes.py:315: FutureWarning: The min_impurity_split parameter is deprecated. Its default value has changed from 1e-7 to 0 in version 0.23, and it will be removed in 1.0 (renaming of 0.25). Use the min_impurity_decrease parameter instead.\n",
      "  warnings.warn(\n",
      "D:\\New folder\\lib\\site-packages\\sklearn\\tree\\_classes.py:315: FutureWarning: The min_impurity_split parameter is deprecated. Its default value has changed from 1e-7 to 0 in version 0.23, and it will be removed in 1.0 (renaming of 0.25). Use the min_impurity_decrease parameter instead.\n",
      "  warnings.warn(\n",
      "D:\\New folder\\lib\\site-packages\\sklearn\\tree\\_classes.py:315: FutureWarning: The min_impurity_split parameter is deprecated. Its default value has changed from 1e-7 to 0 in version 0.23, and it will be removed in 1.0 (renaming of 0.25). Use the min_impurity_decrease parameter instead.\n",
      "  warnings.warn(\n",
      "D:\\New folder\\lib\\site-packages\\sklearn\\tree\\_classes.py:315: FutureWarning: The min_impurity_split parameter is deprecated. Its default value has changed from 1e-7 to 0 in version 0.23, and it will be removed in 1.0 (renaming of 0.25). Use the min_impurity_decrease parameter instead.\n",
      "  warnings.warn(\n",
      "D:\\New folder\\lib\\site-packages\\sklearn\\tree\\_classes.py:315: FutureWarning: The min_impurity_split parameter is deprecated. Its default value has changed from 1e-7 to 0 in version 0.23, and it will be removed in 1.0 (renaming of 0.25). Use the min_impurity_decrease parameter instead.\n",
      "  warnings.warn(\n",
      "D:\\New folder\\lib\\site-packages\\sklearn\\tree\\_classes.py:315: FutureWarning: The min_impurity_split parameter is deprecated. Its default value has changed from 1e-7 to 0 in version 0.23, and it will be removed in 1.0 (renaming of 0.25). Use the min_impurity_decrease parameter instead.\n",
      "  warnings.warn(\n",
      "D:\\New folder\\lib\\site-packages\\sklearn\\tree\\_classes.py:315: FutureWarning: The min_impurity_split parameter is deprecated. Its default value has changed from 1e-7 to 0 in version 0.23, and it will be removed in 1.0 (renaming of 0.25). Use the min_impurity_decrease parameter instead.\n",
      "  warnings.warn(\n",
      "D:\\New folder\\lib\\site-packages\\sklearn\\tree\\_classes.py:315: FutureWarning: The min_impurity_split parameter is deprecated. Its default value has changed from 1e-7 to 0 in version 0.23, and it will be removed in 1.0 (renaming of 0.25). Use the min_impurity_decrease parameter instead.\n",
      "  warnings.warn(\n",
      "D:\\New folder\\lib\\site-packages\\sklearn\\tree\\_classes.py:315: FutureWarning: The min_impurity_split parameter is deprecated. Its default value has changed from 1e-7 to 0 in version 0.23, and it will be removed in 1.0 (renaming of 0.25). Use the min_impurity_decrease parameter instead.\n",
      "  warnings.warn(\n",
      "D:\\New folder\\lib\\site-packages\\sklearn\\tree\\_classes.py:315: FutureWarning: The min_impurity_split parameter is deprecated. Its default value has changed from 1e-7 to 0 in version 0.23, and it will be removed in 1.0 (renaming of 0.25). Use the min_impurity_decrease parameter instead.\n",
      "  warnings.warn(\n",
      "D:\\New folder\\lib\\site-packages\\sklearn\\tree\\_classes.py:315: FutureWarning: The min_impurity_split parameter is deprecated. Its default value has changed from 1e-7 to 0 in version 0.23, and it will be removed in 1.0 (renaming of 0.25). Use the min_impurity_decrease parameter instead.\n",
      "  warnings.warn(\n",
      "D:\\New folder\\lib\\site-packages\\sklearn\\tree\\_classes.py:315: FutureWarning: The min_impurity_split parameter is deprecated. Its default value has changed from 1e-7 to 0 in version 0.23, and it will be removed in 1.0 (renaming of 0.25). Use the min_impurity_decrease parameter instead.\n",
      "  warnings.warn(\n",
      "D:\\New folder\\lib\\site-packages\\sklearn\\tree\\_classes.py:315: FutureWarning: The min_impurity_split parameter is deprecated. Its default value has changed from 1e-7 to 0 in version 0.23, and it will be removed in 1.0 (renaming of 0.25). Use the min_impurity_decrease parameter instead.\n",
      "  warnings.warn(\n",
      "D:\\New folder\\lib\\site-packages\\sklearn\\tree\\_classes.py:315: FutureWarning: The min_impurity_split parameter is deprecated. Its default value has changed from 1e-7 to 0 in version 0.23, and it will be removed in 1.0 (renaming of 0.25). Use the min_impurity_decrease parameter instead.\n",
      "  warnings.warn(\n",
      "D:\\New folder\\lib\\site-packages\\sklearn\\tree\\_classes.py:315: FutureWarning: The min_impurity_split parameter is deprecated. Its default value has changed from 1e-7 to 0 in version 0.23, and it will be removed in 1.0 (renaming of 0.25). Use the min_impurity_decrease parameter instead.\n",
      "  warnings.warn(\n",
      "D:\\New folder\\lib\\site-packages\\sklearn\\tree\\_classes.py:315: FutureWarning: The min_impurity_split parameter is deprecated. Its default value has changed from 1e-7 to 0 in version 0.23, and it will be removed in 1.0 (renaming of 0.25). Use the min_impurity_decrease parameter instead.\n",
      "  warnings.warn(\n",
      "D:\\New folder\\lib\\site-packages\\sklearn\\tree\\_classes.py:315: FutureWarning: The min_impurity_split parameter is deprecated. Its default value has changed from 1e-7 to 0 in version 0.23, and it will be removed in 1.0 (renaming of 0.25). Use the min_impurity_decrease parameter instead.\n",
      "  warnings.warn(\n",
      "D:\\New folder\\lib\\site-packages\\sklearn\\tree\\_classes.py:315: FutureWarning: The min_impurity_split parameter is deprecated. Its default value has changed from 1e-7 to 0 in version 0.23, and it will be removed in 1.0 (renaming of 0.25). Use the min_impurity_decrease parameter instead.\n",
      "  warnings.warn(\n",
      "D:\\New folder\\lib\\site-packages\\sklearn\\tree\\_classes.py:315: FutureWarning: The min_impurity_split parameter is deprecated. Its default value has changed from 1e-7 to 0 in version 0.23, and it will be removed in 1.0 (renaming of 0.25). Use the min_impurity_decrease parameter instead.\n",
      "  warnings.warn(\n",
      "D:\\New folder\\lib\\site-packages\\sklearn\\tree\\_classes.py:315: FutureWarning: The min_impurity_split parameter is deprecated. Its default value has changed from 1e-7 to 0 in version 0.23, and it will be removed in 1.0 (renaming of 0.25). Use the min_impurity_decrease parameter instead.\n",
      "  warnings.warn(\n",
      "D:\\New folder\\lib\\site-packages\\sklearn\\tree\\_classes.py:315: FutureWarning: The min_impurity_split parameter is deprecated. Its default value has changed from 1e-7 to 0 in version 0.23, and it will be removed in 1.0 (renaming of 0.25). Use the min_impurity_decrease parameter instead.\n",
      "  warnings.warn(\n",
      "D:\\New folder\\lib\\site-packages\\sklearn\\tree\\_classes.py:315: FutureWarning: The min_impurity_split parameter is deprecated. Its default value has changed from 1e-7 to 0 in version 0.23, and it will be removed in 1.0 (renaming of 0.25). Use the min_impurity_decrease parameter instead.\n",
      "  warnings.warn(\n",
      "D:\\New folder\\lib\\site-packages\\sklearn\\tree\\_classes.py:315: FutureWarning: The min_impurity_split parameter is deprecated. Its default value has changed from 1e-7 to 0 in version 0.23, and it will be removed in 1.0 (renaming of 0.25). Use the min_impurity_decrease parameter instead.\n",
      "  warnings.warn(\n",
      "D:\\New folder\\lib\\site-packages\\sklearn\\tree\\_classes.py:315: FutureWarning: The min_impurity_split parameter is deprecated. Its default value has changed from 1e-7 to 0 in version 0.23, and it will be removed in 1.0 (renaming of 0.25). Use the min_impurity_decrease parameter instead.\n",
      "  warnings.warn(\n",
      "D:\\New folder\\lib\\site-packages\\sklearn\\tree\\_classes.py:315: FutureWarning: The min_impurity_split parameter is deprecated. Its default value has changed from 1e-7 to 0 in version 0.23, and it will be removed in 1.0 (renaming of 0.25). Use the min_impurity_decrease parameter instead.\n",
      "  warnings.warn(\n",
      "D:\\New folder\\lib\\site-packages\\sklearn\\tree\\_classes.py:315: FutureWarning: The min_impurity_split parameter is deprecated. Its default value has changed from 1e-7 to 0 in version 0.23, and it will be removed in 1.0 (renaming of 0.25). Use the min_impurity_decrease parameter instead.\n",
      "  warnings.warn(\n",
      "D:\\New folder\\lib\\site-packages\\sklearn\\tree\\_classes.py:315: FutureWarning: The min_impurity_split parameter is deprecated. Its default value has changed from 1e-7 to 0 in version 0.23, and it will be removed in 1.0 (renaming of 0.25). Use the min_impurity_decrease parameter instead.\n",
      "  warnings.warn(\n",
      "D:\\New folder\\lib\\site-packages\\sklearn\\tree\\_classes.py:315: FutureWarning: The min_impurity_split parameter is deprecated. Its default value has changed from 1e-7 to 0 in version 0.23, and it will be removed in 1.0 (renaming of 0.25). Use the min_impurity_decrease parameter instead.\n",
      "  warnings.warn(\n",
      "D:\\New folder\\lib\\site-packages\\sklearn\\tree\\_classes.py:315: FutureWarning: The min_impurity_split parameter is deprecated. Its default value has changed from 1e-7 to 0 in version 0.23, and it will be removed in 1.0 (renaming of 0.25). Use the min_impurity_decrease parameter instead.\n",
      "  warnings.warn(\n",
      "D:\\New folder\\lib\\site-packages\\sklearn\\tree\\_classes.py:315: FutureWarning: The min_impurity_split parameter is deprecated. Its default value has changed from 1e-7 to 0 in version 0.23, and it will be removed in 1.0 (renaming of 0.25). Use the min_impurity_decrease parameter instead.\n",
      "  warnings.warn(\n",
      "D:\\New folder\\lib\\site-packages\\sklearn\\tree\\_classes.py:315: FutureWarning: The min_impurity_split parameter is deprecated. Its default value has changed from 1e-7 to 0 in version 0.23, and it will be removed in 1.0 (renaming of 0.25). Use the min_impurity_decrease parameter instead.\n",
      "  warnings.warn(\n",
      "D:\\New folder\\lib\\site-packages\\sklearn\\tree\\_classes.py:315: FutureWarning: The min_impurity_split parameter is deprecated. Its default value has changed from 1e-7 to 0 in version 0.23, and it will be removed in 1.0 (renaming of 0.25). Use the min_impurity_decrease parameter instead.\n",
      "  warnings.warn(\n",
      "D:\\New folder\\lib\\site-packages\\sklearn\\tree\\_classes.py:315: FutureWarning: The min_impurity_split parameter is deprecated. Its default value has changed from 1e-7 to 0 in version 0.23, and it will be removed in 1.0 (renaming of 0.25). Use the min_impurity_decrease parameter instead.\n",
      "  warnings.warn(\n",
      "D:\\New folder\\lib\\site-packages\\sklearn\\tree\\_classes.py:315: FutureWarning: The min_impurity_split parameter is deprecated. Its default value has changed from 1e-7 to 0 in version 0.23, and it will be removed in 1.0 (renaming of 0.25). Use the min_impurity_decrease parameter instead.\n",
      "  warnings.warn(\n",
      "D:\\New folder\\lib\\site-packages\\sklearn\\tree\\_classes.py:315: FutureWarning: The min_impurity_split parameter is deprecated. Its default value has changed from 1e-7 to 0 in version 0.23, and it will be removed in 1.0 (renaming of 0.25). Use the min_impurity_decrease parameter instead.\n",
      "  warnings.warn(\n",
      "D:\\New folder\\lib\\site-packages\\sklearn\\tree\\_classes.py:315: FutureWarning: The min_impurity_split parameter is deprecated. Its default value has changed from 1e-7 to 0 in version 0.23, and it will be removed in 1.0 (renaming of 0.25). Use the min_impurity_decrease parameter instead.\n",
      "  warnings.warn(\n",
      "D:\\New folder\\lib\\site-packages\\sklearn\\tree\\_classes.py:315: FutureWarning: The min_impurity_split parameter is deprecated. Its default value has changed from 1e-7 to 0 in version 0.23, and it will be removed in 1.0 (renaming of 0.25). Use the min_impurity_decrease parameter instead.\n",
      "  warnings.warn(\n",
      "D:\\New folder\\lib\\site-packages\\sklearn\\tree\\_classes.py:315: FutureWarning: The min_impurity_split parameter is deprecated. Its default value has changed from 1e-7 to 0 in version 0.23, and it will be removed in 1.0 (renaming of 0.25). Use the min_impurity_decrease parameter instead.\n",
      "  warnings.warn(\n",
      "D:\\New folder\\lib\\site-packages\\sklearn\\tree\\_classes.py:315: FutureWarning: The min_impurity_split parameter is deprecated. Its default value has changed from 1e-7 to 0 in version 0.23, and it will be removed in 1.0 (renaming of 0.25). Use the min_impurity_decrease parameter instead.\n",
      "  warnings.warn(\n",
      "D:\\New folder\\lib\\site-packages\\sklearn\\tree\\_classes.py:315: FutureWarning: The min_impurity_split parameter is deprecated. Its default value has changed from 1e-7 to 0 in version 0.23, and it will be removed in 1.0 (renaming of 0.25). Use the min_impurity_decrease parameter instead.\n",
      "  warnings.warn(\n",
      "D:\\New folder\\lib\\site-packages\\sklearn\\tree\\_classes.py:315: FutureWarning: The min_impurity_split parameter is deprecated. Its default value has changed from 1e-7 to 0 in version 0.23, and it will be removed in 1.0 (renaming of 0.25). Use the min_impurity_decrease parameter instead.\n",
      "  warnings.warn(\n",
      "D:\\New folder\\lib\\site-packages\\sklearn\\tree\\_classes.py:315: FutureWarning: The min_impurity_split parameter is deprecated. Its default value has changed from 1e-7 to 0 in version 0.23, and it will be removed in 1.0 (renaming of 0.25). Use the min_impurity_decrease parameter instead.\n",
      "  warnings.warn(\n",
      "D:\\New folder\\lib\\site-packages\\sklearn\\tree\\_classes.py:315: FutureWarning: The min_impurity_split parameter is deprecated. Its default value has changed from 1e-7 to 0 in version 0.23, and it will be removed in 1.0 (renaming of 0.25). Use the min_impurity_decrease parameter instead.\n",
      "  warnings.warn(\n",
      "D:\\New folder\\lib\\site-packages\\sklearn\\tree\\_classes.py:315: FutureWarning: The min_impurity_split parameter is deprecated. Its default value has changed from 1e-7 to 0 in version 0.23, and it will be removed in 1.0 (renaming of 0.25). Use the min_impurity_decrease parameter instead.\n",
      "  warnings.warn(\n",
      "D:\\New folder\\lib\\site-packages\\sklearn\\tree\\_classes.py:315: FutureWarning: The min_impurity_split parameter is deprecated. Its default value has changed from 1e-7 to 0 in version 0.23, and it will be removed in 1.0 (renaming of 0.25). Use the min_impurity_decrease parameter instead.\n",
      "  warnings.warn(\n",
      "D:\\New folder\\lib\\site-packages\\sklearn\\tree\\_classes.py:315: FutureWarning: The min_impurity_split parameter is deprecated. Its default value has changed from 1e-7 to 0 in version 0.23, and it will be removed in 1.0 (renaming of 0.25). Use the min_impurity_decrease parameter instead.\n",
      "  warnings.warn(\n",
      "D:\\New folder\\lib\\site-packages\\sklearn\\tree\\_classes.py:315: FutureWarning: The min_impurity_split parameter is deprecated. Its default value has changed from 1e-7 to 0 in version 0.23, and it will be removed in 1.0 (renaming of 0.25). Use the min_impurity_decrease parameter instead.\n",
      "  warnings.warn(\n",
      "D:\\New folder\\lib\\site-packages\\sklearn\\tree\\_classes.py:315: FutureWarning: The min_impurity_split parameter is deprecated. Its default value has changed from 1e-7 to 0 in version 0.23, and it will be removed in 1.0 (renaming of 0.25). Use the min_impurity_decrease parameter instead.\n",
      "  warnings.warn(\n",
      "D:\\New folder\\lib\\site-packages\\sklearn\\tree\\_classes.py:315: FutureWarning: The min_impurity_split parameter is deprecated. Its default value has changed from 1e-7 to 0 in version 0.23, and it will be removed in 1.0 (renaming of 0.25). Use the min_impurity_decrease parameter instead.\n",
      "  warnings.warn(\n",
      "D:\\New folder\\lib\\site-packages\\sklearn\\tree\\_classes.py:315: FutureWarning: The min_impurity_split parameter is deprecated. Its default value has changed from 1e-7 to 0 in version 0.23, and it will be removed in 1.0 (renaming of 0.25). Use the min_impurity_decrease parameter instead.\n",
      "  warnings.warn(\n",
      "D:\\New folder\\lib\\site-packages\\sklearn\\tree\\_classes.py:315: FutureWarning: The min_impurity_split parameter is deprecated. Its default value has changed from 1e-7 to 0 in version 0.23, and it will be removed in 1.0 (renaming of 0.25). Use the min_impurity_decrease parameter instead.\n",
      "  warnings.warn(\n",
      "D:\\New folder\\lib\\site-packages\\sklearn\\tree\\_classes.py:315: FutureWarning: The min_impurity_split parameter is deprecated. Its default value has changed from 1e-7 to 0 in version 0.23, and it will be removed in 1.0 (renaming of 0.25). Use the min_impurity_decrease parameter instead.\n",
      "  warnings.warn(\n",
      "D:\\New folder\\lib\\site-packages\\sklearn\\tree\\_classes.py:315: FutureWarning: The min_impurity_split parameter is deprecated. Its default value has changed from 1e-7 to 0 in version 0.23, and it will be removed in 1.0 (renaming of 0.25). Use the min_impurity_decrease parameter instead.\n",
      "  warnings.warn(\n",
      "D:\\New folder\\lib\\site-packages\\sklearn\\tree\\_classes.py:315: FutureWarning: The min_impurity_split parameter is deprecated. Its default value has changed from 1e-7 to 0 in version 0.23, and it will be removed in 1.0 (renaming of 0.25). Use the min_impurity_decrease parameter instead.\n",
      "  warnings.warn(\n",
      "D:\\New folder\\lib\\site-packages\\sklearn\\tree\\_classes.py:315: FutureWarning: The min_impurity_split parameter is deprecated. Its default value has changed from 1e-7 to 0 in version 0.23, and it will be removed in 1.0 (renaming of 0.25). Use the min_impurity_decrease parameter instead.\n",
      "  warnings.warn(\n",
      "D:\\New folder\\lib\\site-packages\\sklearn\\tree\\_classes.py:315: FutureWarning: The min_impurity_split parameter is deprecated. Its default value has changed from 1e-7 to 0 in version 0.23, and it will be removed in 1.0 (renaming of 0.25). Use the min_impurity_decrease parameter instead.\n",
      "  warnings.warn(\n",
      "D:\\New folder\\lib\\site-packages\\sklearn\\tree\\_classes.py:315: FutureWarning: The min_impurity_split parameter is deprecated. Its default value has changed from 1e-7 to 0 in version 0.23, and it will be removed in 1.0 (renaming of 0.25). Use the min_impurity_decrease parameter instead.\n",
      "  warnings.warn(\n",
      "D:\\New folder\\lib\\site-packages\\sklearn\\tree\\_classes.py:315: FutureWarning: The min_impurity_split parameter is deprecated. Its default value has changed from 1e-7 to 0 in version 0.23, and it will be removed in 1.0 (renaming of 0.25). Use the min_impurity_decrease parameter instead.\n",
      "  warnings.warn(\n",
      "D:\\New folder\\lib\\site-packages\\sklearn\\tree\\_classes.py:315: FutureWarning: The min_impurity_split parameter is deprecated. Its default value has changed from 1e-7 to 0 in version 0.23, and it will be removed in 1.0 (renaming of 0.25). Use the min_impurity_decrease parameter instead.\n",
      "  warnings.warn(\n",
      "D:\\New folder\\lib\\site-packages\\sklearn\\tree\\_classes.py:315: FutureWarning: The min_impurity_split parameter is deprecated. Its default value has changed from 1e-7 to 0 in version 0.23, and it will be removed in 1.0 (renaming of 0.25). Use the min_impurity_decrease parameter instead.\n",
      "  warnings.warn(\n",
      "D:\\New folder\\lib\\site-packages\\sklearn\\tree\\_classes.py:315: FutureWarning: The min_impurity_split parameter is deprecated. Its default value has changed from 1e-7 to 0 in version 0.23, and it will be removed in 1.0 (renaming of 0.25). Use the min_impurity_decrease parameter instead.\n",
      "  warnings.warn(\n",
      "D:\\New folder\\lib\\site-packages\\sklearn\\tree\\_classes.py:315: FutureWarning: The min_impurity_split parameter is deprecated. Its default value has changed from 1e-7 to 0 in version 0.23, and it will be removed in 1.0 (renaming of 0.25). Use the min_impurity_decrease parameter instead.\n",
      "  warnings.warn(\n",
      "D:\\New folder\\lib\\site-packages\\sklearn\\tree\\_classes.py:315: FutureWarning: The min_impurity_split parameter is deprecated. Its default value has changed from 1e-7 to 0 in version 0.23, and it will be removed in 1.0 (renaming of 0.25). Use the min_impurity_decrease parameter instead.\n",
      "  warnings.warn(\n",
      "D:\\New folder\\lib\\site-packages\\sklearn\\tree\\_classes.py:315: FutureWarning: The min_impurity_split parameter is deprecated. Its default value has changed from 1e-7 to 0 in version 0.23, and it will be removed in 1.0 (renaming of 0.25). Use the min_impurity_decrease parameter instead.\n",
      "  warnings.warn(\n",
      "D:\\New folder\\lib\\site-packages\\sklearn\\tree\\_classes.py:315: FutureWarning: The min_impurity_split parameter is deprecated. Its default value has changed from 1e-7 to 0 in version 0.23, and it will be removed in 1.0 (renaming of 0.25). Use the min_impurity_decrease parameter instead.\n",
      "  warnings.warn(\n",
      "D:\\New folder\\lib\\site-packages\\sklearn\\tree\\_classes.py:315: FutureWarning: The min_impurity_split parameter is deprecated. Its default value has changed from 1e-7 to 0 in version 0.23, and it will be removed in 1.0 (renaming of 0.25). Use the min_impurity_decrease parameter instead.\n",
      "  warnings.warn(\n",
      "D:\\New folder\\lib\\site-packages\\sklearn\\tree\\_classes.py:315: FutureWarning: The min_impurity_split parameter is deprecated. Its default value has changed from 1e-7 to 0 in version 0.23, and it will be removed in 1.0 (renaming of 0.25). Use the min_impurity_decrease parameter instead.\n",
      "  warnings.warn(\n",
      "D:\\New folder\\lib\\site-packages\\sklearn\\tree\\_classes.py:315: FutureWarning: The min_impurity_split parameter is deprecated. Its default value has changed from 1e-7 to 0 in version 0.23, and it will be removed in 1.0 (renaming of 0.25). Use the min_impurity_decrease parameter instead.\n",
      "  warnings.warn(\n",
      "D:\\New folder\\lib\\site-packages\\sklearn\\tree\\_classes.py:315: FutureWarning: The min_impurity_split parameter is deprecated. Its default value has changed from 1e-7 to 0 in version 0.23, and it will be removed in 1.0 (renaming of 0.25). Use the min_impurity_decrease parameter instead.\n",
      "  warnings.warn(\n",
      "D:\\New folder\\lib\\site-packages\\sklearn\\tree\\_classes.py:315: FutureWarning: The min_impurity_split parameter is deprecated. Its default value has changed from 1e-7 to 0 in version 0.23, and it will be removed in 1.0 (renaming of 0.25). Use the min_impurity_decrease parameter instead.\n",
      "  warnings.warn(\n",
      "D:\\New folder\\lib\\site-packages\\sklearn\\tree\\_classes.py:315: FutureWarning: The min_impurity_split parameter is deprecated. Its default value has changed from 1e-7 to 0 in version 0.23, and it will be removed in 1.0 (renaming of 0.25). Use the min_impurity_decrease parameter instead.\n",
      "  warnings.warn(\n",
      "D:\\New folder\\lib\\site-packages\\sklearn\\tree\\_classes.py:315: FutureWarning: The min_impurity_split parameter is deprecated. Its default value has changed from 1e-7 to 0 in version 0.23, and it will be removed in 1.0 (renaming of 0.25). Use the min_impurity_decrease parameter instead.\n",
      "  warnings.warn(\n",
      "D:\\New folder\\lib\\site-packages\\sklearn\\tree\\_classes.py:315: FutureWarning: The min_impurity_split parameter is deprecated. Its default value has changed from 1e-7 to 0 in version 0.23, and it will be removed in 1.0 (renaming of 0.25). Use the min_impurity_decrease parameter instead.\n",
      "  warnings.warn(\n",
      "D:\\New folder\\lib\\site-packages\\sklearn\\tree\\_classes.py:315: FutureWarning: The min_impurity_split parameter is deprecated. Its default value has changed from 1e-7 to 0 in version 0.23, and it will be removed in 1.0 (renaming of 0.25). Use the min_impurity_decrease parameter instead.\n",
      "  warnings.warn(\n",
      "D:\\New folder\\lib\\site-packages\\sklearn\\tree\\_classes.py:315: FutureWarning: The min_impurity_split parameter is deprecated. Its default value has changed from 1e-7 to 0 in version 0.23, and it will be removed in 1.0 (renaming of 0.25). Use the min_impurity_decrease parameter instead.\n",
      "  warnings.warn(\n",
      "D:\\New folder\\lib\\site-packages\\sklearn\\tree\\_classes.py:315: FutureWarning: The min_impurity_split parameter is deprecated. Its default value has changed from 1e-7 to 0 in version 0.23, and it will be removed in 1.0 (renaming of 0.25). Use the min_impurity_decrease parameter instead.\n",
      "  warnings.warn(\n",
      "D:\\New folder\\lib\\site-packages\\sklearn\\tree\\_classes.py:315: FutureWarning: The min_impurity_split parameter is deprecated. Its default value has changed from 1e-7 to 0 in version 0.23, and it will be removed in 1.0 (renaming of 0.25). Use the min_impurity_decrease parameter instead.\n",
      "  warnings.warn(\n",
      "D:\\New folder\\lib\\site-packages\\sklearn\\tree\\_classes.py:315: FutureWarning: The min_impurity_split parameter is deprecated. Its default value has changed from 1e-7 to 0 in version 0.23, and it will be removed in 1.0 (renaming of 0.25). Use the min_impurity_decrease parameter instead.\n",
      "  warnings.warn(\n",
      "D:\\New folder\\lib\\site-packages\\sklearn\\tree\\_classes.py:315: FutureWarning: The min_impurity_split parameter is deprecated. Its default value has changed from 1e-7 to 0 in version 0.23, and it will be removed in 1.0 (renaming of 0.25). Use the min_impurity_decrease parameter instead.\n",
      "  warnings.warn(\n",
      "D:\\New folder\\lib\\site-packages\\sklearn\\tree\\_classes.py:315: FutureWarning: The min_impurity_split parameter is deprecated. Its default value has changed from 1e-7 to 0 in version 0.23, and it will be removed in 1.0 (renaming of 0.25). Use the min_impurity_decrease parameter instead.\n",
      "  warnings.warn(\n",
      "D:\\New folder\\lib\\site-packages\\sklearn\\tree\\_classes.py:315: FutureWarning: The min_impurity_split parameter is deprecated. Its default value has changed from 1e-7 to 0 in version 0.23, and it will be removed in 1.0 (renaming of 0.25). Use the min_impurity_decrease parameter instead.\n",
      "  warnings.warn(\n",
      "D:\\New folder\\lib\\site-packages\\sklearn\\tree\\_classes.py:315: FutureWarning: The min_impurity_split parameter is deprecated. Its default value has changed from 1e-7 to 0 in version 0.23, and it will be removed in 1.0 (renaming of 0.25). Use the min_impurity_decrease parameter instead.\n",
      "  warnings.warn(\n",
      "D:\\New folder\\lib\\site-packages\\sklearn\\tree\\_classes.py:315: FutureWarning: The min_impurity_split parameter is deprecated. Its default value has changed from 1e-7 to 0 in version 0.23, and it will be removed in 1.0 (renaming of 0.25). Use the min_impurity_decrease parameter instead.\n",
      "  warnings.warn(\n",
      "D:\\New folder\\lib\\site-packages\\sklearn\\tree\\_classes.py:315: FutureWarning: The min_impurity_split parameter is deprecated. Its default value has changed from 1e-7 to 0 in version 0.23, and it will be removed in 1.0 (renaming of 0.25). Use the min_impurity_decrease parameter instead.\n",
      "  warnings.warn(\n",
      "D:\\New folder\\lib\\site-packages\\sklearn\\tree\\_classes.py:315: FutureWarning: The min_impurity_split parameter is deprecated. Its default value has changed from 1e-7 to 0 in version 0.23, and it will be removed in 1.0 (renaming of 0.25). Use the min_impurity_decrease parameter instead.\n",
      "  warnings.warn(\n",
      "D:\\New folder\\lib\\site-packages\\sklearn\\tree\\_classes.py:315: FutureWarning: The min_impurity_split parameter is deprecated. Its default value has changed from 1e-7 to 0 in version 0.23, and it will be removed in 1.0 (renaming of 0.25). Use the min_impurity_decrease parameter instead.\n",
      "  warnings.warn(\n",
      "D:\\New folder\\lib\\site-packages\\sklearn\\tree\\_classes.py:315: FutureWarning: The min_impurity_split parameter is deprecated. Its default value has changed from 1e-7 to 0 in version 0.23, and it will be removed in 1.0 (renaming of 0.25). Use the min_impurity_decrease parameter instead.\n",
      "  warnings.warn(\n",
      "D:\\New folder\\lib\\site-packages\\sklearn\\tree\\_classes.py:315: FutureWarning: The min_impurity_split parameter is deprecated. Its default value has changed from 1e-7 to 0 in version 0.23, and it will be removed in 1.0 (renaming of 0.25). Use the min_impurity_decrease parameter instead.\n",
      "  warnings.warn(\n",
      "D:\\New folder\\lib\\site-packages\\sklearn\\tree\\_classes.py:315: FutureWarning: The min_impurity_split parameter is deprecated. Its default value has changed from 1e-7 to 0 in version 0.23, and it will be removed in 1.0 (renaming of 0.25). Use the min_impurity_decrease parameter instead.\n",
      "  warnings.warn(\n",
      "D:\\New folder\\lib\\site-packages\\sklearn\\tree\\_classes.py:315: FutureWarning: The min_impurity_split parameter is deprecated. Its default value has changed from 1e-7 to 0 in version 0.23, and it will be removed in 1.0 (renaming of 0.25). Use the min_impurity_decrease parameter instead.\n",
      "  warnings.warn(\n",
      "D:\\New folder\\lib\\site-packages\\sklearn\\tree\\_classes.py:315: FutureWarning: The min_impurity_split parameter is deprecated. Its default value has changed from 1e-7 to 0 in version 0.23, and it will be removed in 1.0 (renaming of 0.25). Use the min_impurity_decrease parameter instead.\n",
      "  warnings.warn(\n",
      "D:\\New folder\\lib\\site-packages\\sklearn\\tree\\_classes.py:315: FutureWarning: The min_impurity_split parameter is deprecated. Its default value has changed from 1e-7 to 0 in version 0.23, and it will be removed in 1.0 (renaming of 0.25). Use the min_impurity_decrease parameter instead.\n",
      "  warnings.warn(\n",
      "D:\\New folder\\lib\\site-packages\\sklearn\\tree\\_classes.py:315: FutureWarning: The min_impurity_split parameter is deprecated. Its default value has changed from 1e-7 to 0 in version 0.23, and it will be removed in 1.0 (renaming of 0.25). Use the min_impurity_decrease parameter instead.\n",
      "  warnings.warn(\n",
      "D:\\New folder\\lib\\site-packages\\sklearn\\tree\\_classes.py:315: FutureWarning: The min_impurity_split parameter is deprecated. Its default value has changed from 1e-7 to 0 in version 0.23, and it will be removed in 1.0 (renaming of 0.25). Use the min_impurity_decrease parameter instead.\n",
      "  warnings.warn(\n",
      "D:\\New folder\\lib\\site-packages\\sklearn\\tree\\_classes.py:315: FutureWarning: The min_impurity_split parameter is deprecated. Its default value has changed from 1e-7 to 0 in version 0.23, and it will be removed in 1.0 (renaming of 0.25). Use the min_impurity_decrease parameter instead.\n",
      "  warnings.warn(\n",
      "D:\\New folder\\lib\\site-packages\\sklearn\\tree\\_classes.py:315: FutureWarning: The min_impurity_split parameter is deprecated. Its default value has changed from 1e-7 to 0 in version 0.23, and it will be removed in 1.0 (renaming of 0.25). Use the min_impurity_decrease parameter instead.\n",
      "  warnings.warn(\n",
      "D:\\New folder\\lib\\site-packages\\sklearn\\tree\\_classes.py:315: FutureWarning: The min_impurity_split parameter is deprecated. Its default value has changed from 1e-7 to 0 in version 0.23, and it will be removed in 1.0 (renaming of 0.25). Use the min_impurity_decrease parameter instead.\n",
      "  warnings.warn(\n",
      "D:\\New folder\\lib\\site-packages\\sklearn\\tree\\_classes.py:315: FutureWarning: The min_impurity_split parameter is deprecated. Its default value has changed from 1e-7 to 0 in version 0.23, and it will be removed in 1.0 (renaming of 0.25). Use the min_impurity_decrease parameter instead.\n",
      "  warnings.warn(\n",
      "D:\\New folder\\lib\\site-packages\\sklearn\\tree\\_classes.py:315: FutureWarning: The min_impurity_split parameter is deprecated. Its default value has changed from 1e-7 to 0 in version 0.23, and it will be removed in 1.0 (renaming of 0.25). Use the min_impurity_decrease parameter instead.\n",
      "  warnings.warn(\n",
      "D:\\New folder\\lib\\site-packages\\sklearn\\tree\\_classes.py:315: FutureWarning: The min_impurity_split parameter is deprecated. Its default value has changed from 1e-7 to 0 in version 0.23, and it will be removed in 1.0 (renaming of 0.25). Use the min_impurity_decrease parameter instead.\n",
      "  warnings.warn(\n",
      "D:\\New folder\\lib\\site-packages\\sklearn\\tree\\_classes.py:315: FutureWarning: The min_impurity_split parameter is deprecated. Its default value has changed from 1e-7 to 0 in version 0.23, and it will be removed in 1.0 (renaming of 0.25). Use the min_impurity_decrease parameter instead.\n",
      "  warnings.warn(\n",
      "D:\\New folder\\lib\\site-packages\\sklearn\\tree\\_classes.py:315: FutureWarning: The min_impurity_split parameter is deprecated. Its default value has changed from 1e-7 to 0 in version 0.23, and it will be removed in 1.0 (renaming of 0.25). Use the min_impurity_decrease parameter instead.\n",
      "  warnings.warn(\n",
      "D:\\New folder\\lib\\site-packages\\sklearn\\tree\\_classes.py:315: FutureWarning: The min_impurity_split parameter is deprecated. Its default value has changed from 1e-7 to 0 in version 0.23, and it will be removed in 1.0 (renaming of 0.25). Use the min_impurity_decrease parameter instead.\n",
      "  warnings.warn(\n"
     ]
    },
    {
     "name": "stderr",
     "output_type": "stream",
     "text": [
      "D:\\New folder\\lib\\site-packages\\sklearn\\tree\\_classes.py:315: FutureWarning: The min_impurity_split parameter is deprecated. Its default value has changed from 1e-7 to 0 in version 0.23, and it will be removed in 1.0 (renaming of 0.25). Use the min_impurity_decrease parameter instead.\n",
      "  warnings.warn(\n",
      "D:\\New folder\\lib\\site-packages\\sklearn\\tree\\_classes.py:315: FutureWarning: The min_impurity_split parameter is deprecated. Its default value has changed from 1e-7 to 0 in version 0.23, and it will be removed in 1.0 (renaming of 0.25). Use the min_impurity_decrease parameter instead.\n",
      "  warnings.warn(\n",
      "D:\\New folder\\lib\\site-packages\\sklearn\\tree\\_classes.py:315: FutureWarning: The min_impurity_split parameter is deprecated. Its default value has changed from 1e-7 to 0 in version 0.23, and it will be removed in 1.0 (renaming of 0.25). Use the min_impurity_decrease parameter instead.\n",
      "  warnings.warn(\n",
      "D:\\New folder\\lib\\site-packages\\sklearn\\tree\\_classes.py:315: FutureWarning: The min_impurity_split parameter is deprecated. Its default value has changed from 1e-7 to 0 in version 0.23, and it will be removed in 1.0 (renaming of 0.25). Use the min_impurity_decrease parameter instead.\n",
      "  warnings.warn(\n",
      "D:\\New folder\\lib\\site-packages\\sklearn\\tree\\_classes.py:315: FutureWarning: The min_impurity_split parameter is deprecated. Its default value has changed from 1e-7 to 0 in version 0.23, and it will be removed in 1.0 (renaming of 0.25). Use the min_impurity_decrease parameter instead.\n",
      "  warnings.warn(\n",
      "D:\\New folder\\lib\\site-packages\\sklearn\\tree\\_classes.py:315: FutureWarning: The min_impurity_split parameter is deprecated. Its default value has changed from 1e-7 to 0 in version 0.23, and it will be removed in 1.0 (renaming of 0.25). Use the min_impurity_decrease parameter instead.\n",
      "  warnings.warn(\n",
      "D:\\New folder\\lib\\site-packages\\sklearn\\tree\\_classes.py:315: FutureWarning: The min_impurity_split parameter is deprecated. Its default value has changed from 1e-7 to 0 in version 0.23, and it will be removed in 1.0 (renaming of 0.25). Use the min_impurity_decrease parameter instead.\n",
      "  warnings.warn(\n",
      "D:\\New folder\\lib\\site-packages\\sklearn\\tree\\_classes.py:315: FutureWarning: The min_impurity_split parameter is deprecated. Its default value has changed from 1e-7 to 0 in version 0.23, and it will be removed in 1.0 (renaming of 0.25). Use the min_impurity_decrease parameter instead.\n",
      "  warnings.warn(\n",
      "D:\\New folder\\lib\\site-packages\\sklearn\\tree\\_classes.py:315: FutureWarning: The min_impurity_split parameter is deprecated. Its default value has changed from 1e-7 to 0 in version 0.23, and it will be removed in 1.0 (renaming of 0.25). Use the min_impurity_decrease parameter instead.\n",
      "  warnings.warn(\n",
      "D:\\New folder\\lib\\site-packages\\sklearn\\tree\\_classes.py:315: FutureWarning: The min_impurity_split parameter is deprecated. Its default value has changed from 1e-7 to 0 in version 0.23, and it will be removed in 1.0 (renaming of 0.25). Use the min_impurity_decrease parameter instead.\n",
      "  warnings.warn(\n",
      "D:\\New folder\\lib\\site-packages\\sklearn\\tree\\_classes.py:315: FutureWarning: The min_impurity_split parameter is deprecated. Its default value has changed from 1e-7 to 0 in version 0.23, and it will be removed in 1.0 (renaming of 0.25). Use the min_impurity_decrease parameter instead.\n",
      "  warnings.warn(\n",
      "D:\\New folder\\lib\\site-packages\\sklearn\\tree\\_classes.py:315: FutureWarning: The min_impurity_split parameter is deprecated. Its default value has changed from 1e-7 to 0 in version 0.23, and it will be removed in 1.0 (renaming of 0.25). Use the min_impurity_decrease parameter instead.\n",
      "  warnings.warn(\n",
      "D:\\New folder\\lib\\site-packages\\sklearn\\tree\\_classes.py:315: FutureWarning: The min_impurity_split parameter is deprecated. Its default value has changed from 1e-7 to 0 in version 0.23, and it will be removed in 1.0 (renaming of 0.25). Use the min_impurity_decrease parameter instead.\n",
      "  warnings.warn(\n",
      "D:\\New folder\\lib\\site-packages\\sklearn\\tree\\_classes.py:315: FutureWarning: The min_impurity_split parameter is deprecated. Its default value has changed from 1e-7 to 0 in version 0.23, and it will be removed in 1.0 (renaming of 0.25). Use the min_impurity_decrease parameter instead.\n",
      "  warnings.warn(\n",
      "D:\\New folder\\lib\\site-packages\\sklearn\\tree\\_classes.py:315: FutureWarning: The min_impurity_split parameter is deprecated. Its default value has changed from 1e-7 to 0 in version 0.23, and it will be removed in 1.0 (renaming of 0.25). Use the min_impurity_decrease parameter instead.\n",
      "  warnings.warn(\n",
      "D:\\New folder\\lib\\site-packages\\sklearn\\tree\\_classes.py:315: FutureWarning: The min_impurity_split parameter is deprecated. Its default value has changed from 1e-7 to 0 in version 0.23, and it will be removed in 1.0 (renaming of 0.25). Use the min_impurity_decrease parameter instead.\n",
      "  warnings.warn(\n",
      "D:\\New folder\\lib\\site-packages\\sklearn\\tree\\_classes.py:315: FutureWarning: The min_impurity_split parameter is deprecated. Its default value has changed from 1e-7 to 0 in version 0.23, and it will be removed in 1.0 (renaming of 0.25). Use the min_impurity_decrease parameter instead.\n",
      "  warnings.warn(\n",
      "D:\\New folder\\lib\\site-packages\\sklearn\\tree\\_classes.py:315: FutureWarning: The min_impurity_split parameter is deprecated. Its default value has changed from 1e-7 to 0 in version 0.23, and it will be removed in 1.0 (renaming of 0.25). Use the min_impurity_decrease parameter instead.\n",
      "  warnings.warn(\n",
      "D:\\New folder\\lib\\site-packages\\sklearn\\tree\\_classes.py:315: FutureWarning: The min_impurity_split parameter is deprecated. Its default value has changed from 1e-7 to 0 in version 0.23, and it will be removed in 1.0 (renaming of 0.25). Use the min_impurity_decrease parameter instead.\n",
      "  warnings.warn(\n",
      "D:\\New folder\\lib\\site-packages\\sklearn\\tree\\_classes.py:315: FutureWarning: The min_impurity_split parameter is deprecated. Its default value has changed from 1e-7 to 0 in version 0.23, and it will be removed in 1.0 (renaming of 0.25). Use the min_impurity_decrease parameter instead.\n",
      "  warnings.warn(\n",
      "D:\\New folder\\lib\\site-packages\\sklearn\\tree\\_classes.py:315: FutureWarning: The min_impurity_split parameter is deprecated. Its default value has changed from 1e-7 to 0 in version 0.23, and it will be removed in 1.0 (renaming of 0.25). Use the min_impurity_decrease parameter instead.\n",
      "  warnings.warn(\n",
      "D:\\New folder\\lib\\site-packages\\sklearn\\tree\\_classes.py:315: FutureWarning: The min_impurity_split parameter is deprecated. Its default value has changed from 1e-7 to 0 in version 0.23, and it will be removed in 1.0 (renaming of 0.25). Use the min_impurity_decrease parameter instead.\n",
      "  warnings.warn(\n",
      "D:\\New folder\\lib\\site-packages\\sklearn\\tree\\_classes.py:315: FutureWarning: The min_impurity_split parameter is deprecated. Its default value has changed from 1e-7 to 0 in version 0.23, and it will be removed in 1.0 (renaming of 0.25). Use the min_impurity_decrease parameter instead.\n",
      "  warnings.warn(\n",
      "D:\\New folder\\lib\\site-packages\\sklearn\\tree\\_classes.py:315: FutureWarning: The min_impurity_split parameter is deprecated. Its default value has changed from 1e-7 to 0 in version 0.23, and it will be removed in 1.0 (renaming of 0.25). Use the min_impurity_decrease parameter instead.\n",
      "  warnings.warn(\n",
      "D:\\New folder\\lib\\site-packages\\sklearn\\tree\\_classes.py:315: FutureWarning: The min_impurity_split parameter is deprecated. Its default value has changed from 1e-7 to 0 in version 0.23, and it will be removed in 1.0 (renaming of 0.25). Use the min_impurity_decrease parameter instead.\n",
      "  warnings.warn(\n",
      "D:\\New folder\\lib\\site-packages\\sklearn\\tree\\_classes.py:315: FutureWarning: The min_impurity_split parameter is deprecated. Its default value has changed from 1e-7 to 0 in version 0.23, and it will be removed in 1.0 (renaming of 0.25). Use the min_impurity_decrease parameter instead.\n",
      "  warnings.warn(\n",
      "D:\\New folder\\lib\\site-packages\\sklearn\\tree\\_classes.py:315: FutureWarning: The min_impurity_split parameter is deprecated. Its default value has changed from 1e-7 to 0 in version 0.23, and it will be removed in 1.0 (renaming of 0.25). Use the min_impurity_decrease parameter instead.\n",
      "  warnings.warn(\n",
      "D:\\New folder\\lib\\site-packages\\sklearn\\tree\\_classes.py:315: FutureWarning: The min_impurity_split parameter is deprecated. Its default value has changed from 1e-7 to 0 in version 0.23, and it will be removed in 1.0 (renaming of 0.25). Use the min_impurity_decrease parameter instead.\n",
      "  warnings.warn(\n",
      "D:\\New folder\\lib\\site-packages\\sklearn\\tree\\_classes.py:315: FutureWarning: The min_impurity_split parameter is deprecated. Its default value has changed from 1e-7 to 0 in version 0.23, and it will be removed in 1.0 (renaming of 0.25). Use the min_impurity_decrease parameter instead.\n",
      "  warnings.warn(\n",
      "D:\\New folder\\lib\\site-packages\\sklearn\\tree\\_classes.py:315: FutureWarning: The min_impurity_split parameter is deprecated. Its default value has changed from 1e-7 to 0 in version 0.23, and it will be removed in 1.0 (renaming of 0.25). Use the min_impurity_decrease parameter instead.\n",
      "  warnings.warn(\n",
      "D:\\New folder\\lib\\site-packages\\sklearn\\tree\\_classes.py:315: FutureWarning: The min_impurity_split parameter is deprecated. Its default value has changed from 1e-7 to 0 in version 0.23, and it will be removed in 1.0 (renaming of 0.25). Use the min_impurity_decrease parameter instead.\n",
      "  warnings.warn(\n",
      "D:\\New folder\\lib\\site-packages\\sklearn\\tree\\_classes.py:315: FutureWarning: The min_impurity_split parameter is deprecated. Its default value has changed from 1e-7 to 0 in version 0.23, and it will be removed in 1.0 (renaming of 0.25). Use the min_impurity_decrease parameter instead.\n",
      "  warnings.warn(\n",
      "D:\\New folder\\lib\\site-packages\\sklearn\\tree\\_classes.py:315: FutureWarning: The min_impurity_split parameter is deprecated. Its default value has changed from 1e-7 to 0 in version 0.23, and it will be removed in 1.0 (renaming of 0.25). Use the min_impurity_decrease parameter instead.\n",
      "  warnings.warn(\n",
      "D:\\New folder\\lib\\site-packages\\sklearn\\tree\\_classes.py:315: FutureWarning: The min_impurity_split parameter is deprecated. Its default value has changed from 1e-7 to 0 in version 0.23, and it will be removed in 1.0 (renaming of 0.25). Use the min_impurity_decrease parameter instead.\n",
      "  warnings.warn(\n",
      "D:\\New folder\\lib\\site-packages\\sklearn\\tree\\_classes.py:315: FutureWarning: The min_impurity_split parameter is deprecated. Its default value has changed from 1e-7 to 0 in version 0.23, and it will be removed in 1.0 (renaming of 0.25). Use the min_impurity_decrease parameter instead.\n",
      "  warnings.warn(\n",
      "D:\\New folder\\lib\\site-packages\\sklearn\\tree\\_classes.py:315: FutureWarning: The min_impurity_split parameter is deprecated. Its default value has changed from 1e-7 to 0 in version 0.23, and it will be removed in 1.0 (renaming of 0.25). Use the min_impurity_decrease parameter instead.\n",
      "  warnings.warn(\n",
      "D:\\New folder\\lib\\site-packages\\sklearn\\tree\\_classes.py:315: FutureWarning: The min_impurity_split parameter is deprecated. Its default value has changed from 1e-7 to 0 in version 0.23, and it will be removed in 1.0 (renaming of 0.25). Use the min_impurity_decrease parameter instead.\n",
      "  warnings.warn(\n",
      "D:\\New folder\\lib\\site-packages\\sklearn\\tree\\_classes.py:315: FutureWarning: The min_impurity_split parameter is deprecated. Its default value has changed from 1e-7 to 0 in version 0.23, and it will be removed in 1.0 (renaming of 0.25). Use the min_impurity_decrease parameter instead.\n",
      "  warnings.warn(\n",
      "D:\\New folder\\lib\\site-packages\\sklearn\\tree\\_classes.py:315: FutureWarning: The min_impurity_split parameter is deprecated. Its default value has changed from 1e-7 to 0 in version 0.23, and it will be removed in 1.0 (renaming of 0.25). Use the min_impurity_decrease parameter instead.\n",
      "  warnings.warn(\n",
      "D:\\New folder\\lib\\site-packages\\sklearn\\tree\\_classes.py:315: FutureWarning: The min_impurity_split parameter is deprecated. Its default value has changed from 1e-7 to 0 in version 0.23, and it will be removed in 1.0 (renaming of 0.25). Use the min_impurity_decrease parameter instead.\n",
      "  warnings.warn(\n",
      "D:\\New folder\\lib\\site-packages\\sklearn\\tree\\_classes.py:315: FutureWarning: The min_impurity_split parameter is deprecated. Its default value has changed from 1e-7 to 0 in version 0.23, and it will be removed in 1.0 (renaming of 0.25). Use the min_impurity_decrease parameter instead.\n",
      "  warnings.warn(\n",
      "D:\\New folder\\lib\\site-packages\\sklearn\\tree\\_classes.py:315: FutureWarning: The min_impurity_split parameter is deprecated. Its default value has changed from 1e-7 to 0 in version 0.23, and it will be removed in 1.0 (renaming of 0.25). Use the min_impurity_decrease parameter instead.\n",
      "  warnings.warn(\n",
      "D:\\New folder\\lib\\site-packages\\sklearn\\tree\\_classes.py:315: FutureWarning: The min_impurity_split parameter is deprecated. Its default value has changed from 1e-7 to 0 in version 0.23, and it will be removed in 1.0 (renaming of 0.25). Use the min_impurity_decrease parameter instead.\n",
      "  warnings.warn(\n",
      "D:\\New folder\\lib\\site-packages\\sklearn\\tree\\_classes.py:315: FutureWarning: The min_impurity_split parameter is deprecated. Its default value has changed from 1e-7 to 0 in version 0.23, and it will be removed in 1.0 (renaming of 0.25). Use the min_impurity_decrease parameter instead.\n",
      "  warnings.warn(\n",
      "D:\\New folder\\lib\\site-packages\\sklearn\\tree\\_classes.py:315: FutureWarning: The min_impurity_split parameter is deprecated. Its default value has changed from 1e-7 to 0 in version 0.23, and it will be removed in 1.0 (renaming of 0.25). Use the min_impurity_decrease parameter instead.\n",
      "  warnings.warn(\n",
      "D:\\New folder\\lib\\site-packages\\sklearn\\tree\\_classes.py:315: FutureWarning: The min_impurity_split parameter is deprecated. Its default value has changed from 1e-7 to 0 in version 0.23, and it will be removed in 1.0 (renaming of 0.25). Use the min_impurity_decrease parameter instead.\n",
      "  warnings.warn(\n",
      "D:\\New folder\\lib\\site-packages\\sklearn\\tree\\_classes.py:315: FutureWarning: The min_impurity_split parameter is deprecated. Its default value has changed from 1e-7 to 0 in version 0.23, and it will be removed in 1.0 (renaming of 0.25). Use the min_impurity_decrease parameter instead.\n",
      "  warnings.warn(\n",
      "D:\\New folder\\lib\\site-packages\\sklearn\\tree\\_classes.py:315: FutureWarning: The min_impurity_split parameter is deprecated. Its default value has changed from 1e-7 to 0 in version 0.23, and it will be removed in 1.0 (renaming of 0.25). Use the min_impurity_decrease parameter instead.\n",
      "  warnings.warn(\n",
      "D:\\New folder\\lib\\site-packages\\sklearn\\tree\\_classes.py:315: FutureWarning: The min_impurity_split parameter is deprecated. Its default value has changed from 1e-7 to 0 in version 0.23, and it will be removed in 1.0 (renaming of 0.25). Use the min_impurity_decrease parameter instead.\n",
      "  warnings.warn(\n",
      "D:\\New folder\\lib\\site-packages\\sklearn\\tree\\_classes.py:315: FutureWarning: The min_impurity_split parameter is deprecated. Its default value has changed from 1e-7 to 0 in version 0.23, and it will be removed in 1.0 (renaming of 0.25). Use the min_impurity_decrease parameter instead.\n",
      "  warnings.warn(\n",
      "D:\\New folder\\lib\\site-packages\\sklearn\\tree\\_classes.py:315: FutureWarning: The min_impurity_split parameter is deprecated. Its default value has changed from 1e-7 to 0 in version 0.23, and it will be removed in 1.0 (renaming of 0.25). Use the min_impurity_decrease parameter instead.\n",
      "  warnings.warn(\n",
      "D:\\New folder\\lib\\site-packages\\sklearn\\tree\\_classes.py:315: FutureWarning: The min_impurity_split parameter is deprecated. Its default value has changed from 1e-7 to 0 in version 0.23, and it will be removed in 1.0 (renaming of 0.25). Use the min_impurity_decrease parameter instead.\n",
      "  warnings.warn(\n",
      "D:\\New folder\\lib\\site-packages\\sklearn\\tree\\_classes.py:315: FutureWarning: The min_impurity_split parameter is deprecated. Its default value has changed from 1e-7 to 0 in version 0.23, and it will be removed in 1.0 (renaming of 0.25). Use the min_impurity_decrease parameter instead.\n",
      "  warnings.warn(\n",
      "D:\\New folder\\lib\\site-packages\\sklearn\\tree\\_classes.py:315: FutureWarning: The min_impurity_split parameter is deprecated. Its default value has changed from 1e-7 to 0 in version 0.23, and it will be removed in 1.0 (renaming of 0.25). Use the min_impurity_decrease parameter instead.\n",
      "  warnings.warn(\n",
      "D:\\New folder\\lib\\site-packages\\sklearn\\tree\\_classes.py:315: FutureWarning: The min_impurity_split parameter is deprecated. Its default value has changed from 1e-7 to 0 in version 0.23, and it will be removed in 1.0 (renaming of 0.25). Use the min_impurity_decrease parameter instead.\n",
      "  warnings.warn(\n",
      "D:\\New folder\\lib\\site-packages\\sklearn\\tree\\_classes.py:315: FutureWarning: The min_impurity_split parameter is deprecated. Its default value has changed from 1e-7 to 0 in version 0.23, and it will be removed in 1.0 (renaming of 0.25). Use the min_impurity_decrease parameter instead.\n",
      "  warnings.warn(\n",
      "D:\\New folder\\lib\\site-packages\\sklearn\\tree\\_classes.py:315: FutureWarning: The min_impurity_split parameter is deprecated. Its default value has changed from 1e-7 to 0 in version 0.23, and it will be removed in 1.0 (renaming of 0.25). Use the min_impurity_decrease parameter instead.\n",
      "  warnings.warn(\n",
      "D:\\New folder\\lib\\site-packages\\sklearn\\tree\\_classes.py:315: FutureWarning: The min_impurity_split parameter is deprecated. Its default value has changed from 1e-7 to 0 in version 0.23, and it will be removed in 1.0 (renaming of 0.25). Use the min_impurity_decrease parameter instead.\n",
      "  warnings.warn(\n",
      "D:\\New folder\\lib\\site-packages\\sklearn\\tree\\_classes.py:315: FutureWarning: The min_impurity_split parameter is deprecated. Its default value has changed from 1e-7 to 0 in version 0.23, and it will be removed in 1.0 (renaming of 0.25). Use the min_impurity_decrease parameter instead.\n",
      "  warnings.warn(\n",
      "D:\\New folder\\lib\\site-packages\\sklearn\\tree\\_classes.py:315: FutureWarning: The min_impurity_split parameter is deprecated. Its default value has changed from 1e-7 to 0 in version 0.23, and it will be removed in 1.0 (renaming of 0.25). Use the min_impurity_decrease parameter instead.\n",
      "  warnings.warn(\n",
      "D:\\New folder\\lib\\site-packages\\sklearn\\tree\\_classes.py:315: FutureWarning: The min_impurity_split parameter is deprecated. Its default value has changed from 1e-7 to 0 in version 0.23, and it will be removed in 1.0 (renaming of 0.25). Use the min_impurity_decrease parameter instead.\n",
      "  warnings.warn(\n",
      "D:\\New folder\\lib\\site-packages\\sklearn\\tree\\_classes.py:315: FutureWarning: The min_impurity_split parameter is deprecated. Its default value has changed from 1e-7 to 0 in version 0.23, and it will be removed in 1.0 (renaming of 0.25). Use the min_impurity_decrease parameter instead.\n",
      "  warnings.warn(\n",
      "D:\\New folder\\lib\\site-packages\\sklearn\\tree\\_classes.py:315: FutureWarning: The min_impurity_split parameter is deprecated. Its default value has changed from 1e-7 to 0 in version 0.23, and it will be removed in 1.0 (renaming of 0.25). Use the min_impurity_decrease parameter instead.\n",
      "  warnings.warn(\n",
      "D:\\New folder\\lib\\site-packages\\sklearn\\tree\\_classes.py:315: FutureWarning: The min_impurity_split parameter is deprecated. Its default value has changed from 1e-7 to 0 in version 0.23, and it will be removed in 1.0 (renaming of 0.25). Use the min_impurity_decrease parameter instead.\n",
      "  warnings.warn(\n",
      "D:\\New folder\\lib\\site-packages\\sklearn\\tree\\_classes.py:315: FutureWarning: The min_impurity_split parameter is deprecated. Its default value has changed from 1e-7 to 0 in version 0.23, and it will be removed in 1.0 (renaming of 0.25). Use the min_impurity_decrease parameter instead.\n",
      "  warnings.warn(\n",
      "D:\\New folder\\lib\\site-packages\\sklearn\\tree\\_classes.py:315: FutureWarning: The min_impurity_split parameter is deprecated. Its default value has changed from 1e-7 to 0 in version 0.23, and it will be removed in 1.0 (renaming of 0.25). Use the min_impurity_decrease parameter instead.\n",
      "  warnings.warn(\n",
      "D:\\New folder\\lib\\site-packages\\sklearn\\tree\\_classes.py:315: FutureWarning: The min_impurity_split parameter is deprecated. Its default value has changed from 1e-7 to 0 in version 0.23, and it will be removed in 1.0 (renaming of 0.25). Use the min_impurity_decrease parameter instead.\n",
      "  warnings.warn(\n",
      "D:\\New folder\\lib\\site-packages\\sklearn\\tree\\_classes.py:315: FutureWarning: The min_impurity_split parameter is deprecated. Its default value has changed from 1e-7 to 0 in version 0.23, and it will be removed in 1.0 (renaming of 0.25). Use the min_impurity_decrease parameter instead.\n",
      "  warnings.warn(\n",
      "D:\\New folder\\lib\\site-packages\\sklearn\\tree\\_classes.py:315: FutureWarning: The min_impurity_split parameter is deprecated. Its default value has changed from 1e-7 to 0 in version 0.23, and it will be removed in 1.0 (renaming of 0.25). Use the min_impurity_decrease parameter instead.\n",
      "  warnings.warn(\n",
      "D:\\New folder\\lib\\site-packages\\sklearn\\tree\\_classes.py:315: FutureWarning: The min_impurity_split parameter is deprecated. Its default value has changed from 1e-7 to 0 in version 0.23, and it will be removed in 1.0 (renaming of 0.25). Use the min_impurity_decrease parameter instead.\n",
      "  warnings.warn(\n",
      "D:\\New folder\\lib\\site-packages\\sklearn\\tree\\_classes.py:315: FutureWarning: The min_impurity_split parameter is deprecated. Its default value has changed from 1e-7 to 0 in version 0.23, and it will be removed in 1.0 (renaming of 0.25). Use the min_impurity_decrease parameter instead.\n",
      "  warnings.warn(\n",
      "D:\\New folder\\lib\\site-packages\\sklearn\\tree\\_classes.py:315: FutureWarning: The min_impurity_split parameter is deprecated. Its default value has changed from 1e-7 to 0 in version 0.23, and it will be removed in 1.0 (renaming of 0.25). Use the min_impurity_decrease parameter instead.\n",
      "  warnings.warn(\n",
      "D:\\New folder\\lib\\site-packages\\sklearn\\tree\\_classes.py:315: FutureWarning: The min_impurity_split parameter is deprecated. Its default value has changed from 1e-7 to 0 in version 0.23, and it will be removed in 1.0 (renaming of 0.25). Use the min_impurity_decrease parameter instead.\n",
      "  warnings.warn(\n",
      "D:\\New folder\\lib\\site-packages\\sklearn\\tree\\_classes.py:315: FutureWarning: The min_impurity_split parameter is deprecated. Its default value has changed from 1e-7 to 0 in version 0.23, and it will be removed in 1.0 (renaming of 0.25). Use the min_impurity_decrease parameter instead.\n",
      "  warnings.warn(\n",
      "D:\\New folder\\lib\\site-packages\\sklearn\\tree\\_classes.py:315: FutureWarning: The min_impurity_split parameter is deprecated. Its default value has changed from 1e-7 to 0 in version 0.23, and it will be removed in 1.0 (renaming of 0.25). Use the min_impurity_decrease parameter instead.\n",
      "  warnings.warn(\n",
      "D:\\New folder\\lib\\site-packages\\sklearn\\tree\\_classes.py:315: FutureWarning: The min_impurity_split parameter is deprecated. Its default value has changed from 1e-7 to 0 in version 0.23, and it will be removed in 1.0 (renaming of 0.25). Use the min_impurity_decrease parameter instead.\n",
      "  warnings.warn(\n",
      "D:\\New folder\\lib\\site-packages\\sklearn\\tree\\_classes.py:315: FutureWarning: The min_impurity_split parameter is deprecated. Its default value has changed from 1e-7 to 0 in version 0.23, and it will be removed in 1.0 (renaming of 0.25). Use the min_impurity_decrease parameter instead.\n",
      "  warnings.warn(\n",
      "D:\\New folder\\lib\\site-packages\\sklearn\\tree\\_classes.py:315: FutureWarning: The min_impurity_split parameter is deprecated. Its default value has changed from 1e-7 to 0 in version 0.23, and it will be removed in 1.0 (renaming of 0.25). Use the min_impurity_decrease parameter instead.\n",
      "  warnings.warn(\n",
      "D:\\New folder\\lib\\site-packages\\sklearn\\tree\\_classes.py:315: FutureWarning: The min_impurity_split parameter is deprecated. Its default value has changed from 1e-7 to 0 in version 0.23, and it will be removed in 1.0 (renaming of 0.25). Use the min_impurity_decrease parameter instead.\n",
      "  warnings.warn(\n",
      "D:\\New folder\\lib\\site-packages\\sklearn\\tree\\_classes.py:315: FutureWarning: The min_impurity_split parameter is deprecated. Its default value has changed from 1e-7 to 0 in version 0.23, and it will be removed in 1.0 (renaming of 0.25). Use the min_impurity_decrease parameter instead.\n",
      "  warnings.warn(\n",
      "D:\\New folder\\lib\\site-packages\\sklearn\\tree\\_classes.py:315: FutureWarning: The min_impurity_split parameter is deprecated. Its default value has changed from 1e-7 to 0 in version 0.23, and it will be removed in 1.0 (renaming of 0.25). Use the min_impurity_decrease parameter instead.\n",
      "  warnings.warn(\n",
      "D:\\New folder\\lib\\site-packages\\sklearn\\tree\\_classes.py:315: FutureWarning: The min_impurity_split parameter is deprecated. Its default value has changed from 1e-7 to 0 in version 0.23, and it will be removed in 1.0 (renaming of 0.25). Use the min_impurity_decrease parameter instead.\n",
      "  warnings.warn(\n",
      "D:\\New folder\\lib\\site-packages\\sklearn\\tree\\_classes.py:315: FutureWarning: The min_impurity_split parameter is deprecated. Its default value has changed from 1e-7 to 0 in version 0.23, and it will be removed in 1.0 (renaming of 0.25). Use the min_impurity_decrease parameter instead.\n",
      "  warnings.warn(\n",
      "D:\\New folder\\lib\\site-packages\\sklearn\\tree\\_classes.py:315: FutureWarning: The min_impurity_split parameter is deprecated. Its default value has changed from 1e-7 to 0 in version 0.23, and it will be removed in 1.0 (renaming of 0.25). Use the min_impurity_decrease parameter instead.\n",
      "  warnings.warn(\n",
      "D:\\New folder\\lib\\site-packages\\sklearn\\tree\\_classes.py:315: FutureWarning: The min_impurity_split parameter is deprecated. Its default value has changed from 1e-7 to 0 in version 0.23, and it will be removed in 1.0 (renaming of 0.25). Use the min_impurity_decrease parameter instead.\n",
      "  warnings.warn(\n",
      "D:\\New folder\\lib\\site-packages\\sklearn\\tree\\_classes.py:315: FutureWarning: The min_impurity_split parameter is deprecated. Its default value has changed from 1e-7 to 0 in version 0.23, and it will be removed in 1.0 (renaming of 0.25). Use the min_impurity_decrease parameter instead.\n",
      "  warnings.warn(\n",
      "D:\\New folder\\lib\\site-packages\\sklearn\\tree\\_classes.py:315: FutureWarning: The min_impurity_split parameter is deprecated. Its default value has changed from 1e-7 to 0 in version 0.23, and it will be removed in 1.0 (renaming of 0.25). Use the min_impurity_decrease parameter instead.\n",
      "  warnings.warn(\n",
      "D:\\New folder\\lib\\site-packages\\sklearn\\tree\\_classes.py:315: FutureWarning: The min_impurity_split parameter is deprecated. Its default value has changed from 1e-7 to 0 in version 0.23, and it will be removed in 1.0 (renaming of 0.25). Use the min_impurity_decrease parameter instead.\n",
      "  warnings.warn(\n",
      "D:\\New folder\\lib\\site-packages\\sklearn\\tree\\_classes.py:315: FutureWarning: The min_impurity_split parameter is deprecated. Its default value has changed from 1e-7 to 0 in version 0.23, and it will be removed in 1.0 (renaming of 0.25). Use the min_impurity_decrease parameter instead.\n",
      "  warnings.warn(\n",
      "D:\\New folder\\lib\\site-packages\\sklearn\\tree\\_classes.py:315: FutureWarning: The min_impurity_split parameter is deprecated. Its default value has changed from 1e-7 to 0 in version 0.23, and it will be removed in 1.0 (renaming of 0.25). Use the min_impurity_decrease parameter instead.\n",
      "  warnings.warn(\n",
      "D:\\New folder\\lib\\site-packages\\sklearn\\tree\\_classes.py:315: FutureWarning: The min_impurity_split parameter is deprecated. Its default value has changed from 1e-7 to 0 in version 0.23, and it will be removed in 1.0 (renaming of 0.25). Use the min_impurity_decrease parameter instead.\n",
      "  warnings.warn(\n",
      "D:\\New folder\\lib\\site-packages\\sklearn\\tree\\_classes.py:315: FutureWarning: The min_impurity_split parameter is deprecated. Its default value has changed from 1e-7 to 0 in version 0.23, and it will be removed in 1.0 (renaming of 0.25). Use the min_impurity_decrease parameter instead.\n",
      "  warnings.warn(\n",
      "D:\\New folder\\lib\\site-packages\\sklearn\\tree\\_classes.py:315: FutureWarning: The min_impurity_split parameter is deprecated. Its default value has changed from 1e-7 to 0 in version 0.23, and it will be removed in 1.0 (renaming of 0.25). Use the min_impurity_decrease parameter instead.\n",
      "  warnings.warn(\n",
      "D:\\New folder\\lib\\site-packages\\sklearn\\tree\\_classes.py:315: FutureWarning: The min_impurity_split parameter is deprecated. Its default value has changed from 1e-7 to 0 in version 0.23, and it will be removed in 1.0 (renaming of 0.25). Use the min_impurity_decrease parameter instead.\n",
      "  warnings.warn(\n",
      "D:\\New folder\\lib\\site-packages\\sklearn\\tree\\_classes.py:315: FutureWarning: The min_impurity_split parameter is deprecated. Its default value has changed from 1e-7 to 0 in version 0.23, and it will be removed in 1.0 (renaming of 0.25). Use the min_impurity_decrease parameter instead.\n",
      "  warnings.warn(\n",
      "D:\\New folder\\lib\\site-packages\\sklearn\\tree\\_classes.py:315: FutureWarning: The min_impurity_split parameter is deprecated. Its default value has changed from 1e-7 to 0 in version 0.23, and it will be removed in 1.0 (renaming of 0.25). Use the min_impurity_decrease parameter instead.\n",
      "  warnings.warn(\n",
      "D:\\New folder\\lib\\site-packages\\sklearn\\tree\\_classes.py:315: FutureWarning: The min_impurity_split parameter is deprecated. Its default value has changed from 1e-7 to 0 in version 0.23, and it will be removed in 1.0 (renaming of 0.25). Use the min_impurity_decrease parameter instead.\n",
      "  warnings.warn(\n",
      "D:\\New folder\\lib\\site-packages\\sklearn\\tree\\_classes.py:315: FutureWarning: The min_impurity_split parameter is deprecated. Its default value has changed from 1e-7 to 0 in version 0.23, and it will be removed in 1.0 (renaming of 0.25). Use the min_impurity_decrease parameter instead.\n",
      "  warnings.warn(\n",
      "D:\\New folder\\lib\\site-packages\\sklearn\\tree\\_classes.py:315: FutureWarning: The min_impurity_split parameter is deprecated. Its default value has changed from 1e-7 to 0 in version 0.23, and it will be removed in 1.0 (renaming of 0.25). Use the min_impurity_decrease parameter instead.\n",
      "  warnings.warn(\n",
      "D:\\New folder\\lib\\site-packages\\sklearn\\tree\\_classes.py:315: FutureWarning: The min_impurity_split parameter is deprecated. Its default value has changed from 1e-7 to 0 in version 0.23, and it will be removed in 1.0 (renaming of 0.25). Use the min_impurity_decrease parameter instead.\n",
      "  warnings.warn(\n",
      "D:\\New folder\\lib\\site-packages\\sklearn\\tree\\_classes.py:315: FutureWarning: The min_impurity_split parameter is deprecated. Its default value has changed from 1e-7 to 0 in version 0.23, and it will be removed in 1.0 (renaming of 0.25). Use the min_impurity_decrease parameter instead.\n",
      "  warnings.warn(\n",
      "D:\\New folder\\lib\\site-packages\\sklearn\\tree\\_classes.py:315: FutureWarning: The min_impurity_split parameter is deprecated. Its default value has changed from 1e-7 to 0 in version 0.23, and it will be removed in 1.0 (renaming of 0.25). Use the min_impurity_decrease parameter instead.\n",
      "  warnings.warn(\n",
      "D:\\New folder\\lib\\site-packages\\sklearn\\tree\\_classes.py:315: FutureWarning: The min_impurity_split parameter is deprecated. Its default value has changed from 1e-7 to 0 in version 0.23, and it will be removed in 1.0 (renaming of 0.25). Use the min_impurity_decrease parameter instead.\n",
      "  warnings.warn(\n",
      "D:\\New folder\\lib\\site-packages\\sklearn\\tree\\_classes.py:315: FutureWarning: The min_impurity_split parameter is deprecated. Its default value has changed from 1e-7 to 0 in version 0.23, and it will be removed in 1.0 (renaming of 0.25). Use the min_impurity_decrease parameter instead.\n",
      "  warnings.warn(\n",
      "D:\\New folder\\lib\\site-packages\\sklearn\\tree\\_classes.py:315: FutureWarning: The min_impurity_split parameter is deprecated. Its default value has changed from 1e-7 to 0 in version 0.23, and it will be removed in 1.0 (renaming of 0.25). Use the min_impurity_decrease parameter instead.\n",
      "  warnings.warn(\n",
      "D:\\New folder\\lib\\site-packages\\sklearn\\tree\\_classes.py:315: FutureWarning: The min_impurity_split parameter is deprecated. Its default value has changed from 1e-7 to 0 in version 0.23, and it will be removed in 1.0 (renaming of 0.25). Use the min_impurity_decrease parameter instead.\n",
      "  warnings.warn(\n",
      "D:\\New folder\\lib\\site-packages\\sklearn\\tree\\_classes.py:315: FutureWarning: The min_impurity_split parameter is deprecated. Its default value has changed from 1e-7 to 0 in version 0.23, and it will be removed in 1.0 (renaming of 0.25). Use the min_impurity_decrease parameter instead.\n",
      "  warnings.warn(\n",
      "D:\\New folder\\lib\\site-packages\\sklearn\\tree\\_classes.py:315: FutureWarning: The min_impurity_split parameter is deprecated. Its default value has changed from 1e-7 to 0 in version 0.23, and it will be removed in 1.0 (renaming of 0.25). Use the min_impurity_decrease parameter instead.\n",
      "  warnings.warn(\n",
      "D:\\New folder\\lib\\site-packages\\sklearn\\tree\\_classes.py:315: FutureWarning: The min_impurity_split parameter is deprecated. Its default value has changed from 1e-7 to 0 in version 0.23, and it will be removed in 1.0 (renaming of 0.25). Use the min_impurity_decrease parameter instead.\n",
      "  warnings.warn(\n",
      "D:\\New folder\\lib\\site-packages\\sklearn\\tree\\_classes.py:315: FutureWarning: The min_impurity_split parameter is deprecated. Its default value has changed from 1e-7 to 0 in version 0.23, and it will be removed in 1.0 (renaming of 0.25). Use the min_impurity_decrease parameter instead.\n",
      "  warnings.warn(\n",
      "D:\\New folder\\lib\\site-packages\\sklearn\\tree\\_classes.py:315: FutureWarning: The min_impurity_split parameter is deprecated. Its default value has changed from 1e-7 to 0 in version 0.23, and it will be removed in 1.0 (renaming of 0.25). Use the min_impurity_decrease parameter instead.\n",
      "  warnings.warn(\n",
      "D:\\New folder\\lib\\site-packages\\sklearn\\tree\\_classes.py:315: FutureWarning: The min_impurity_split parameter is deprecated. Its default value has changed from 1e-7 to 0 in version 0.23, and it will be removed in 1.0 (renaming of 0.25). Use the min_impurity_decrease parameter instead.\n",
      "  warnings.warn(\n",
      "D:\\New folder\\lib\\site-packages\\sklearn\\tree\\_classes.py:315: FutureWarning: The min_impurity_split parameter is deprecated. Its default value has changed from 1e-7 to 0 in version 0.23, and it will be removed in 1.0 (renaming of 0.25). Use the min_impurity_decrease parameter instead.\n",
      "  warnings.warn(\n",
      "D:\\New folder\\lib\\site-packages\\sklearn\\tree\\_classes.py:315: FutureWarning: The min_impurity_split parameter is deprecated. Its default value has changed from 1e-7 to 0 in version 0.23, and it will be removed in 1.0 (renaming of 0.25). Use the min_impurity_decrease parameter instead.\n",
      "  warnings.warn(\n",
      "D:\\New folder\\lib\\site-packages\\sklearn\\tree\\_classes.py:315: FutureWarning: The min_impurity_split parameter is deprecated. Its default value has changed from 1e-7 to 0 in version 0.23, and it will be removed in 1.0 (renaming of 0.25). Use the min_impurity_decrease parameter instead.\n",
      "  warnings.warn(\n",
      "D:\\New folder\\lib\\site-packages\\sklearn\\tree\\_classes.py:315: FutureWarning: The min_impurity_split parameter is deprecated. Its default value has changed from 1e-7 to 0 in version 0.23, and it will be removed in 1.0 (renaming of 0.25). Use the min_impurity_decrease parameter instead.\n",
      "  warnings.warn(\n",
      "D:\\New folder\\lib\\site-packages\\sklearn\\tree\\_classes.py:315: FutureWarning: The min_impurity_split parameter is deprecated. Its default value has changed from 1e-7 to 0 in version 0.23, and it will be removed in 1.0 (renaming of 0.25). Use the min_impurity_decrease parameter instead.\n",
      "  warnings.warn(\n",
      "D:\\New folder\\lib\\site-packages\\sklearn\\tree\\_classes.py:315: FutureWarning: The min_impurity_split parameter is deprecated. Its default value has changed from 1e-7 to 0 in version 0.23, and it will be removed in 1.0 (renaming of 0.25). Use the min_impurity_decrease parameter instead.\n",
      "  warnings.warn(\n",
      "D:\\New folder\\lib\\site-packages\\sklearn\\tree\\_classes.py:315: FutureWarning: The min_impurity_split parameter is deprecated. Its default value has changed from 1e-7 to 0 in version 0.23, and it will be removed in 1.0 (renaming of 0.25). Use the min_impurity_decrease parameter instead.\n",
      "  warnings.warn(\n",
      "D:\\New folder\\lib\\site-packages\\sklearn\\tree\\_classes.py:315: FutureWarning: The min_impurity_split parameter is deprecated. Its default value has changed from 1e-7 to 0 in version 0.23, and it will be removed in 1.0 (renaming of 0.25). Use the min_impurity_decrease parameter instead.\n",
      "  warnings.warn(\n",
      "D:\\New folder\\lib\\site-packages\\sklearn\\tree\\_classes.py:315: FutureWarning: The min_impurity_split parameter is deprecated. Its default value has changed from 1e-7 to 0 in version 0.23, and it will be removed in 1.0 (renaming of 0.25). Use the min_impurity_decrease parameter instead.\n",
      "  warnings.warn(\n",
      "D:\\New folder\\lib\\site-packages\\sklearn\\tree\\_classes.py:315: FutureWarning: The min_impurity_split parameter is deprecated. Its default value has changed from 1e-7 to 0 in version 0.23, and it will be removed in 1.0 (renaming of 0.25). Use the min_impurity_decrease parameter instead.\n",
      "  warnings.warn(\n",
      "D:\\New folder\\lib\\site-packages\\sklearn\\tree\\_classes.py:315: FutureWarning: The min_impurity_split parameter is deprecated. Its default value has changed from 1e-7 to 0 in version 0.23, and it will be removed in 1.0 (renaming of 0.25). Use the min_impurity_decrease parameter instead.\n",
      "  warnings.warn(\n",
      "D:\\New folder\\lib\\site-packages\\sklearn\\tree\\_classes.py:315: FutureWarning: The min_impurity_split parameter is deprecated. Its default value has changed from 1e-7 to 0 in version 0.23, and it will be removed in 1.0 (renaming of 0.25). Use the min_impurity_decrease parameter instead.\n",
      "  warnings.warn(\n",
      "D:\\New folder\\lib\\site-packages\\sklearn\\tree\\_classes.py:315: FutureWarning: The min_impurity_split parameter is deprecated. Its default value has changed from 1e-7 to 0 in version 0.23, and it will be removed in 1.0 (renaming of 0.25). Use the min_impurity_decrease parameter instead.\n",
      "  warnings.warn(\n",
      "D:\\New folder\\lib\\site-packages\\sklearn\\tree\\_classes.py:315: FutureWarning: The min_impurity_split parameter is deprecated. Its default value has changed from 1e-7 to 0 in version 0.23, and it will be removed in 1.0 (renaming of 0.25). Use the min_impurity_decrease parameter instead.\n",
      "  warnings.warn(\n",
      "D:\\New folder\\lib\\site-packages\\sklearn\\tree\\_classes.py:315: FutureWarning: The min_impurity_split parameter is deprecated. Its default value has changed from 1e-7 to 0 in version 0.23, and it will be removed in 1.0 (renaming of 0.25). Use the min_impurity_decrease parameter instead.\n",
      "  warnings.warn(\n",
      "D:\\New folder\\lib\\site-packages\\sklearn\\tree\\_classes.py:315: FutureWarning: The min_impurity_split parameter is deprecated. Its default value has changed from 1e-7 to 0 in version 0.23, and it will be removed in 1.0 (renaming of 0.25). Use the min_impurity_decrease parameter instead.\n",
      "  warnings.warn(\n",
      "D:\\New folder\\lib\\site-packages\\sklearn\\tree\\_classes.py:315: FutureWarning: The min_impurity_split parameter is deprecated. Its default value has changed from 1e-7 to 0 in version 0.23, and it will be removed in 1.0 (renaming of 0.25). Use the min_impurity_decrease parameter instead.\n",
      "  warnings.warn(\n",
      "D:\\New folder\\lib\\site-packages\\sklearn\\tree\\_classes.py:315: FutureWarning: The min_impurity_split parameter is deprecated. Its default value has changed from 1e-7 to 0 in version 0.23, and it will be removed in 1.0 (renaming of 0.25). Use the min_impurity_decrease parameter instead.\n",
      "  warnings.warn(\n",
      "D:\\New folder\\lib\\site-packages\\sklearn\\tree\\_classes.py:315: FutureWarning: The min_impurity_split parameter is deprecated. Its default value has changed from 1e-7 to 0 in version 0.23, and it will be removed in 1.0 (renaming of 0.25). Use the min_impurity_decrease parameter instead.\n",
      "  warnings.warn(\n",
      "D:\\New folder\\lib\\site-packages\\sklearn\\tree\\_classes.py:315: FutureWarning: The min_impurity_split parameter is deprecated. Its default value has changed from 1e-7 to 0 in version 0.23, and it will be removed in 1.0 (renaming of 0.25). Use the min_impurity_decrease parameter instead.\n",
      "  warnings.warn(\n",
      "D:\\New folder\\lib\\site-packages\\sklearn\\tree\\_classes.py:315: FutureWarning: The min_impurity_split parameter is deprecated. Its default value has changed from 1e-7 to 0 in version 0.23, and it will be removed in 1.0 (renaming of 0.25). Use the min_impurity_decrease parameter instead.\n",
      "  warnings.warn(\n",
      "D:\\New folder\\lib\\site-packages\\sklearn\\tree\\_classes.py:315: FutureWarning: The min_impurity_split parameter is deprecated. Its default value has changed from 1e-7 to 0 in version 0.23, and it will be removed in 1.0 (renaming of 0.25). Use the min_impurity_decrease parameter instead.\n",
      "  warnings.warn(\n",
      "D:\\New folder\\lib\\site-packages\\sklearn\\tree\\_classes.py:315: FutureWarning: The min_impurity_split parameter is deprecated. Its default value has changed from 1e-7 to 0 in version 0.23, and it will be removed in 1.0 (renaming of 0.25). Use the min_impurity_decrease parameter instead.\n",
      "  warnings.warn(\n",
      "D:\\New folder\\lib\\site-packages\\sklearn\\tree\\_classes.py:315: FutureWarning: The min_impurity_split parameter is deprecated. Its default value has changed from 1e-7 to 0 in version 0.23, and it will be removed in 1.0 (renaming of 0.25). Use the min_impurity_decrease parameter instead.\n",
      "  warnings.warn(\n",
      "D:\\New folder\\lib\\site-packages\\sklearn\\tree\\_classes.py:315: FutureWarning: The min_impurity_split parameter is deprecated. Its default value has changed from 1e-7 to 0 in version 0.23, and it will be removed in 1.0 (renaming of 0.25). Use the min_impurity_decrease parameter instead.\n",
      "  warnings.warn(\n",
      "D:\\New folder\\lib\\site-packages\\sklearn\\tree\\_classes.py:315: FutureWarning: The min_impurity_split parameter is deprecated. Its default value has changed from 1e-7 to 0 in version 0.23, and it will be removed in 1.0 (renaming of 0.25). Use the min_impurity_decrease parameter instead.\n",
      "  warnings.warn(\n",
      "D:\\New folder\\lib\\site-packages\\sklearn\\tree\\_classes.py:315: FutureWarning: The min_impurity_split parameter is deprecated. Its default value has changed from 1e-7 to 0 in version 0.23, and it will be removed in 1.0 (renaming of 0.25). Use the min_impurity_decrease parameter instead.\n",
      "  warnings.warn(\n",
      "D:\\New folder\\lib\\site-packages\\sklearn\\tree\\_classes.py:315: FutureWarning: The min_impurity_split parameter is deprecated. Its default value has changed from 1e-7 to 0 in version 0.23, and it will be removed in 1.0 (renaming of 0.25). Use the min_impurity_decrease parameter instead.\n",
      "  warnings.warn(\n",
      "D:\\New folder\\lib\\site-packages\\sklearn\\tree\\_classes.py:315: FutureWarning: The min_impurity_split parameter is deprecated. Its default value has changed from 1e-7 to 0 in version 0.23, and it will be removed in 1.0 (renaming of 0.25). Use the min_impurity_decrease parameter instead.\n",
      "  warnings.warn(\n",
      "D:\\New folder\\lib\\site-packages\\sklearn\\tree\\_classes.py:315: FutureWarning: The min_impurity_split parameter is deprecated. Its default value has changed from 1e-7 to 0 in version 0.23, and it will be removed in 1.0 (renaming of 0.25). Use the min_impurity_decrease parameter instead.\n",
      "  warnings.warn(\n",
      "D:\\New folder\\lib\\site-packages\\sklearn\\tree\\_classes.py:315: FutureWarning: The min_impurity_split parameter is deprecated. Its default value has changed from 1e-7 to 0 in version 0.23, and it will be removed in 1.0 (renaming of 0.25). Use the min_impurity_decrease parameter instead.\n",
      "  warnings.warn(\n",
      "D:\\New folder\\lib\\site-packages\\sklearn\\tree\\_classes.py:315: FutureWarning: The min_impurity_split parameter is deprecated. Its default value has changed from 1e-7 to 0 in version 0.23, and it will be removed in 1.0 (renaming of 0.25). Use the min_impurity_decrease parameter instead.\n",
      "  warnings.warn(\n",
      "D:\\New folder\\lib\\site-packages\\sklearn\\tree\\_classes.py:315: FutureWarning: The min_impurity_split parameter is deprecated. Its default value has changed from 1e-7 to 0 in version 0.23, and it will be removed in 1.0 (renaming of 0.25). Use the min_impurity_decrease parameter instead.\n",
      "  warnings.warn(\n",
      "D:\\New folder\\lib\\site-packages\\sklearn\\tree\\_classes.py:315: FutureWarning: The min_impurity_split parameter is deprecated. Its default value has changed from 1e-7 to 0 in version 0.23, and it will be removed in 1.0 (renaming of 0.25). Use the min_impurity_decrease parameter instead.\n",
      "  warnings.warn(\n",
      "D:\\New folder\\lib\\site-packages\\sklearn\\tree\\_classes.py:315: FutureWarning: The min_impurity_split parameter is deprecated. Its default value has changed from 1e-7 to 0 in version 0.23, and it will be removed in 1.0 (renaming of 0.25). Use the min_impurity_decrease parameter instead.\n",
      "  warnings.warn(\n",
      "D:\\New folder\\lib\\site-packages\\sklearn\\tree\\_classes.py:315: FutureWarning: The min_impurity_split parameter is deprecated. Its default value has changed from 1e-7 to 0 in version 0.23, and it will be removed in 1.0 (renaming of 0.25). Use the min_impurity_decrease parameter instead.\n",
      "  warnings.warn(\n",
      "D:\\New folder\\lib\\site-packages\\sklearn\\tree\\_classes.py:315: FutureWarning: The min_impurity_split parameter is deprecated. Its default value has changed from 1e-7 to 0 in version 0.23, and it will be removed in 1.0 (renaming of 0.25). Use the min_impurity_decrease parameter instead.\n",
      "  warnings.warn(\n",
      "D:\\New folder\\lib\\site-packages\\sklearn\\tree\\_classes.py:315: FutureWarning: The min_impurity_split parameter is deprecated. Its default value has changed from 1e-7 to 0 in version 0.23, and it will be removed in 1.0 (renaming of 0.25). Use the min_impurity_decrease parameter instead.\n",
      "  warnings.warn(\n",
      "D:\\New folder\\lib\\site-packages\\sklearn\\tree\\_classes.py:315: FutureWarning: The min_impurity_split parameter is deprecated. Its default value has changed from 1e-7 to 0 in version 0.23, and it will be removed in 1.0 (renaming of 0.25). Use the min_impurity_decrease parameter instead.\n",
      "  warnings.warn(\n",
      "D:\\New folder\\lib\\site-packages\\sklearn\\tree\\_classes.py:315: FutureWarning: The min_impurity_split parameter is deprecated. Its default value has changed from 1e-7 to 0 in version 0.23, and it will be removed in 1.0 (renaming of 0.25). Use the min_impurity_decrease parameter instead.\n",
      "  warnings.warn(\n",
      "D:\\New folder\\lib\\site-packages\\sklearn\\tree\\_classes.py:315: FutureWarning: The min_impurity_split parameter is deprecated. Its default value has changed from 1e-7 to 0 in version 0.23, and it will be removed in 1.0 (renaming of 0.25). Use the min_impurity_decrease parameter instead.\n",
      "  warnings.warn(\n",
      "D:\\New folder\\lib\\site-packages\\sklearn\\tree\\_classes.py:315: FutureWarning: The min_impurity_split parameter is deprecated. Its default value has changed from 1e-7 to 0 in version 0.23, and it will be removed in 1.0 (renaming of 0.25). Use the min_impurity_decrease parameter instead.\n",
      "  warnings.warn(\n",
      "D:\\New folder\\lib\\site-packages\\sklearn\\tree\\_classes.py:315: FutureWarning: The min_impurity_split parameter is deprecated. Its default value has changed from 1e-7 to 0 in version 0.23, and it will be removed in 1.0 (renaming of 0.25). Use the min_impurity_decrease parameter instead.\n",
      "  warnings.warn(\n",
      "D:\\New folder\\lib\\site-packages\\sklearn\\tree\\_classes.py:315: FutureWarning: The min_impurity_split parameter is deprecated. Its default value has changed from 1e-7 to 0 in version 0.23, and it will be removed in 1.0 (renaming of 0.25). Use the min_impurity_decrease parameter instead.\n",
      "  warnings.warn(\n",
      "D:\\New folder\\lib\\site-packages\\sklearn\\tree\\_classes.py:315: FutureWarning: The min_impurity_split parameter is deprecated. Its default value has changed from 1e-7 to 0 in version 0.23, and it will be removed in 1.0 (renaming of 0.25). Use the min_impurity_decrease parameter instead.\n",
      "  warnings.warn(\n",
      "D:\\New folder\\lib\\site-packages\\sklearn\\tree\\_classes.py:315: FutureWarning: The min_impurity_split parameter is deprecated. Its default value has changed from 1e-7 to 0 in version 0.23, and it will be removed in 1.0 (renaming of 0.25). Use the min_impurity_decrease parameter instead.\n",
      "  warnings.warn(\n",
      "D:\\New folder\\lib\\site-packages\\sklearn\\tree\\_classes.py:315: FutureWarning: The min_impurity_split parameter is deprecated. Its default value has changed from 1e-7 to 0 in version 0.23, and it will be removed in 1.0 (renaming of 0.25). Use the min_impurity_decrease parameter instead.\n",
      "  warnings.warn(\n",
      "D:\\New folder\\lib\\site-packages\\sklearn\\tree\\_classes.py:315: FutureWarning: The min_impurity_split parameter is deprecated. Its default value has changed from 1e-7 to 0 in version 0.23, and it will be removed in 1.0 (renaming of 0.25). Use the min_impurity_decrease parameter instead.\n",
      "  warnings.warn(\n",
      "D:\\New folder\\lib\\site-packages\\sklearn\\tree\\_classes.py:315: FutureWarning: The min_impurity_split parameter is deprecated. Its default value has changed from 1e-7 to 0 in version 0.23, and it will be removed in 1.0 (renaming of 0.25). Use the min_impurity_decrease parameter instead.\n",
      "  warnings.warn(\n",
      "D:\\New folder\\lib\\site-packages\\sklearn\\tree\\_classes.py:315: FutureWarning: The min_impurity_split parameter is deprecated. Its default value has changed from 1e-7 to 0 in version 0.23, and it will be removed in 1.0 (renaming of 0.25). Use the min_impurity_decrease parameter instead.\n",
      "  warnings.warn(\n",
      "D:\\New folder\\lib\\site-packages\\sklearn\\tree\\_classes.py:315: FutureWarning: The min_impurity_split parameter is deprecated. Its default value has changed from 1e-7 to 0 in version 0.23, and it will be removed in 1.0 (renaming of 0.25). Use the min_impurity_decrease parameter instead.\n",
      "  warnings.warn(\n"
     ]
    },
    {
     "data": {
      "text/plain": [
       "GridSearchCV(cv=2, estimator=RandomForestClassifier(random_state=49), n_jobs=-1,\n",
       "             param_grid={'max_depth': [2, 3, 4], 'max_leaf_nodes': [3, 4],\n",
       "                         'max_samples': [3, 4, 5],\n",
       "                         'min_impurity_decrease': [0.0, 0.1],\n",
       "                         'min_impurity_split': [0.1, 0.2],\n",
       "                         'min_samples_leaf': [1, 2],\n",
       "                         'min_samples_split': [2, 3, 4],\n",
       "                         'min_weight_fraction_leaf': [0.0, 0.1],\n",
       "                         'n_estimators': [470, 480, 500]},\n",
       "             verbose=2)"
      ]
     },
     "execution_count": 52,
     "metadata": {},
     "output_type": "execute_result"
    }
   ],
   "source": [
    "grid.fit(trainx_res,trainy_res)"
   ]
  },
  {
   "cell_type": "code",
   "execution_count": 53,
   "id": "001b7384",
   "metadata": {},
   "outputs": [
    {
     "data": {
      "text/plain": [
       "{'max_depth': 3,\n",
       " 'max_leaf_nodes': 4,\n",
       " 'max_samples': 5,\n",
       " 'min_impurity_decrease': 0.0,\n",
       " 'min_impurity_split': 0.1,\n",
       " 'min_samples_leaf': 1,\n",
       " 'min_samples_split': 3,\n",
       " 'min_weight_fraction_leaf': 0.0,\n",
       " 'n_estimators': 480}"
      ]
     },
     "execution_count": 53,
     "metadata": {},
     "output_type": "execute_result"
    }
   ],
   "source": [
    "grid.best_params_"
   ]
  },
  {
   "cell_type": "code",
   "execution_count": 63,
   "id": "44fa6ce1",
   "metadata": {},
   "outputs": [],
   "source": [
    "rf_grid=RandomForestClassifier(criterion= 'gini',max_depth=3,max_leaf_nodes=4,max_samples=5,min_samples_leaf=3,\n",
    "                               min_samples_split=4,n_estimators=480,random_state=8)\n"
   ]
  },
  {
   "cell_type": "code",
   "execution_count": 64,
   "id": "fae372ec",
   "metadata": {},
   "outputs": [],
   "source": [
    "rf_grid.fit(trainx_res,trainy_res)\n",
    "rf_grid_predict=rf_grid.predict(testx)"
   ]
  },
  {
   "cell_type": "code",
   "execution_count": 65,
   "id": "6624fdf5",
   "metadata": {},
   "outputs": [
    {
     "name": "stdout",
     "output_type": "stream",
     "text": [
      "f1_score - 0.43162393162393164\n",
      "Accuracy_score - 0.7593984962406015\n",
      "Mean_squared_error - 0.24060150375939848\n"
     ]
    }
   ],
   "source": [
    "print('f1_score -',f1_score(testy,rf_grid_predict,average='macro'))\n",
    "print('Accuracy_score -',accuracy_score(testy,rf_grid_predict))\n",
    "print('Mean_squared_error -',mean_squared_error(testy,rf_grid_predict))"
   ]
  },
  {
   "cell_type": "markdown",
   "id": "6b696d6a",
   "metadata": {},
   "source": [
    "## DecisionTreeClassifier"
   ]
  },
  {
   "cell_type": "code",
   "execution_count": 66,
   "id": "e995fb26",
   "metadata": {},
   "outputs": [],
   "source": [
    "dc=DecisionTreeClassifier(random_state=42)\n",
    "dc.fit(trainx_res,trainy_res)\n",
    "dc_pred=dc.predict(testx)\n"
   ]
  },
  {
   "cell_type": "code",
   "execution_count": 67,
   "id": "1c96bc87",
   "metadata": {},
   "outputs": [
    {
     "name": "stdout",
     "output_type": "stream",
     "text": [
      "f1_score - 0.5057910680883493\n",
      "Accuracy_score - 0.6007518796992481\n",
      "Mean_squared_error - 0.39924812030075185\n"
     ]
    }
   ],
   "source": [
    "print('f1_score -',f1_score(testy,dc_pred,average='macro'))\n",
    "print('Accuracy_score -',accuracy_score(testy,dc_pred))\n",
    "print('Mean_squared_error -',mean_squared_error(testy,dc_pred))"
   ]
  },
  {
   "cell_type": "code",
   "execution_count": 68,
   "id": "ab83adcd",
   "metadata": {},
   "outputs": [],
   "source": [
    "dc_param_grid={'splitter':[\"best\", \"random\"],'criterion':['gini','entropy'],'max_depth':[1,2,3],\n",
    "'min_samples_split':[1,2,3],'min_samples_leaf':[1,2,3],'max_leaf_nodes':[1,2,3]}"
   ]
  },
  {
   "cell_type": "code",
   "execution_count": 69,
   "id": "55f8cb3d",
   "metadata": {},
   "outputs": [
    {
     "data": {
      "text/plain": [
       "dict_keys(['ccp_alpha', 'class_weight', 'criterion', 'max_depth', 'max_features', 'max_leaf_nodes', 'min_impurity_decrease', 'min_impurity_split', 'min_samples_leaf', 'min_samples_split', 'min_weight_fraction_leaf', 'random_state', 'splitter'])"
      ]
     },
     "execution_count": 69,
     "metadata": {},
     "output_type": "execute_result"
    }
   ],
   "source": [
    "dc.get_params().keys()"
   ]
  },
  {
   "cell_type": "code",
   "execution_count": 70,
   "id": "5315bcb0",
   "metadata": {},
   "outputs": [
    {
     "name": "stdout",
     "output_type": "stream",
     "text": [
      "Fitting 5 folds for each of 324 candidates, totalling 1620 fits\n"
     ]
    },
    {
     "name": "stderr",
     "output_type": "stream",
     "text": [
      "D:\\New folder\\lib\\site-packages\\sklearn\\model_selection\\_search.py:918: UserWarning: One or more of the test scores are non-finite: [       nan        nan        nan        nan        nan        nan\n",
      "        nan        nan        nan        nan        nan        nan\n",
      "        nan        nan        nan        nan        nan        nan\n",
      "        nan        nan 0.63576345 0.63576345 0.63576345 0.63576345\n",
      "        nan        nan 0.63576345 0.63576345 0.63576345 0.63576345\n",
      "        nan        nan 0.63576345 0.63576345 0.63576345 0.63576345\n",
      "        nan        nan 0.63576345 0.63576345 0.63576345 0.63576345\n",
      "        nan        nan 0.63576345 0.63576345 0.63576345 0.63576345\n",
      "        nan        nan 0.63576345 0.63576345 0.63576345 0.63576345\n",
      "        nan        nan        nan        nan        nan        nan\n",
      "        nan        nan        nan        nan        nan        nan\n",
      "        nan        nan        nan        nan        nan        nan\n",
      "        nan        nan 0.63576345 0.63576345 0.63576345 0.63576345\n",
      "        nan        nan 0.63576345 0.63576345 0.63576345 0.63576345\n",
      "        nan        nan 0.63576345 0.63576345 0.63576345 0.63576345\n",
      "        nan        nan 0.63345469 0.63345469 0.63345469 0.63345469\n",
      "        nan        nan 0.63345469 0.63345469 0.63345469 0.63345469\n",
      "        nan        nan 0.63345469 0.63345469 0.63345469 0.63345469\n",
      "        nan        nan        nan        nan        nan        nan\n",
      "        nan        nan        nan        nan        nan        nan\n",
      "        nan        nan        nan        nan        nan        nan\n",
      "        nan        nan 0.63576345 0.63576345 0.63576345 0.63576345\n",
      "        nan        nan 0.63576345 0.63576345 0.63576345 0.63576345\n",
      "        nan        nan 0.63576345 0.63576345 0.63576345 0.63576345\n",
      "        nan        nan 0.63345469 0.63345469 0.63345469 0.63345469\n",
      "        nan        nan 0.63345469 0.63345469 0.63345469 0.63345469\n",
      "        nan        nan 0.63345469 0.63345469 0.63345469 0.63345469\n",
      "        nan        nan        nan        nan        nan        nan\n",
      "        nan        nan        nan        nan        nan        nan\n",
      "        nan        nan        nan        nan        nan        nan\n",
      "        nan        nan 0.63576345 0.63576345 0.63576345 0.63576345\n",
      "        nan        nan 0.63576345 0.63576345 0.63576345 0.63576345\n",
      "        nan        nan 0.63576345 0.63576345 0.63576345 0.63576345\n",
      "        nan        nan 0.63576345 0.63576345 0.63576345 0.63576345\n",
      "        nan        nan 0.63576345 0.63576345 0.63576345 0.63576345\n",
      "        nan        nan 0.63576345 0.63576345 0.63576345 0.63576345\n",
      "        nan        nan        nan        nan        nan        nan\n",
      "        nan        nan        nan        nan        nan        nan\n",
      "        nan        nan        nan        nan        nan        nan\n",
      "        nan        nan 0.63576345 0.63576345 0.63576345 0.63576345\n",
      "        nan        nan 0.63576345 0.63576345 0.63576345 0.63576345\n",
      "        nan        nan 0.63576345 0.63576345 0.63576345 0.63576345\n",
      "        nan        nan 0.63345469 0.63345469 0.63345469 0.63345469\n",
      "        nan        nan 0.63345469 0.63345469 0.63345469 0.63345469\n",
      "        nan        nan 0.63345469 0.63345469 0.63345469 0.63345469\n",
      "        nan        nan        nan        nan        nan        nan\n",
      "        nan        nan        nan        nan        nan        nan\n",
      "        nan        nan        nan        nan        nan        nan\n",
      "        nan        nan 0.63576345 0.63576345 0.63576345 0.63576345\n",
      "        nan        nan 0.63576345 0.63576345 0.63576345 0.63576345\n",
      "        nan        nan 0.63576345 0.63576345 0.63576345 0.63576345\n",
      "        nan        nan 0.63345469 0.63345469 0.63345469 0.63345469\n",
      "        nan        nan 0.63345469 0.63345469 0.63345469 0.63345469\n",
      "        nan        nan 0.63345469 0.63345469 0.63345469 0.63345469]\n",
      "  warnings.warn(\n"
     ]
    },
    {
     "data": {
      "text/plain": [
       "GridSearchCV(cv=5, estimator=DecisionTreeClassifier(random_state=42), n_jobs=-1,\n",
       "             param_grid={'criterion': ['gini', 'entropy'],\n",
       "                         'max_depth': [1, 2, 3], 'max_leaf_nodes': [1, 2, 3],\n",
       "                         'min_samples_leaf': [1, 2, 3],\n",
       "                         'min_samples_split': [1, 2, 3],\n",
       "                         'splitter': ['best', 'random']},\n",
       "             verbose=2)"
      ]
     },
     "execution_count": 70,
     "metadata": {},
     "output_type": "execute_result"
    }
   ],
   "source": [
    "dc_grid=GridSearchCV(estimator=dc,param_grid=dc_param_grid,n_jobs=-1,cv=5,verbose=2)\n",
    "dc_grid.fit(trainx_res,trainy_res)"
   ]
  },
  {
   "cell_type": "code",
   "execution_count": 71,
   "id": "6d317791",
   "metadata": {},
   "outputs": [
    {
     "data": {
      "text/plain": [
       "{'criterion': 'gini',\n",
       " 'max_depth': 1,\n",
       " 'max_leaf_nodes': 2,\n",
       " 'min_samples_leaf': 1,\n",
       " 'min_samples_split': 2,\n",
       " 'splitter': 'best'}"
      ]
     },
     "execution_count": 71,
     "metadata": {},
     "output_type": "execute_result"
    }
   ],
   "source": [
    "dc_grid.best_params_"
   ]
  },
  {
   "cell_type": "code",
   "execution_count": 73,
   "id": "5b7d3fcf",
   "metadata": {},
   "outputs": [],
   "source": [
    "dc_final=DecisionTreeClassifier(criterion= 'gini', max_depth=2,max_leaf_nodes=3,min_samples_leaf= 1,\n",
    "min_samples_split= 2,splitter='best',random_state=42)"
   ]
  },
  {
   "cell_type": "code",
   "execution_count": 74,
   "id": "8051e268",
   "metadata": {},
   "outputs": [],
   "source": [
    "dc_final.fit(trainx_res,trainy_res)\n",
    "dc_final_pred=dc_final.predict(testx)"
   ]
  },
  {
   "cell_type": "code",
   "execution_count": 75,
   "id": "3a157968",
   "metadata": {},
   "outputs": [
    {
     "name": "stdout",
     "output_type": "stream",
     "text": [
      "f1_score - 0.5557332137517903\n",
      "Accuracy_score - 0.6157894736842106\n",
      "Mean_squared_error - 0.38421052631578945\n"
     ]
    }
   ],
   "source": [
    "print('f1_score -',f1_score(testy,dc_final_pred,average='macro'))\n",
    "print('Accuracy_score -',accuracy_score(testy,dc_final_pred))\n",
    "print('Mean_squared_error -',mean_squared_error(testy,dc_final_pred))"
   ]
  },
  {
   "cell_type": "markdown",
   "id": "5b7a19ff",
   "metadata": {},
   "source": [
    "## Support Vector Machines"
   ]
  },
  {
   "cell_type": "code",
   "execution_count": 76,
   "id": "208ace45",
   "metadata": {},
   "outputs": [],
   "source": [
    "svc=SVC(random_state=43)\n",
    "svc.fit(trainx_res,trainy_res)\n",
    "svc_pred=svc.predict(testx)"
   ]
  },
  {
   "cell_type": "code",
   "execution_count": 77,
   "id": "c3a3c244",
   "metadata": {},
   "outputs": [
    {
     "name": "stdout",
     "output_type": "stream",
     "text": [
      "f1_score - 0.5357894736842105\n",
      "Accuracy_score - 0.6210526315789474\n",
      "Mean_squared_error - 0.37894736842105264\n"
     ]
    }
   ],
   "source": [
    "print('f1_score -',f1_score(testy,svc_pred,average='macro'))\n",
    "print('Accuracy_score -',accuracy_score(testy,svc_pred))\n",
    "print('Mean_squared_error -',mean_squared_error(testy,svc_pred))"
   ]
  },
  {
   "cell_type": "markdown",
   "id": "1b7894c3",
   "metadata": {},
   "source": [
    "## Naive Bayes"
   ]
  },
  {
   "cell_type": "markdown",
   "id": "f7766bff",
   "metadata": {},
   "source": [
    "### GaussianNB"
   ]
  },
  {
   "cell_type": "code",
   "execution_count": 78,
   "id": "97ec97a6",
   "metadata": {},
   "outputs": [],
   "source": [
    "g_model=GaussianNB()\n",
    "g_model.fit(trainx_res,trainy_res)\n",
    "g_model_pred=g_model.predict(testx)"
   ]
  },
  {
   "cell_type": "code",
   "execution_count": 79,
   "id": "edf252d4",
   "metadata": {},
   "outputs": [
    {
     "name": "stdout",
     "output_type": "stream",
     "text": [
      "f1_score - 0.5410006663321733\n",
      "Accuracy_score - 0.6090225563909775\n",
      "Mean_squared_error - 0.39097744360902253\n"
     ]
    }
   ],
   "source": [
    "print('f1_score -',f1_score(testy,g_model_pred,average='macro'))\n",
    "print('Accuracy_score -',accuracy_score(testy,g_model_pred))\n",
    "print('Mean_squared_error -',mean_squared_error(testy,g_model_pred))"
   ]
  },
  {
   "cell_type": "markdown",
   "id": "ad25c631",
   "metadata": {},
   "source": [
    "## XGBClassifier"
   ]
  },
  {
   "cell_type": "code",
   "execution_count": 80,
   "id": "14534f45",
   "metadata": {},
   "outputs": [],
   "source": [
    "from xgboost import XGBClassifier"
   ]
  },
  {
   "cell_type": "code",
   "execution_count": 81,
   "id": "9d2781e8",
   "metadata": {},
   "outputs": [],
   "source": [
    "xgb=XGBClassifier()"
   ]
  },
  {
   "cell_type": "code",
   "execution_count": 82,
   "id": "cf1d4f99",
   "metadata": {},
   "outputs": [
    {
     "name": "stderr",
     "output_type": "stream",
     "text": [
      "D:\\New folder\\lib\\site-packages\\xgboost\\sklearn.py:1224: UserWarning: The use of label encoder in XGBClassifier is deprecated and will be removed in a future release. To remove this warning, do the following: 1) Pass option use_label_encoder=False when constructing XGBClassifier object; and 2) Encode your labels (y) as integers starting with 0, i.e. 0, 1, 2, ..., [num_class - 1].\n",
      "  warnings.warn(label_encoder_deprecation_msg, UserWarning)\n"
     ]
    },
    {
     "name": "stdout",
     "output_type": "stream",
     "text": [
      "[11:06:47] WARNING: C:/Users/Administrator/workspace/xgboost-win64_release_1.5.1/src/learner.cc:1115: Starting in XGBoost 1.3.0, the default evaluation metric used with the objective 'binary:logistic' was changed from 'error' to 'logloss'. Explicitly set eval_metric if you'd like to restore the old behavior.\n"
     ]
    }
   ],
   "source": [
    "xgb.fit(trainx_res,trainy_res)\n",
    "xgb_pred=g_model.predict(testx)"
   ]
  },
  {
   "cell_type": "code",
   "execution_count": 83,
   "id": "769efc7f",
   "metadata": {},
   "outputs": [
    {
     "name": "stdout",
     "output_type": "stream",
     "text": [
      "f1_score - 0.5410006663321733\n",
      "Accuracy_score - 0.6090225563909775\n",
      "Mean_squared_error - 0.39097744360902253\n"
     ]
    }
   ],
   "source": [
    "print('f1_score -',f1_score(testy,xgb_pred,average='macro'))\n",
    "print('Accuracy_score -',accuracy_score(testy,xgb_pred))\n",
    "print('Mean_squared_error -',mean_squared_error(testy,xgb_pred))"
   ]
  },
  {
   "cell_type": "markdown",
   "id": "1d94a555",
   "metadata": {},
   "source": [
    "## AdaBoostClassifier"
   ]
  },
  {
   "cell_type": "code",
   "execution_count": 84,
   "id": "a27e9721",
   "metadata": {},
   "outputs": [],
   "source": [
    "from sklearn.ensemble import AdaBoostClassifier"
   ]
  },
  {
   "cell_type": "code",
   "execution_count": 85,
   "id": "614dd1d5",
   "metadata": {},
   "outputs": [],
   "source": [
    "adc=AdaBoostClassifier(n_estimators=300, algorithm = \"SAMME\", learning_rate = 0.9, random_state= 72)"
   ]
  },
  {
   "cell_type": "code",
   "execution_count": 86,
   "id": "3e137e91",
   "metadata": {},
   "outputs": [
    {
     "data": {
      "text/plain": [
       "AdaBoostClassifier(algorithm='SAMME', learning_rate=0.9, n_estimators=300,\n",
       "                   random_state=72)"
      ]
     },
     "execution_count": 86,
     "metadata": {},
     "output_type": "execute_result"
    }
   ],
   "source": [
    "adc.fit(trainx_res,trainy_res)"
   ]
  },
  {
   "cell_type": "code",
   "execution_count": 87,
   "id": "f8be9954",
   "metadata": {},
   "outputs": [],
   "source": [
    "adc_pred=adc.predict(testx)"
   ]
  },
  {
   "cell_type": "code",
   "execution_count": 88,
   "id": "3b55077b",
   "metadata": {},
   "outputs": [
    {
     "name": "stdout",
     "output_type": "stream",
     "text": [
      "f1_score - 0.5426246982388935\n",
      "Accuracy_score - 0.6225563909774436\n",
      "Mean_squared_error - 0.3774436090225564\n"
     ]
    }
   ],
   "source": [
    "print('f1_score -',f1_score(testy,adc_pred,average='macro'))\n",
    "print('Accuracy_score -',accuracy_score(testy,adc_pred))\n",
    "print('Mean_squared_error -',mean_squared_error(testy,adc_pred))"
   ]
  },
  {
   "cell_type": "code",
   "execution_count": 90,
   "id": "926b71f8",
   "metadata": {},
   "outputs": [],
   "source": [
    "rf_test_pred=rf_grid.predict(test)\n",
    "rf_final_submission=pd.DataFrame({'Is_Churn':rf_test_pred},index=[test_index])"
   ]
  },
  {
   "cell_type": "code",
   "execution_count": 91,
   "id": "fb593e80",
   "metadata": {},
   "outputs": [],
   "source": [
    "rf_file_name='rf_churn.csv'\n",
    "rf_final_submission.to_csv(rf_file_name)"
   ]
  },
  {
   "cell_type": "code",
   "execution_count": null,
   "id": "7f845388",
   "metadata": {},
   "outputs": [],
   "source": []
  }
 ],
 "metadata": {
  "kernelspec": {
   "display_name": "Python 3",
   "language": "python",
   "name": "python3"
  },
  "language_info": {
   "codemirror_mode": {
    "name": "ipython",
    "version": 3
   },
   "file_extension": ".py",
   "mimetype": "text/x-python",
   "name": "python",
   "nbconvert_exporter": "python",
   "pygments_lexer": "ipython3",
   "version": "3.8.8"
  }
 },
 "nbformat": 4,
 "nbformat_minor": 5
}
